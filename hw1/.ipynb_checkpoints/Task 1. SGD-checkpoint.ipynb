{
 "cells": [
  {
   "cell_type": "markdown",
   "metadata": {},
   "source": [
    "## Задание 1. Не использую готовые решения, реализовать SVD разложение используя SGD на explicit данных"
   ]
  },
  {
   "cell_type": "code",
   "execution_count": 1,
   "metadata": {},
   "outputs": [],
   "source": [
    "import pandas as pd\n",
    "import numpy as np\n",
    "import scipy.sparse as sp\n",
    "from tqdm.notebook import tqdm, trange\n",
    "import time    # to be used in loop iterations"
   ]
  },
  {
   "cell_type": "code",
   "execution_count": 2,
   "metadata": {},
   "outputs": [],
   "source": [
    "ratings = pd.read_csv('ds/ratings.dat', delimiter='::', header=None,\n",
    "                      names=['user_id', 'movie_id', 'rating', 'timestamp'],\n",
    "                      usecols=['user_id', 'movie_id', 'rating'], engine='python')"
   ]
  },
  {
   "cell_type": "code",
   "execution_count": 3,
   "metadata": {},
   "outputs": [],
   "source": [
    "movie_info = pd.read_csv('ds/movies.dat', delimiter='::', header=None,\n",
    "                         names=['movie_id', 'name', 'category'], engine='python')"
   ]
  },
  {
   "cell_type": "code",
   "execution_count": 4,
   "metadata": {},
   "outputs": [
    {
     "data": {
      "text/html": [
       "<div>\n",
       "<style scoped>\n",
       "    .dataframe tbody tr th:only-of-type {\n",
       "        vertical-align: middle;\n",
       "    }\n",
       "\n",
       "    .dataframe tbody tr th {\n",
       "        vertical-align: top;\n",
       "    }\n",
       "\n",
       "    .dataframe thead th {\n",
       "        text-align: right;\n",
       "    }\n",
       "</style>\n",
       "<table border=\"1\" class=\"dataframe\">\n",
       "  <thead>\n",
       "    <tr style=\"text-align: right;\">\n",
       "      <th></th>\n",
       "      <th>user_id</th>\n",
       "      <th>movie_id</th>\n",
       "      <th>rating</th>\n",
       "    </tr>\n",
       "  </thead>\n",
       "  <tbody>\n",
       "    <tr>\n",
       "      <th>0</th>\n",
       "      <td>1</td>\n",
       "      <td>1193</td>\n",
       "      <td>5</td>\n",
       "    </tr>\n",
       "    <tr>\n",
       "      <th>1</th>\n",
       "      <td>1</td>\n",
       "      <td>661</td>\n",
       "      <td>3</td>\n",
       "    </tr>\n",
       "    <tr>\n",
       "      <th>2</th>\n",
       "      <td>1</td>\n",
       "      <td>914</td>\n",
       "      <td>3</td>\n",
       "    </tr>\n",
       "    <tr>\n",
       "      <th>3</th>\n",
       "      <td>1</td>\n",
       "      <td>3408</td>\n",
       "      <td>4</td>\n",
       "    </tr>\n",
       "    <tr>\n",
       "      <th>4</th>\n",
       "      <td>1</td>\n",
       "      <td>2355</td>\n",
       "      <td>5</td>\n",
       "    </tr>\n",
       "    <tr>\n",
       "      <th>...</th>\n",
       "      <td>...</td>\n",
       "      <td>...</td>\n",
       "      <td>...</td>\n",
       "    </tr>\n",
       "    <tr>\n",
       "      <th>1000204</th>\n",
       "      <td>6040</td>\n",
       "      <td>1091</td>\n",
       "      <td>1</td>\n",
       "    </tr>\n",
       "    <tr>\n",
       "      <th>1000205</th>\n",
       "      <td>6040</td>\n",
       "      <td>1094</td>\n",
       "      <td>5</td>\n",
       "    </tr>\n",
       "    <tr>\n",
       "      <th>1000206</th>\n",
       "      <td>6040</td>\n",
       "      <td>562</td>\n",
       "      <td>5</td>\n",
       "    </tr>\n",
       "    <tr>\n",
       "      <th>1000207</th>\n",
       "      <td>6040</td>\n",
       "      <td>1096</td>\n",
       "      <td>4</td>\n",
       "    </tr>\n",
       "    <tr>\n",
       "      <th>1000208</th>\n",
       "      <td>6040</td>\n",
       "      <td>1097</td>\n",
       "      <td>4</td>\n",
       "    </tr>\n",
       "  </tbody>\n",
       "</table>\n",
       "<p>1000209 rows × 3 columns</p>\n",
       "</div>"
      ],
      "text/plain": [
       "         user_id  movie_id  rating\n",
       "0              1      1193       5\n",
       "1              1       661       3\n",
       "2              1       914       3\n",
       "3              1      3408       4\n",
       "4              1      2355       5\n",
       "...          ...       ...     ...\n",
       "1000204     6040      1091       1\n",
       "1000205     6040      1094       5\n",
       "1000206     6040       562       5\n",
       "1000207     6040      1096       4\n",
       "1000208     6040      1097       4\n",
       "\n",
       "[1000209 rows x 3 columns]"
      ]
     },
     "execution_count": 4,
     "metadata": {},
     "output_type": "execute_result"
    }
   ],
   "source": [
    "ratings"
   ]
  },
  {
   "cell_type": "code",
   "execution_count": 5,
   "metadata": {},
   "outputs": [
    {
     "data": {
      "text/html": [
       "<div>\n",
       "<style scoped>\n",
       "    .dataframe tbody tr th:only-of-type {\n",
       "        vertical-align: middle;\n",
       "    }\n",
       "\n",
       "    .dataframe tbody tr th {\n",
       "        vertical-align: top;\n",
       "    }\n",
       "\n",
       "    .dataframe thead th {\n",
       "        text-align: right;\n",
       "    }\n",
       "</style>\n",
       "<table border=\"1\" class=\"dataframe\">\n",
       "  <thead>\n",
       "    <tr style=\"text-align: right;\">\n",
       "      <th></th>\n",
       "      <th>movie_id</th>\n",
       "      <th>name</th>\n",
       "      <th>category</th>\n",
       "    </tr>\n",
       "  </thead>\n",
       "  <tbody>\n",
       "    <tr>\n",
       "      <th>0</th>\n",
       "      <td>1</td>\n",
       "      <td>Toy Story (1995)</td>\n",
       "      <td>Animation|Children's|Comedy</td>\n",
       "    </tr>\n",
       "    <tr>\n",
       "      <th>1</th>\n",
       "      <td>2</td>\n",
       "      <td>Jumanji (1995)</td>\n",
       "      <td>Adventure|Children's|Fantasy</td>\n",
       "    </tr>\n",
       "    <tr>\n",
       "      <th>2</th>\n",
       "      <td>3</td>\n",
       "      <td>Grumpier Old Men (1995)</td>\n",
       "      <td>Comedy|Romance</td>\n",
       "    </tr>\n",
       "    <tr>\n",
       "      <th>3</th>\n",
       "      <td>4</td>\n",
       "      <td>Waiting to Exhale (1995)</td>\n",
       "      <td>Comedy|Drama</td>\n",
       "    </tr>\n",
       "    <tr>\n",
       "      <th>4</th>\n",
       "      <td>5</td>\n",
       "      <td>Father of the Bride Part II (1995)</td>\n",
       "      <td>Comedy</td>\n",
       "    </tr>\n",
       "    <tr>\n",
       "      <th>...</th>\n",
       "      <td>...</td>\n",
       "      <td>...</td>\n",
       "      <td>...</td>\n",
       "    </tr>\n",
       "    <tr>\n",
       "      <th>3878</th>\n",
       "      <td>3948</td>\n",
       "      <td>Meet the Parents (2000)</td>\n",
       "      <td>Comedy</td>\n",
       "    </tr>\n",
       "    <tr>\n",
       "      <th>3879</th>\n",
       "      <td>3949</td>\n",
       "      <td>Requiem for a Dream (2000)</td>\n",
       "      <td>Drama</td>\n",
       "    </tr>\n",
       "    <tr>\n",
       "      <th>3880</th>\n",
       "      <td>3950</td>\n",
       "      <td>Tigerland (2000)</td>\n",
       "      <td>Drama</td>\n",
       "    </tr>\n",
       "    <tr>\n",
       "      <th>3881</th>\n",
       "      <td>3951</td>\n",
       "      <td>Two Family House (2000)</td>\n",
       "      <td>Drama</td>\n",
       "    </tr>\n",
       "    <tr>\n",
       "      <th>3882</th>\n",
       "      <td>3952</td>\n",
       "      <td>Contender, The (2000)</td>\n",
       "      <td>Drama|Thriller</td>\n",
       "    </tr>\n",
       "  </tbody>\n",
       "</table>\n",
       "<p>3883 rows × 3 columns</p>\n",
       "</div>"
      ],
      "text/plain": [
       "      movie_id                                name  \\\n",
       "0            1                    Toy Story (1995)   \n",
       "1            2                      Jumanji (1995)   \n",
       "2            3             Grumpier Old Men (1995)   \n",
       "3            4            Waiting to Exhale (1995)   \n",
       "4            5  Father of the Bride Part II (1995)   \n",
       "...        ...                                 ...   \n",
       "3878      3948             Meet the Parents (2000)   \n",
       "3879      3949          Requiem for a Dream (2000)   \n",
       "3880      3950                    Tigerland (2000)   \n",
       "3881      3951             Two Family House (2000)   \n",
       "3882      3952               Contender, The (2000)   \n",
       "\n",
       "                          category  \n",
       "0      Animation|Children's|Comedy  \n",
       "1     Adventure|Children's|Fantasy  \n",
       "2                   Comedy|Romance  \n",
       "3                     Comedy|Drama  \n",
       "4                           Comedy  \n",
       "...                            ...  \n",
       "3878                        Comedy  \n",
       "3879                         Drama  \n",
       "3880                         Drama  \n",
       "3881                         Drama  \n",
       "3882                Drama|Thriller  \n",
       "\n",
       "[3883 rows x 3 columns]"
      ]
     },
     "execution_count": 5,
     "metadata": {},
     "output_type": "execute_result"
    }
   ],
   "source": [
    "movie_info"
   ]
  },
  {
   "cell_type": "code",
   "execution_count": 9,
   "metadata": {},
   "outputs": [],
   "source": [
    "class SGDMatrixFactorizer:\n",
    "    def __init__(self, ratings, n_features):\n",
    "        self.n_features = n_features\n",
    "        self.ratings = ratings\n",
    "        self.np_ratings = ratings.to_numpy()\n",
    "        self.users_shape = max(ratings['user_id'])\n",
    "        self.movies_shape = max(ratings['movie_id'])\n",
    "        self.non_zero = len(ratings)\n",
    "        self.initialize_data()\n",
    "        \n",
    "        print(self.users_shape, self.movies_shape)\n",
    "\n",
    "    def initialize_data(self):\n",
    "        self.U = np.random.uniform(0, 1 / np.sqrt(self.n_features), (self.users_shape, self.n_features))\n",
    "        self.V = np.random.uniform(0, 1 / np.sqrt(self.n_features), (self.movies_shape, self.n_features))\n",
    "        self.bias_u = np.zeros(self.users_shape)\n",
    "        self.bias_v = np.zeros(self.movies_shape)\n",
    "        self.global_bias = np.mean(self.ratings['rating'])\n",
    "        print(self.global_bias)\n",
    "\n",
    "    def predict(self, user_id, movie_id):\n",
    "        return self.U[user_id, :].dot(self.V[movie_id, :].T) \\\n",
    "               + self.bias_u[user_id] \\\n",
    "               + self.bias_v[movie_id] \\\n",
    "               + self.global_bias\n",
    "\n",
    "    def mse(self):\n",
    "        err = 0\n",
    "        for i in range(self.non_zero):\n",
    "            user_id = self.np_ratings[i][0] - 1\n",
    "            movie_id = self.np_ratings[i][1] - 1\n",
    "            rating = self.np_ratings[i][2]\n",
    "            err += (self.predict(user_id, movie_id) - rating) ** 2\n",
    "        return err / self.non_zero\n",
    "\n",
    "\n",
    "    def fit(self, learning_rate=0.1, max_iter=100):\n",
    "        self.Q = self.mse()\n",
    "        print(\"Start MSE:\", self.Q)\n",
    "        for iter in trange(max_iter):\n",
    "            self.ratings.sample(frac=1)\n",
    "            self.np_ratings = ratings.to_numpy()\n",
    "            for rand_i in range(self.non_zero):\n",
    "#                 rand_i = np.random.randint(0, self.non_zero)\n",
    "                user_id = self.np_ratings[rand_i][0] - 1\n",
    "                movie_id = self.np_ratings[rand_i][1] - 1\n",
    "                rating = self.np_ratings[rand_i][2]\n",
    "\n",
    "                error = self.predict(user_id, movie_id) - rating\n",
    "                reg_param = 0.01\n",
    "\n",
    "                self.U[user_id] -= learning_rate * (error * self.V[movie_id] + reg_param * self.U[user_id])\n",
    "                self.V[movie_id] -= learning_rate * (error * self.U[user_id] + reg_param * self.V[movie_id])\n",
    "                self.bias_u[user_id] -= learning_rate * (error + reg_param * self.bias_u[user_id])\n",
    "                self.bias_v[movie_id] -= learning_rate * (error + reg_param * self.bias_v[movie_id])\n",
    "            if iter % 1 == 0:\n",
    "                self.Q = self.mse()\n",
    "                print(\"Iteration\", iter + 1,\"| MSE:\", self.Q)"
   ]
  },
  {
   "cell_type": "code",
   "execution_count": 10,
   "metadata": {},
   "outputs": [
    {
     "name": "stdout",
     "output_type": "stream",
     "text": [
      "3.581564453029317\n",
      "6040 3952\n"
     ]
    }
   ],
   "source": [
    "mf = SGDMatrixFactorizer(ratings, 64)"
   ]
  },
  {
   "cell_type": "markdown",
   "metadata": {},
   "source": [
    "Пробовал делать больше итераций (100), при этом MSE был ~0.23, но на мой взгляд произошло переобучение, и например 4 юзеру постоянно стали рекомендовать романтику/драмму, которым он ставил более хорошие оценки. А также get_similars выдавал менее релевантный результат."
   ]
  },
  {
   "cell_type": "code",
   "execution_count": 11,
   "metadata": {},
   "outputs": [
    {
     "name": "stdout",
     "output_type": "stream",
     "text": [
      "Start MSE: 1.3111098153638818\n"
     ]
    },
    {
     "data": {
      "application/vnd.jupyter.widget-view+json": {
       "model_id": "3b713ce3fb404130b9f0dc66bf3fc57c",
       "version_major": 2,
       "version_minor": 0
      },
      "text/plain": [
       "HBox(children=(HTML(value=''), FloatProgress(value=0.0, max=10.0), HTML(value='')))"
      ]
     },
     "metadata": {},
     "output_type": "display_data"
    },
    {
     "name": "stdout",
     "output_type": "stream",
     "text": [
      "Iteration 1 | MSE: 0.850210275605962\n",
      "Iteration 2 | MSE: 0.807843779757853\n",
      "Iteration 3 | MSE: 0.7840635657109228\n",
      "Iteration 4 | MSE: 0.7537741934179489\n",
      "Iteration 5 | MSE: 0.7165927247637814\n",
      "Iteration 6 | MSE: 0.6748620158153115\n",
      "Iteration 7 | MSE: 0.6308259150484516\n",
      "Iteration 8 | MSE: 0.5872639199842375\n",
      "Iteration 9 | MSE: 0.5465082443146726\n",
      "Iteration 10 | MSE: 0.5100397609933957\n",
      "\n"
     ]
    }
   ],
   "source": [
    "mf.fit(0.01, 10)"
   ]
  },
  {
   "cell_type": "code",
   "execution_count": 12,
   "metadata": {},
   "outputs": [],
   "source": [
    "def get_similars(movie_id, model):\n",
    "    movie_id -= 1\n",
    "    movie_matrix = model.V[movie_id]\n",
    "    movies = []\n",
    "    \n",
    "    for i, j in enumerate(model.V):\n",
    "        dist = np.linalg.norm(j - movie_matrix)\n",
    "        movies.append((i, dist))\n",
    "    sorted_movies = list(sorted(movies, key=lambda v: v[1]))\n",
    "    similars = []\n",
    "    for x in sorted_movies:\n",
    "        search = movie_info[movie_info[\"movie_id\"] - 1 == x[0]]\n",
    "        movie_name = search[\"name\"].to_string()\n",
    "        if len(search) > 0:\n",
    "            similars.append(movie_name)\n",
    "    return similars"
   ]
  },
  {
   "cell_type": "code",
   "execution_count": 13,
   "metadata": {},
   "outputs": [],
   "source": [
    "def get_user_history(user_id):\n",
    "    return [movie_info[movie_info[\"movie_id\"] == x][\"name\"].to_string() \n",
    "        for x in ratings[ratings[\"user_id\"] == user_id][\"movie_id\"]]"
   ]
  },
  {
   "cell_type": "markdown",
   "metadata": {},
   "source": [
    "Из рекомендаций выбрасываю фильмы, которые юзер уже посмотрел"
   ]
  },
  {
   "cell_type": "code",
   "execution_count": 14,
   "metadata": {},
   "outputs": [],
   "source": [
    "def get_recommendations(user_id, model):\n",
    "    user_id -= 1\n",
    "    \n",
    "    predictions = []\n",
    "    for movie_id in range(model.V.shape[0]):\n",
    "        predictions.append((movie_id, model.predict(user_id, movie_id)))\n",
    "    predictions = list(reversed(sorted(predictions, key=lambda v: v[1])))\n",
    "    recommendations = []\n",
    "\n",
    "#     print(predictions[:10])\n",
    "    for x in predictions:\n",
    "         recommendations.append(movie_info[movie_info[\"movie_id\"] - 1 == x[0]][\"name\"].to_string())\n",
    "    \n",
    "#     print(recommendations[:10])\n",
    "    to_remove = set(get_user_history(user_id + 1))\n",
    "    filtered_recommendations = [r for r in recommendations if r not in to_remove]\n",
    "    \n",
    "    return filtered_recommendations    "
   ]
  },
  {
   "cell_type": "code",
   "execution_count": 15,
   "metadata": {},
   "outputs": [
    {
     "data": {
      "text/plain": [
       "['0    Toy Story (1995)',\n",
       " '3045    Toy Story 2 (1999)',\n",
       " '1029    That Thing You Do! (1996)',\n",
       " \"2286    Bug's Life, A (1998)\",\n",
       " '922    Father of the Bride (1950)',\n",
       " '2692    Iron Giant, The (1999)',\n",
       " '3522    Mr. Mom (1983)',\n",
       " '1050    Aladdin and the King of Thieves (1996)',\n",
       " '2254    Cruise, The (1998)',\n",
       " '1838    Mulan (1998)']"
      ]
     },
     "execution_count": 15,
     "metadata": {},
     "output_type": "execute_result"
    }
   ],
   "source": [
    "get_similars(1, mf)[:10]"
   ]
  },
  {
   "cell_type": "code",
   "execution_count": 16,
   "metadata": {},
   "outputs": [
    {
     "data": {
      "text/plain": [
       "['900    Casablanca (1942)',\n",
       " '1189    To Kill a Mockingbird (1962)',\n",
       " '1950    Seven Samurai (The Magnificent Seven) (Shichin...',\n",
       " '2836    Sanjuro (1962)',\n",
       " '740    Dr. Strangelove or: How I Learned to Stop Worr...',\n",
       " '315    Shawshank Redemption, The (1994)',\n",
       " '3238    City Lights (1931)',\n",
       " '847    Godfather, The (1972)',\n",
       " '1186    Lawrence of Arabia (1962)',\n",
       " \"523    Schindler's List (1993)\",\n",
       " '589    Silence of the Lambs, The (1991)',\n",
       " \"1176    One Flew Over the Cuckoo's Nest (1975)\",\n",
       " '2134    Shadow of a Doubt (1943)',\n",
       " '2953    General, The (1927)',\n",
       " '1185    12 Angry Men (1957)',\n",
       " '892    Rear Window (1954)',\n",
       " '901    Maltese Falcon, The (1941)',\n",
       " '1242    Great Escape, The (1963)',\n",
       " '1876    On the Waterfront (1954)',\n",
       " '3026    Grapes of Wrath, The (1940)']"
      ]
     },
     "execution_count": 16,
     "metadata": {},
     "output_type": "execute_result"
    }
   ],
   "source": [
    "get_recommendations(4, mf)[:20]"
   ]
  },
  {
   "cell_type": "code",
   "execution_count": null,
   "metadata": {},
   "outputs": [],
   "source": []
  }
 ],
 "metadata": {
  "kernelspec": {
   "display_name": "PyCharm (Machine Learning)",
   "language": "python",
   "name": "pycharm-2419c8fd"
  },
  "language_info": {
   "codemirror_mode": {
    "name": "ipython",
    "version": 3
   },
   "file_extension": ".py",
   "mimetype": "text/x-python",
   "name": "python",
   "nbconvert_exporter": "python",
   "pygments_lexer": "ipython3",
   "version": "3.7.0"
  }
 },
 "nbformat": 4,
 "nbformat_minor": 4
}
