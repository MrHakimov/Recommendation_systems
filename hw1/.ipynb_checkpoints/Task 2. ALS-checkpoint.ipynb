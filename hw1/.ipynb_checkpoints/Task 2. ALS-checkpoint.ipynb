{
 "cells": [
  {
   "cell_type": "markdown",
   "metadata": {},
   "source": [
    "## Задание 2. Не использую готовые решения, реализовать матричное разложение используя ALS на implicit данных"
   ]
  },
  {
   "cell_type": "code",
   "execution_count": 1,
   "metadata": {},
   "outputs": [],
   "source": [
    "import pandas as pd\n",
    "import numpy as np\n",
    "import scipy.sparse as sparse\n",
    "from scipy.sparse.linalg import spsolve\n",
    "from tqdm.notebook import tqdm, trange\n",
    "import time    # to be used in loop iterations"
   ]
  },
  {
   "cell_type": "code",
   "execution_count": 2,
   "metadata": {},
   "outputs": [
    {
     "data": {
      "text/html": [
       "<div>\n",
       "<style scoped>\n",
       "    .dataframe tbody tr th:only-of-type {\n",
       "        vertical-align: middle;\n",
       "    }\n",
       "\n",
       "    .dataframe tbody tr th {\n",
       "        vertical-align: top;\n",
       "    }\n",
       "\n",
       "    .dataframe thead th {\n",
       "        text-align: right;\n",
       "    }\n",
       "</style>\n",
       "<table border=\"1\" class=\"dataframe\">\n",
       "  <thead>\n",
       "    <tr style=\"text-align: right;\">\n",
       "      <th></th>\n",
       "      <th>user_id</th>\n",
       "      <th>movie_id</th>\n",
       "      <th>rating</th>\n",
       "    </tr>\n",
       "  </thead>\n",
       "  <tbody>\n",
       "    <tr>\n",
       "      <th>0</th>\n",
       "      <td>1</td>\n",
       "      <td>1193</td>\n",
       "      <td>5</td>\n",
       "    </tr>\n",
       "    <tr>\n",
       "      <th>1</th>\n",
       "      <td>1</td>\n",
       "      <td>661</td>\n",
       "      <td>3</td>\n",
       "    </tr>\n",
       "    <tr>\n",
       "      <th>2</th>\n",
       "      <td>1</td>\n",
       "      <td>914</td>\n",
       "      <td>3</td>\n",
       "    </tr>\n",
       "    <tr>\n",
       "      <th>3</th>\n",
       "      <td>1</td>\n",
       "      <td>3408</td>\n",
       "      <td>4</td>\n",
       "    </tr>\n",
       "    <tr>\n",
       "      <th>4</th>\n",
       "      <td>1</td>\n",
       "      <td>2355</td>\n",
       "      <td>5</td>\n",
       "    </tr>\n",
       "    <tr>\n",
       "      <th>5</th>\n",
       "      <td>1</td>\n",
       "      <td>1197</td>\n",
       "      <td>3</td>\n",
       "    </tr>\n",
       "    <tr>\n",
       "      <th>6</th>\n",
       "      <td>1</td>\n",
       "      <td>1287</td>\n",
       "      <td>5</td>\n",
       "    </tr>\n",
       "    <tr>\n",
       "      <th>7</th>\n",
       "      <td>1</td>\n",
       "      <td>2804</td>\n",
       "      <td>5</td>\n",
       "    </tr>\n",
       "    <tr>\n",
       "      <th>8</th>\n",
       "      <td>1</td>\n",
       "      <td>594</td>\n",
       "      <td>4</td>\n",
       "    </tr>\n",
       "    <tr>\n",
       "      <th>9</th>\n",
       "      <td>1</td>\n",
       "      <td>919</td>\n",
       "      <td>4</td>\n",
       "    </tr>\n",
       "  </tbody>\n",
       "</table>\n",
       "</div>"
      ],
      "text/plain": [
       "   user_id  movie_id  rating\n",
       "0        1      1193       5\n",
       "1        1       661       3\n",
       "2        1       914       3\n",
       "3        1      3408       4\n",
       "4        1      2355       5\n",
       "5        1      1197       3\n",
       "6        1      1287       5\n",
       "7        1      2804       5\n",
       "8        1       594       4\n",
       "9        1       919       4"
      ]
     },
     "execution_count": 2,
     "metadata": {},
     "output_type": "execute_result"
    }
   ],
   "source": [
    "ratings = pd.read_csv('ds/ratings.dat', delimiter='::', header=None,\n",
    "                      names=['user_id', 'movie_id', 'rating', 'timestamp'],\n",
    "                      usecols=['user_id', 'movie_id', 'rating'], engine='python')\n",
    "ratings.head(10)"
   ]
  },
  {
   "cell_type": "code",
   "execution_count": 3,
   "metadata": {},
   "outputs": [],
   "source": [
    "movie_info = pd.read_csv('ds/movies.dat', delimiter='::', header=None,\n",
    "                         names=['movie_id', 'name', 'category'], engine='python')"
   ]
  },
  {
   "cell_type": "code",
   "execution_count": 4,
   "metadata": {},
   "outputs": [
    {
     "data": {
      "text/html": [
       "<div>\n",
       "<style scoped>\n",
       "    .dataframe tbody tr th:only-of-type {\n",
       "        vertical-align: middle;\n",
       "    }\n",
       "\n",
       "    .dataframe tbody tr th {\n",
       "        vertical-align: top;\n",
       "    }\n",
       "\n",
       "    .dataframe thead th {\n",
       "        text-align: right;\n",
       "    }\n",
       "</style>\n",
       "<table border=\"1\" class=\"dataframe\">\n",
       "  <thead>\n",
       "    <tr style=\"text-align: right;\">\n",
       "      <th></th>\n",
       "      <th>user_id</th>\n",
       "      <th>movie_id</th>\n",
       "      <th>rating</th>\n",
       "    </tr>\n",
       "  </thead>\n",
       "  <tbody>\n",
       "    <tr>\n",
       "      <th>0</th>\n",
       "      <td>1</td>\n",
       "      <td>1193</td>\n",
       "      <td>5</td>\n",
       "    </tr>\n",
       "    <tr>\n",
       "      <th>3</th>\n",
       "      <td>1</td>\n",
       "      <td>3408</td>\n",
       "      <td>4</td>\n",
       "    </tr>\n",
       "    <tr>\n",
       "      <th>4</th>\n",
       "      <td>1</td>\n",
       "      <td>2355</td>\n",
       "      <td>5</td>\n",
       "    </tr>\n",
       "    <tr>\n",
       "      <th>6</th>\n",
       "      <td>1</td>\n",
       "      <td>1287</td>\n",
       "      <td>5</td>\n",
       "    </tr>\n",
       "    <tr>\n",
       "      <th>7</th>\n",
       "      <td>1</td>\n",
       "      <td>2804</td>\n",
       "      <td>5</td>\n",
       "    </tr>\n",
       "    <tr>\n",
       "      <th>8</th>\n",
       "      <td>1</td>\n",
       "      <td>594</td>\n",
       "      <td>4</td>\n",
       "    </tr>\n",
       "    <tr>\n",
       "      <th>9</th>\n",
       "      <td>1</td>\n",
       "      <td>919</td>\n",
       "      <td>4</td>\n",
       "    </tr>\n",
       "    <tr>\n",
       "      <th>10</th>\n",
       "      <td>1</td>\n",
       "      <td>595</td>\n",
       "      <td>5</td>\n",
       "    </tr>\n",
       "    <tr>\n",
       "      <th>11</th>\n",
       "      <td>1</td>\n",
       "      <td>938</td>\n",
       "      <td>4</td>\n",
       "    </tr>\n",
       "    <tr>\n",
       "      <th>12</th>\n",
       "      <td>1</td>\n",
       "      <td>2398</td>\n",
       "      <td>4</td>\n",
       "    </tr>\n",
       "  </tbody>\n",
       "</table>\n",
       "</div>"
      ],
      "text/plain": [
       "    user_id  movie_id  rating\n",
       "0         1      1193       5\n",
       "3         1      3408       4\n",
       "4         1      2355       5\n",
       "6         1      1287       5\n",
       "7         1      2804       5\n",
       "8         1       594       4\n",
       "9         1       919       4\n",
       "10        1       595       5\n",
       "11        1       938       4\n",
       "12        1      2398       4"
      ]
     },
     "execution_count": 4,
     "metadata": {},
     "output_type": "execute_result"
    }
   ],
   "source": [
    "implicit_ratings = ratings.loc[(ratings['rating'] >= 4)]\n",
    "implicit_ratings.head(10)"
   ]
  },
  {
   "cell_type": "code",
   "execution_count": 5,
   "metadata": {},
   "outputs": [],
   "source": [
    "users = implicit_ratings[\"user_id\"]\n",
    "movies = implicit_ratings[\"movie_id\"]\n",
    "user_item = sparse.coo_matrix((np.ones_like(users), (users, movies)))\n",
    "user_item_t_csr = user_item.T.tocsr()\n",
    "user_item_csr = user_item.tocsr()"
   ]
  },
  {
   "cell_type": "code",
   "execution_count": 8,
   "metadata": {},
   "outputs": [],
   "source": [
    "class ImplicitALSMatrixFactorizer:\n",
    "    def __init__(self, sparse_data, n_features=64, alpha=40):\n",
    "        self.user_size, self.movie_size = sparse_data.shape\n",
    "        self.sparse_data = sparse_data\n",
    "        self.n_features = n_features\n",
    "        self.alpha = alpha\n",
    "\n",
    "    def fit(self, lambda_v=0.1, max_iter=10):\n",
    "        confidence = self.sparse_data * self.alpha\n",
    "        X = sparse.csr_matrix(np.random.normal(size=(self.user_size, self.n_features)))\n",
    "        Y = sparse.csr_matrix(np.random.normal(size=(self.movie_size, self.n_features)))\n",
    "        X_I = sparse.eye(self.user_size)\n",
    "        Y_I = sparse.eye(self.movie_size)\n",
    "\n",
    "        I = sparse.eye(self.n_features)\n",
    "        lI = lambda_v * I\n",
    "\n",
    "        for i in trange(max_iter):\n",
    "            yty = Y.T.dot(Y)\n",
    "            xtx = X.T.dot(X)\n",
    "            for u in range(self.user_size):\n",
    "                u_row = confidence[u, :].toarray()\n",
    "                p_u = u_row.copy()\n",
    "                p_u[p_u != 0] = 1.0\n",
    "\n",
    "                CuI = sparse.diags(u_row, [0])\n",
    "                Cu = CuI + Y_I\n",
    "\n",
    "                yT_CuI_y = Y.T.dot(CuI).dot(Y)\n",
    "                yT_Cu_pu = Y.T.dot(Cu).dot(p_u.T)\n",
    "                X[u] = spsolve(yty + yT_CuI_y + lI, yT_Cu_pu)\n",
    "            for m in range(self.movie_size):\n",
    "                m_row = confidence[:, m].T.toarray()\n",
    "                p_i = m_row.copy()\n",
    "                p_i[p_i != 0] = 1.0\n",
    "\n",
    "                CiI = sparse.diags(m_row, [0])\n",
    "                Ci = CiI + X_I\n",
    "\n",
    "                xT_CiI_x = X.T.dot(CiI).dot(X)\n",
    "                xT_Ci_pi = X.T.dot(Ci).dot(p_i.T)\n",
    "                Y[m] = spsolve(xtx + xT_CiI_x + lI, xT_Ci_pi)\n",
    "        self.X = X\n",
    "        self.Y = Y\n",
    "\n",
    "    def predict(self, user_id, movie_id):\n",
    "        return self.X[user_id, :].dot(self.Y[movie_id, :].T)"
   ]
  },
  {
   "cell_type": "code",
   "execution_count": 9,
   "metadata": {},
   "outputs": [
    {
     "data": {
      "application/vnd.jupyter.widget-view+json": {
       "model_id": "a5467b72c35b45e7b1e9838764cdf730",
       "version_major": 2,
       "version_minor": 0
      },
      "text/plain": [
       "HBox(children=(HTML(value=''), FloatProgress(value=0.0, max=10.0), HTML(value='')))"
      ]
     },
     "metadata": {},
     "output_type": "display_data"
    },
    {
     "name": "stdout",
     "output_type": "stream",
     "text": [
      "\n"
     ]
    }
   ],
   "source": [
    "als = ImplicitALSMatrixFactorizer(user_item_csr)\n",
    "als.fit()"
   ]
  },
  {
   "cell_type": "code",
   "execution_count": 34,
   "metadata": {},
   "outputs": [
    {
     "name": "stdout",
     "output_type": "stream",
     "text": [
      "6041 3953\n"
     ]
    }
   ],
   "source": [
    "print(als.user_size, als.movie_size)"
   ]
  },
  {
   "cell_type": "code",
   "execution_count": 26,
   "metadata": {},
   "outputs": [],
   "source": [
    "def get_similars(movie_id, model):\n",
    "    movie_id -= 1\n",
    "    movie_matrix = model.X.toarray()[movie_id]\n",
    "    movies = []\n",
    "    \n",
    "    for i, j in enumerate(model.X.toarray()):\n",
    "        dist = np.linalg.norm(j - movie_matrix)\n",
    "        movies.append((i, dist))\n",
    "    sorted_movies = list(sorted(movies, key=lambda v: v[1]))\n",
    "    similars = []\n",
    "    for x in sorted_movies:\n",
    "        search = movie_info[movie_info[\"movie_id\"] - 1 == x[0]]\n",
    "        movie_name = search[\"name\"].to_string()\n",
    "        if len(search) > 0:\n",
    "            similars.append(movie_name)\n",
    "    return similars"
   ]
  },
  {
   "cell_type": "code",
   "execution_count": 43,
   "metadata": {},
   "outputs": [],
   "source": [
    "def get_recommendations(user_id, model):\n",
    "    user_id -= 1\n",
    "    \n",
    "    predictions = []\n",
    "    for movie_id in range(model.Y.toarray().shape[0]):\n",
    "        predictions.append((movie_id, model.predict(user_id, movie_id)))\n",
    "    predictions = list(reversed(sorted(predictions, key=lambda v: v[1])))\n",
    "    recommendations = []\n",
    "\n",
    "#     print(predictions[:10])\n",
    "    for x in predictions:\n",
    "         recommendations.append(movie_info[movie_info[\"movie_id\"] - 1 == x[0]][\"name\"].to_string())\n",
    "    \n",
    "#     print(recommendations[:10])\n",
    "#     to_remove = set(get_user_history(user_id + 1))\n",
    "#     filtered_recommendations = [r for r in recommendations if r not in to_remove]\n",
    "    \n",
    "    return recommendations    "
   ]
  },
  {
   "cell_type": "code",
   "execution_count": 44,
   "metadata": {},
   "outputs": [
    {
     "name": "stdout",
     "output_type": "stream",
     "text": [
      "6041\n"
     ]
    },
    {
     "data": {
      "text/plain": [
       "['431    Coneheads (1993)',\n",
       " '301    Roommates (1995)',\n",
       " '70    Fair Game (1995)',\n",
       " '169    Jeffrey (1995)',\n",
       " '648    Und keiner weint mir nach (1996)',\n",
       " '549    Tombstone (1993)',\n",
       " '2337    Romancing the Stone (1984)',\n",
       " '2667    Brighton Beach Memoirs (1986)',\n",
       " '439    Endless Summer 2, The (1994)',\n",
       " '1036    Looking for Richard (1996)',\n",
       " '1574    Peacemaker, The (1997)',\n",
       " '3207    Gun Shy (2000)',\n",
       " '2631    South Park: Bigger, Longer and Uncut (1999)',\n",
       " '3077    Deuce Bigalow: Male Gigolo (1999)',\n",
       " '2402    Crocodile Dundee II (1988)',\n",
       " '365    Mrs. Parker and the Vicious Circle (1994)',\n",
       " '1702    Shooting Fish (1997)',\n",
       " 'Series([], )',\n",
       " \"207    White Man's Burden (1995)\",\n",
       " '1678    Horse Whisperer, The (1998)']"
      ]
     },
     "execution_count": 44,
     "metadata": {},
     "output_type": "execute_result"
    }
   ],
   "source": [
    "get_recommendations(4, als)[:20]"
   ]
  },
  {
   "cell_type": "code",
   "execution_count": null,
   "metadata": {},
   "outputs": [],
   "source": []
  }
 ],
 "metadata": {
  "kernelspec": {
   "display_name": "PyCharm (Machine Learning)",
   "language": "python",
   "name": "pycharm-2419c8fd"
  },
  "language_info": {
   "codemirror_mode": {
    "name": "ipython",
    "version": 3
   },
   "file_extension": ".py",
   "mimetype": "text/x-python",
   "name": "python",
   "nbconvert_exporter": "python",
   "pygments_lexer": "ipython3",
   "version": "3.7.0"
  }
 },
 "nbformat": 4,
 "nbformat_minor": 4
}
