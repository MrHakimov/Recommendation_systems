{
 "cells": [
  {
   "cell_type": "code",
   "execution_count": 47,
   "metadata": {
    "id": "cPBZyXpz7BEL"
   },
   "outputs": [],
   "source": [
    "import pandas as pd\n",
    "import numpy as np"
   ]
  },
  {
   "cell_type": "code",
   "execution_count": 48,
   "metadata": {
    "id": "4ybceHAd7BEQ"
   },
   "outputs": [],
   "source": [
    "ds_train = pd.read_csv('ds/train.csv')\n",
    "ds_songs = pd.read_csv('ds/songs.csv')\n",
    "ds_songs_extra_info = pd.read_csv('ds/song_extra_info.csv')\n",
    "ds_members = pd.read_csv('ds/members.csv')"
   ]
  },
  {
   "cell_type": "code",
   "execution_count": 49,
   "metadata": {
    "colab": {
     "base_uri": "https://localhost:8080/",
     "height": 100
    },
    "id": "pxmPMipH7BEQ",
    "outputId": "b99cd2ad-c828-4d73-8063-a072877adabb"
   },
   "outputs": [
    {
     "data": {
      "text/html": [
       "<div>\n",
       "<style scoped>\n",
       "    .dataframe tbody tr th:only-of-type {\n",
       "        vertical-align: middle;\n",
       "    }\n",
       "\n",
       "    .dataframe tbody tr th {\n",
       "        vertical-align: top;\n",
       "    }\n",
       "\n",
       "    .dataframe thead th {\n",
       "        text-align: right;\n",
       "    }\n",
       "</style>\n",
       "<table border=\"1\" class=\"dataframe\">\n",
       "  <thead>\n",
       "    <tr style=\"text-align: right;\">\n",
       "      <th></th>\n",
       "      <th>msno</th>\n",
       "      <th>song_id</th>\n",
       "      <th>source_system_tab</th>\n",
       "      <th>source_screen_name</th>\n",
       "      <th>source_type</th>\n",
       "      <th>target</th>\n",
       "    </tr>\n",
       "  </thead>\n",
       "  <tbody>\n",
       "    <tr>\n",
       "      <th>0</th>\n",
       "      <td>FGtllVqz18RPiwJj/edr2gV78zirAiY/9SmYvia+kCg=</td>\n",
       "      <td>BBzumQNXUHKdEBOB7mAJuzok+IJA1c2Ryg/yzTF6tik=</td>\n",
       "      <td>explore</td>\n",
       "      <td>Explore</td>\n",
       "      <td>online-playlist</td>\n",
       "      <td>1</td>\n",
       "    </tr>\n",
       "  </tbody>\n",
       "</table>\n",
       "</div>"
      ],
      "text/plain": [
       "                                           msno  \\\n",
       "0  FGtllVqz18RPiwJj/edr2gV78zirAiY/9SmYvia+kCg=   \n",
       "\n",
       "                                        song_id source_system_tab  \\\n",
       "0  BBzumQNXUHKdEBOB7mAJuzok+IJA1c2Ryg/yzTF6tik=           explore   \n",
       "\n",
       "  source_screen_name      source_type  target  \n",
       "0            Explore  online-playlist       1  "
      ]
     },
     "execution_count": 49,
     "metadata": {},
     "output_type": "execute_result"
    }
   ],
   "source": [
    "ds_train.head(1)"
   ]
  },
  {
   "cell_type": "code",
   "execution_count": 50,
   "metadata": {
    "colab": {
     "base_uri": "https://localhost:8080/",
     "height": 80
    },
    "id": "Cj0CxDU_7BER",
    "outputId": "656cabc6-59e0-4ce2-cede-fb7754b91ac3"
   },
   "outputs": [
    {
     "data": {
      "text/html": [
       "<div>\n",
       "<style scoped>\n",
       "    .dataframe tbody tr th:only-of-type {\n",
       "        vertical-align: middle;\n",
       "    }\n",
       "\n",
       "    .dataframe tbody tr th {\n",
       "        vertical-align: top;\n",
       "    }\n",
       "\n",
       "    .dataframe thead th {\n",
       "        text-align: right;\n",
       "    }\n",
       "</style>\n",
       "<table border=\"1\" class=\"dataframe\">\n",
       "  <thead>\n",
       "    <tr style=\"text-align: right;\">\n",
       "      <th></th>\n",
       "      <th>song_id</th>\n",
       "      <th>song_length</th>\n",
       "      <th>genre_ids</th>\n",
       "      <th>artist_name</th>\n",
       "      <th>composer</th>\n",
       "      <th>lyricist</th>\n",
       "      <th>language</th>\n",
       "    </tr>\n",
       "  </thead>\n",
       "  <tbody>\n",
       "    <tr>\n",
       "      <th>0</th>\n",
       "      <td>CXoTN1eb7AI+DntdU1vbcwGRV4SCIDxZu+YD8JP8r4E=</td>\n",
       "      <td>247640</td>\n",
       "      <td>465</td>\n",
       "      <td>張信哲 (Jeff Chang)</td>\n",
       "      <td>董貞</td>\n",
       "      <td>何啟弘</td>\n",
       "      <td>3.0</td>\n",
       "    </tr>\n",
       "  </tbody>\n",
       "</table>\n",
       "</div>"
      ],
      "text/plain": [
       "                                        song_id  song_length genre_ids  \\\n",
       "0  CXoTN1eb7AI+DntdU1vbcwGRV4SCIDxZu+YD8JP8r4E=       247640       465   \n",
       "\n",
       "        artist_name composer lyricist  language  \n",
       "0  張信哲 (Jeff Chang)       董貞      何啟弘       3.0  "
      ]
     },
     "execution_count": 50,
     "metadata": {},
     "output_type": "execute_result"
    }
   ],
   "source": [
    "ds_songs.head(1)"
   ]
  },
  {
   "cell_type": "markdown",
   "metadata": {
    "id": "v2FtUTb07BES"
   },
   "source": [
    "Процент песен без жанров"
   ]
  },
  {
   "cell_type": "code",
   "execution_count": 51,
   "metadata": {
    "colab": {
     "base_uri": "https://localhost:8080/"
    },
    "id": "RcC2RWEk7BES",
    "outputId": "32d33a07-99be-4f6c-e29a-e2d1abd57b39"
   },
   "outputs": [
    {
     "name": "stdout",
     "output_type": "stream",
     "text": [
      "0.04098557692307692\n"
     ]
    }
   ],
   "source": [
    "print(ds_songs['genre_ids'].isna().sum() / ds_songs.shape[0])"
   ]
  },
  {
   "cell_type": "code",
   "execution_count": 52,
   "metadata": {
    "id": "lS3rTJ3k7BET"
   },
   "outputs": [],
   "source": [
    "genres_for_song = ds_songs['genre_ids'].apply(lambda x: [int(v) for v in str(x).split('|') if v != 'nan'])"
   ]
  },
  {
   "cell_type": "code",
   "execution_count": 53,
   "metadata": {
    "id": "ZDidtu5W7BET"
   },
   "outputs": [],
   "source": [
    "genres = dict()\n",
    "for genre_list in genres_for_song:\n",
    "    for g in genre_list:\n",
    "        if g not in genres:\n",
    "            genres[g] = 0\n",
    "        genres[g] += 1"
   ]
  },
  {
   "cell_type": "code",
   "execution_count": 54,
   "metadata": {
    "id": "affXRZzS7BEU"
   },
   "outputs": [],
   "source": [
    "sorted_genres = {k: v for k, v in reversed(sorted(genres.items(), key=lambda item: item[1]))}\n",
    "sorted_genres['0'] = -1"
   ]
  },
  {
   "cell_type": "code",
   "execution_count": 55,
   "metadata": {
    "id": "rIA1ohgtXTEY"
   },
   "outputs": [],
   "source": [
    "def get_most_popular(g_list):\n",
    "  res = '0'\n",
    "  for g in g_list:\n",
    "    if sorted_genres[res] < sorted_genres[g]:\n",
    "      res = g\n",
    "  return res"
   ]
  },
  {
   "cell_type": "code",
   "execution_count": 56,
   "metadata": {
    "id": "584IHQGfXKd_"
   },
   "outputs": [],
   "source": [
    "most_pop = []\n",
    "for genre_list in genres_for_song:\n",
    "  most_pop.append(get_most_popular(genre_list))"
   ]
  },
  {
   "cell_type": "code",
   "execution_count": 57,
   "metadata": {
    "id": "mSgTZYcZ7BEX"
   },
   "outputs": [],
   "source": [
    "ds_songs['genre_ids'] = most_pop"
   ]
  },
  {
   "cell_type": "code",
   "execution_count": 58,
   "metadata": {
    "colab": {
     "base_uri": "https://localhost:8080/",
     "height": 546
    },
    "id": "t0cMm9HZ7BEY",
    "outputId": "f9c0d138-d13d-41bc-e32e-f57f09e669f2"
   },
   "outputs": [
    {
     "data": {
      "text/html": [
       "<div>\n",
       "<style scoped>\n",
       "    .dataframe tbody tr th:only-of-type {\n",
       "        vertical-align: middle;\n",
       "    }\n",
       "\n",
       "    .dataframe tbody tr th {\n",
       "        vertical-align: top;\n",
       "    }\n",
       "\n",
       "    .dataframe thead th {\n",
       "        text-align: right;\n",
       "    }\n",
       "</style>\n",
       "<table border=\"1\" class=\"dataframe\">\n",
       "  <thead>\n",
       "    <tr style=\"text-align: right;\">\n",
       "      <th></th>\n",
       "      <th>song_id</th>\n",
       "      <th>song_length</th>\n",
       "      <th>genre_ids</th>\n",
       "      <th>artist_name</th>\n",
       "      <th>composer</th>\n",
       "      <th>lyricist</th>\n",
       "      <th>language</th>\n",
       "    </tr>\n",
       "  </thead>\n",
       "  <tbody>\n",
       "    <tr>\n",
       "      <th>0</th>\n",
       "      <td>CXoTN1eb7AI+DntdU1vbcwGRV4SCIDxZu+YD8JP8r4E=</td>\n",
       "      <td>247640</td>\n",
       "      <td>465</td>\n",
       "      <td>張信哲 (Jeff Chang)</td>\n",
       "      <td>董貞</td>\n",
       "      <td>何啟弘</td>\n",
       "      <td>3.0</td>\n",
       "    </tr>\n",
       "    <tr>\n",
       "      <th>1</th>\n",
       "      <td>o0kFgae9QtnYgRkVPqLJwa05zIhRlUjfF7O1tDw0ZDU=</td>\n",
       "      <td>197328</td>\n",
       "      <td>444</td>\n",
       "      <td>BLACKPINK</td>\n",
       "      <td>TEDDY|  FUTURE BOUNCE|  Bekuh BOOM</td>\n",
       "      <td>TEDDY</td>\n",
       "      <td>31.0</td>\n",
       "    </tr>\n",
       "    <tr>\n",
       "      <th>2</th>\n",
       "      <td>DwVvVurfpuz+XPuFvucclVQEyPqcpUkHR0ne1RQzPs0=</td>\n",
       "      <td>231781</td>\n",
       "      <td>465</td>\n",
       "      <td>SUPER JUNIOR</td>\n",
       "      <td>NaN</td>\n",
       "      <td>NaN</td>\n",
       "      <td>31.0</td>\n",
       "    </tr>\n",
       "    <tr>\n",
       "      <th>3</th>\n",
       "      <td>dKMBWoZyScdxSkihKG+Vf47nc18N9q4m58+b4e7dSSE=</td>\n",
       "      <td>273554</td>\n",
       "      <td>465</td>\n",
       "      <td>S.H.E</td>\n",
       "      <td>湯小康</td>\n",
       "      <td>徐世珍</td>\n",
       "      <td>3.0</td>\n",
       "    </tr>\n",
       "    <tr>\n",
       "      <th>4</th>\n",
       "      <td>W3bqWd3T+VeHFzHAUfARgW9AvVRaF4N5Yzm4Mr6Eo/o=</td>\n",
       "      <td>140329</td>\n",
       "      <td>726</td>\n",
       "      <td>貴族精選</td>\n",
       "      <td>Traditional</td>\n",
       "      <td>Traditional</td>\n",
       "      <td>52.0</td>\n",
       "    </tr>\n",
       "    <tr>\n",
       "      <th>5</th>\n",
       "      <td>kKJ2JNU5h8rphyW21ovC+RZU+yEHPM+3w85J37p7vEQ=</td>\n",
       "      <td>235520</td>\n",
       "      <td>843</td>\n",
       "      <td>貴族精選</td>\n",
       "      <td>Joe Hisaishi</td>\n",
       "      <td>Hayao Miyazaki</td>\n",
       "      <td>17.0</td>\n",
       "    </tr>\n",
       "    <tr>\n",
       "      <th>6</th>\n",
       "      <td>N9vbanw7BSMoUgdfJlgX1aZPE1XZg8OS1wf88AQEcMc=</td>\n",
       "      <td>226220</td>\n",
       "      <td>458</td>\n",
       "      <td>伍佰 &amp; China Blue</td>\n",
       "      <td>Jonathan Lee</td>\n",
       "      <td>NaN</td>\n",
       "      <td>3.0</td>\n",
       "    </tr>\n",
       "    <tr>\n",
       "      <th>7</th>\n",
       "      <td>GsCpr618xfveHYJdo+E5SybrpR906tsjLMeKyrCNw8s=</td>\n",
       "      <td>276793</td>\n",
       "      <td>465</td>\n",
       "      <td>光良 (Michael Wong)</td>\n",
       "      <td>光良</td>\n",
       "      <td>彭資閔</td>\n",
       "      <td>3.0</td>\n",
       "    </tr>\n",
       "    <tr>\n",
       "      <th>8</th>\n",
       "      <td>oTi7oINPX+rxoGp+3O6llSltQTl80jDqHoULfRoLcG4=</td>\n",
       "      <td>228623</td>\n",
       "      <td>465</td>\n",
       "      <td>林俊傑 (JJ Lin)</td>\n",
       "      <td>JJ Lin</td>\n",
       "      <td>Wu Qing Feng</td>\n",
       "      <td>3.0</td>\n",
       "    </tr>\n",
       "    <tr>\n",
       "      <th>9</th>\n",
       "      <td>btcG03OHY3GNKWccPP0auvtSbhxog/kllIIOx5grE/k=</td>\n",
       "      <td>232629</td>\n",
       "      <td>352</td>\n",
       "      <td>Kodaline</td>\n",
       "      <td>Stephen Garrigan| Mark Prendergast| Vincent Ma...</td>\n",
       "      <td>Stephen Garrigan| Mark Prendergast| Vincent Ma...</td>\n",
       "      <td>52.0</td>\n",
       "    </tr>\n",
       "  </tbody>\n",
       "</table>\n",
       "</div>"
      ],
      "text/plain": [
       "                                        song_id  song_length genre_ids  \\\n",
       "0  CXoTN1eb7AI+DntdU1vbcwGRV4SCIDxZu+YD8JP8r4E=       247640       465   \n",
       "1  o0kFgae9QtnYgRkVPqLJwa05zIhRlUjfF7O1tDw0ZDU=       197328       444   \n",
       "2  DwVvVurfpuz+XPuFvucclVQEyPqcpUkHR0ne1RQzPs0=       231781       465   \n",
       "3  dKMBWoZyScdxSkihKG+Vf47nc18N9q4m58+b4e7dSSE=       273554       465   \n",
       "4  W3bqWd3T+VeHFzHAUfARgW9AvVRaF4N5Yzm4Mr6Eo/o=       140329       726   \n",
       "5  kKJ2JNU5h8rphyW21ovC+RZU+yEHPM+3w85J37p7vEQ=       235520       843   \n",
       "6  N9vbanw7BSMoUgdfJlgX1aZPE1XZg8OS1wf88AQEcMc=       226220       458   \n",
       "7  GsCpr618xfveHYJdo+E5SybrpR906tsjLMeKyrCNw8s=       276793       465   \n",
       "8  oTi7oINPX+rxoGp+3O6llSltQTl80jDqHoULfRoLcG4=       228623       465   \n",
       "9  btcG03OHY3GNKWccPP0auvtSbhxog/kllIIOx5grE/k=       232629       352   \n",
       "\n",
       "         artist_name                                           composer  \\\n",
       "0   張信哲 (Jeff Chang)                                                 董貞   \n",
       "1          BLACKPINK                 TEDDY|  FUTURE BOUNCE|  Bekuh BOOM   \n",
       "2       SUPER JUNIOR                                                NaN   \n",
       "3              S.H.E                                                湯小康   \n",
       "4               貴族精選                                        Traditional   \n",
       "5               貴族精選                                       Joe Hisaishi   \n",
       "6    伍佰 & China Blue                                       Jonathan Lee   \n",
       "7  光良 (Michael Wong)                                                 光良   \n",
       "8       林俊傑 (JJ Lin)                                             JJ Lin   \n",
       "9           Kodaline  Stephen Garrigan| Mark Prendergast| Vincent Ma...   \n",
       "\n",
       "                                            lyricist  language  \n",
       "0                                                何啟弘       3.0  \n",
       "1                                              TEDDY      31.0  \n",
       "2                                                NaN      31.0  \n",
       "3                                                徐世珍       3.0  \n",
       "4                                        Traditional      52.0  \n",
       "5                                     Hayao Miyazaki      17.0  \n",
       "6                                                NaN       3.0  \n",
       "7                                                彭資閔       3.0  \n",
       "8                                       Wu Qing Feng       3.0  \n",
       "9  Stephen Garrigan| Mark Prendergast| Vincent Ma...      52.0  "
      ]
     },
     "execution_count": 58,
     "metadata": {},
     "output_type": "execute_result"
    }
   ],
   "source": [
    "ds_songs.head(10)"
   ]
  },
  {
   "cell_type": "markdown",
   "metadata": {
    "id": "YvECZrp57BEZ"
   },
   "source": [
    "## Some header"
   ]
  },
  {
   "cell_type": "code",
   "execution_count": 59,
   "metadata": {
    "id": "qWEsZLe97BEZ"
   },
   "outputs": [],
   "source": [
    "def leave_first(column):\n",
    "    items = ds_songs[column].apply(lambda x: [v for v in str(x).split('|')])\n",
    "    res = [v[0] for v in items]\n",
    "    ds_songs[column] = res"
   ]
  },
  {
   "cell_type": "code",
   "execution_count": 60,
   "metadata": {
    "id": "IR_QKhMe7BEa"
   },
   "outputs": [],
   "source": [
    "leave_first('artist_name')\n",
    "leave_first('composer')\n",
    "leave_first('lyricist')"
   ]
  },
  {
   "cell_type": "code",
   "execution_count": 61,
   "metadata": {
    "colab": {
     "base_uri": "https://localhost:8080/",
     "height": 142
    },
    "id": "y3UR02Hs7BEa",
    "outputId": "ad2cae83-098c-4fa2-c5e9-5bdecde4e19c"
   },
   "outputs": [
    {
     "data": {
      "text/html": [
       "<div>\n",
       "<style scoped>\n",
       "    .dataframe tbody tr th:only-of-type {\n",
       "        vertical-align: middle;\n",
       "    }\n",
       "\n",
       "    .dataframe tbody tr th {\n",
       "        vertical-align: top;\n",
       "    }\n",
       "\n",
       "    .dataframe thead th {\n",
       "        text-align: right;\n",
       "    }\n",
       "</style>\n",
       "<table border=\"1\" class=\"dataframe\">\n",
       "  <thead>\n",
       "    <tr style=\"text-align: right;\">\n",
       "      <th></th>\n",
       "      <th>song_id</th>\n",
       "      <th>song_length</th>\n",
       "      <th>genre_ids</th>\n",
       "      <th>artist_name</th>\n",
       "      <th>composer</th>\n",
       "      <th>lyricist</th>\n",
       "      <th>language</th>\n",
       "    </tr>\n",
       "  </thead>\n",
       "  <tbody>\n",
       "    <tr>\n",
       "      <th>0</th>\n",
       "      <td>CXoTN1eb7AI+DntdU1vbcwGRV4SCIDxZu+YD8JP8r4E=</td>\n",
       "      <td>247640</td>\n",
       "      <td>465</td>\n",
       "      <td>張信哲 (Jeff Chang)</td>\n",
       "      <td>董貞</td>\n",
       "      <td>何啟弘</td>\n",
       "      <td>3.0</td>\n",
       "    </tr>\n",
       "    <tr>\n",
       "      <th>1</th>\n",
       "      <td>o0kFgae9QtnYgRkVPqLJwa05zIhRlUjfF7O1tDw0ZDU=</td>\n",
       "      <td>197328</td>\n",
       "      <td>444</td>\n",
       "      <td>BLACKPINK</td>\n",
       "      <td>TEDDY</td>\n",
       "      <td>TEDDY</td>\n",
       "      <td>31.0</td>\n",
       "    </tr>\n",
       "    <tr>\n",
       "      <th>2</th>\n",
       "      <td>DwVvVurfpuz+XPuFvucclVQEyPqcpUkHR0ne1RQzPs0=</td>\n",
       "      <td>231781</td>\n",
       "      <td>465</td>\n",
       "      <td>SUPER JUNIOR</td>\n",
       "      <td>nan</td>\n",
       "      <td>nan</td>\n",
       "      <td>31.0</td>\n",
       "    </tr>\n",
       "  </tbody>\n",
       "</table>\n",
       "</div>"
      ],
      "text/plain": [
       "                                        song_id  song_length genre_ids  \\\n",
       "0  CXoTN1eb7AI+DntdU1vbcwGRV4SCIDxZu+YD8JP8r4E=       247640       465   \n",
       "1  o0kFgae9QtnYgRkVPqLJwa05zIhRlUjfF7O1tDw0ZDU=       197328       444   \n",
       "2  DwVvVurfpuz+XPuFvucclVQEyPqcpUkHR0ne1RQzPs0=       231781       465   \n",
       "\n",
       "        artist_name composer lyricist  language  \n",
       "0  張信哲 (Jeff Chang)       董貞      何啟弘       3.0  \n",
       "1         BLACKPINK    TEDDY    TEDDY      31.0  \n",
       "2      SUPER JUNIOR      nan      nan      31.0  "
      ]
     },
     "execution_count": 61,
     "metadata": {},
     "output_type": "execute_result"
    }
   ],
   "source": [
    "ds_songs.head(3)"
   ]
  },
  {
   "cell_type": "markdown",
   "metadata": {
    "id": "-z-kUwDX7BEa"
   },
   "source": [
    "## SomeHeader"
   ]
  },
  {
   "cell_type": "code",
   "execution_count": 62,
   "metadata": {
    "id": "vVxGmjne7BEa"
   },
   "outputs": [],
   "source": [
    "ds_train = ds_train.merge(ds_members,on='msno',how='left')\n",
    "ds_train = ds_train.merge(ds_songs,on='song_id',how='left')\n",
    "ds_train = ds_train.fillna(0)"
   ]
  },
  {
   "cell_type": "code",
   "execution_count": 63,
   "metadata": {
    "colab": {
     "base_uri": "https://localhost:8080/",
     "height": 264
    },
    "id": "Rl1DcE4B7BEb",
    "outputId": "32c7d395-881c-462a-ce99-cbfba72561f5"
   },
   "outputs": [
    {
     "data": {
      "text/html": [
       "<div>\n",
       "<style scoped>\n",
       "    .dataframe tbody tr th:only-of-type {\n",
       "        vertical-align: middle;\n",
       "    }\n",
       "\n",
       "    .dataframe tbody tr th {\n",
       "        vertical-align: top;\n",
       "    }\n",
       "\n",
       "    .dataframe thead th {\n",
       "        text-align: right;\n",
       "    }\n",
       "</style>\n",
       "<table border=\"1\" class=\"dataframe\">\n",
       "  <thead>\n",
       "    <tr style=\"text-align: right;\">\n",
       "      <th></th>\n",
       "      <th>msno</th>\n",
       "      <th>song_id</th>\n",
       "      <th>source_system_tab</th>\n",
       "      <th>source_screen_name</th>\n",
       "      <th>source_type</th>\n",
       "      <th>target</th>\n",
       "      <th>city</th>\n",
       "      <th>bd</th>\n",
       "      <th>gender</th>\n",
       "      <th>registered_via</th>\n",
       "      <th>registration_init_time</th>\n",
       "      <th>expiration_date</th>\n",
       "      <th>song_length</th>\n",
       "      <th>genre_ids</th>\n",
       "      <th>artist_name</th>\n",
       "      <th>composer</th>\n",
       "      <th>lyricist</th>\n",
       "      <th>language</th>\n",
       "    </tr>\n",
       "  </thead>\n",
       "  <tbody>\n",
       "    <tr>\n",
       "      <th>0</th>\n",
       "      <td>FGtllVqz18RPiwJj/edr2gV78zirAiY/9SmYvia+kCg=</td>\n",
       "      <td>BBzumQNXUHKdEBOB7mAJuzok+IJA1c2Ryg/yzTF6tik=</td>\n",
       "      <td>explore</td>\n",
       "      <td>Explore</td>\n",
       "      <td>online-playlist</td>\n",
       "      <td>1</td>\n",
       "      <td>1</td>\n",
       "      <td>0</td>\n",
       "      <td>0</td>\n",
       "      <td>7</td>\n",
       "      <td>20120102</td>\n",
       "      <td>20171005</td>\n",
       "      <td>206471.0</td>\n",
       "      <td>359</td>\n",
       "      <td>Bastille</td>\n",
       "      <td>Dan Smith</td>\n",
       "      <td>nan</td>\n",
       "      <td>52.0</td>\n",
       "    </tr>\n",
       "    <tr>\n",
       "      <th>1</th>\n",
       "      <td>Xumu+NIjS6QYVxDS4/t3SawvJ7viT9hPKXmf0RtLNx8=</td>\n",
       "      <td>bhp/MpSNoqoxOIB+/l8WPqu6jldth4DIpCm3ayXnJqM=</td>\n",
       "      <td>my library</td>\n",
       "      <td>Local playlist more</td>\n",
       "      <td>local-playlist</td>\n",
       "      <td>1</td>\n",
       "      <td>13</td>\n",
       "      <td>24</td>\n",
       "      <td>female</td>\n",
       "      <td>9</td>\n",
       "      <td>20110525</td>\n",
       "      <td>20170911</td>\n",
       "      <td>284584.0</td>\n",
       "      <td>1259</td>\n",
       "      <td>Various Artists</td>\n",
       "      <td>nan</td>\n",
       "      <td>nan</td>\n",
       "      <td>52.0</td>\n",
       "    </tr>\n",
       "    <tr>\n",
       "      <th>2</th>\n",
       "      <td>Xumu+NIjS6QYVxDS4/t3SawvJ7viT9hPKXmf0RtLNx8=</td>\n",
       "      <td>JNWfrrC7zNN7BdMpsISKa4Mw+xVJYNnxXh3/Epw7QgY=</td>\n",
       "      <td>my library</td>\n",
       "      <td>Local playlist more</td>\n",
       "      <td>local-playlist</td>\n",
       "      <td>1</td>\n",
       "      <td>13</td>\n",
       "      <td>24</td>\n",
       "      <td>female</td>\n",
       "      <td>9</td>\n",
       "      <td>20110525</td>\n",
       "      <td>20170911</td>\n",
       "      <td>225396.0</td>\n",
       "      <td>1259</td>\n",
       "      <td>Nas</td>\n",
       "      <td>N. Jones、W. Adams、J. Lordan、D. Ingle</td>\n",
       "      <td>nan</td>\n",
       "      <td>52.0</td>\n",
       "    </tr>\n",
       "  </tbody>\n",
       "</table>\n",
       "</div>"
      ],
      "text/plain": [
       "                                           msno  \\\n",
       "0  FGtllVqz18RPiwJj/edr2gV78zirAiY/9SmYvia+kCg=   \n",
       "1  Xumu+NIjS6QYVxDS4/t3SawvJ7viT9hPKXmf0RtLNx8=   \n",
       "2  Xumu+NIjS6QYVxDS4/t3SawvJ7viT9hPKXmf0RtLNx8=   \n",
       "\n",
       "                                        song_id source_system_tab  \\\n",
       "0  BBzumQNXUHKdEBOB7mAJuzok+IJA1c2Ryg/yzTF6tik=           explore   \n",
       "1  bhp/MpSNoqoxOIB+/l8WPqu6jldth4DIpCm3ayXnJqM=        my library   \n",
       "2  JNWfrrC7zNN7BdMpsISKa4Mw+xVJYNnxXh3/Epw7QgY=        my library   \n",
       "\n",
       "    source_screen_name      source_type  target  city  bd  gender  \\\n",
       "0              Explore  online-playlist       1     1   0       0   \n",
       "1  Local playlist more   local-playlist       1    13  24  female   \n",
       "2  Local playlist more   local-playlist       1    13  24  female   \n",
       "\n",
       "   registered_via  registration_init_time  expiration_date  song_length  \\\n",
       "0               7                20120102         20171005     206471.0   \n",
       "1               9                20110525         20170911     284584.0   \n",
       "2               9                20110525         20170911     225396.0   \n",
       "\n",
       "  genre_ids      artist_name                              composer lyricist  \\\n",
       "0       359         Bastille                             Dan Smith      nan   \n",
       "1      1259  Various Artists                                   nan      nan   \n",
       "2      1259              Nas  N. Jones、W. Adams、J. Lordan、D. Ingle      nan   \n",
       "\n",
       "   language  \n",
       "0      52.0  \n",
       "1      52.0  \n",
       "2      52.0  "
      ]
     },
     "execution_count": 63,
     "metadata": {},
     "output_type": "execute_result"
    }
   ],
   "source": [
    "pd.set_option('display.max_columns', None)\n",
    "ds_train.head(3)"
   ]
  },
  {
   "cell_type": "code",
   "execution_count": 65,
   "metadata": {},
   "outputs": [],
   "source": [
    "ds_train.drop(columns=['registration_init_time','expiration_date','song_length'], inplace=True)"
   ]
  },
  {
   "cell_type": "markdown",
   "metadata": {
    "id": "t99U4cjF7BEc"
   },
   "source": [
    "## SomeHeader"
   ]
  },
  {
   "cell_type": "code",
   "execution_count": 64,
   "metadata": {
    "colab": {
     "base_uri": "https://localhost:8080/",
     "height": 264
    },
    "id": "8cKXCljC7BEe",
    "outputId": "7205fb67-b3a3-4c9b-878e-53bdc999165c"
   },
   "outputs": [
    {
     "data": {
      "text/html": [
       "<div>\n",
       "<style scoped>\n",
       "    .dataframe tbody tr th:only-of-type {\n",
       "        vertical-align: middle;\n",
       "    }\n",
       "\n",
       "    .dataframe tbody tr th {\n",
       "        vertical-align: top;\n",
       "    }\n",
       "\n",
       "    .dataframe thead th {\n",
       "        text-align: right;\n",
       "    }\n",
       "</style>\n",
       "<table border=\"1\" class=\"dataframe\">\n",
       "  <thead>\n",
       "    <tr style=\"text-align: right;\">\n",
       "      <th></th>\n",
       "      <th>msno</th>\n",
       "      <th>song_id</th>\n",
       "      <th>source_system_tab</th>\n",
       "      <th>source_screen_name</th>\n",
       "      <th>source_type</th>\n",
       "      <th>target</th>\n",
       "      <th>city</th>\n",
       "      <th>bd</th>\n",
       "      <th>gender</th>\n",
       "      <th>registered_via</th>\n",
       "      <th>registration_init_time</th>\n",
       "      <th>expiration_date</th>\n",
       "      <th>song_length</th>\n",
       "      <th>genre_ids</th>\n",
       "      <th>artist_name</th>\n",
       "      <th>composer</th>\n",
       "      <th>lyricist</th>\n",
       "      <th>language</th>\n",
       "    </tr>\n",
       "  </thead>\n",
       "  <tbody>\n",
       "    <tr>\n",
       "      <th>0</th>\n",
       "      <td>FGtllVqz18RPiwJj/edr2gV78zirAiY/9SmYvia+kCg=</td>\n",
       "      <td>BBzumQNXUHKdEBOB7mAJuzok+IJA1c2Ryg/yzTF6tik=</td>\n",
       "      <td>explore</td>\n",
       "      <td>Explore</td>\n",
       "      <td>online-playlist</td>\n",
       "      <td>1</td>\n",
       "      <td>1</td>\n",
       "      <td>0</td>\n",
       "      <td>0</td>\n",
       "      <td>7</td>\n",
       "      <td>20120102</td>\n",
       "      <td>20171005</td>\n",
       "      <td>206471.0</td>\n",
       "      <td>359</td>\n",
       "      <td>Bastille</td>\n",
       "      <td>Dan Smith</td>\n",
       "      <td>nan</td>\n",
       "      <td>52</td>\n",
       "    </tr>\n",
       "    <tr>\n",
       "      <th>1</th>\n",
       "      <td>Xumu+NIjS6QYVxDS4/t3SawvJ7viT9hPKXmf0RtLNx8=</td>\n",
       "      <td>bhp/MpSNoqoxOIB+/l8WPqu6jldth4DIpCm3ayXnJqM=</td>\n",
       "      <td>my library</td>\n",
       "      <td>Local playlist more</td>\n",
       "      <td>local-playlist</td>\n",
       "      <td>1</td>\n",
       "      <td>13</td>\n",
       "      <td>24</td>\n",
       "      <td>female</td>\n",
       "      <td>9</td>\n",
       "      <td>20110525</td>\n",
       "      <td>20170911</td>\n",
       "      <td>284584.0</td>\n",
       "      <td>1259</td>\n",
       "      <td>Various Artists</td>\n",
       "      <td>nan</td>\n",
       "      <td>nan</td>\n",
       "      <td>52</td>\n",
       "    </tr>\n",
       "    <tr>\n",
       "      <th>2</th>\n",
       "      <td>Xumu+NIjS6QYVxDS4/t3SawvJ7viT9hPKXmf0RtLNx8=</td>\n",
       "      <td>JNWfrrC7zNN7BdMpsISKa4Mw+xVJYNnxXh3/Epw7QgY=</td>\n",
       "      <td>my library</td>\n",
       "      <td>Local playlist more</td>\n",
       "      <td>local-playlist</td>\n",
       "      <td>1</td>\n",
       "      <td>13</td>\n",
       "      <td>24</td>\n",
       "      <td>female</td>\n",
       "      <td>9</td>\n",
       "      <td>20110525</td>\n",
       "      <td>20170911</td>\n",
       "      <td>225396.0</td>\n",
       "      <td>1259</td>\n",
       "      <td>Nas</td>\n",
       "      <td>N. Jones、W. Adams、J. Lordan、D. Ingle</td>\n",
       "      <td>nan</td>\n",
       "      <td>52</td>\n",
       "    </tr>\n",
       "  </tbody>\n",
       "</table>\n",
       "</div>"
      ],
      "text/plain": [
       "                                           msno  \\\n",
       "0  FGtllVqz18RPiwJj/edr2gV78zirAiY/9SmYvia+kCg=   \n",
       "1  Xumu+NIjS6QYVxDS4/t3SawvJ7viT9hPKXmf0RtLNx8=   \n",
       "2  Xumu+NIjS6QYVxDS4/t3SawvJ7viT9hPKXmf0RtLNx8=   \n",
       "\n",
       "                                        song_id source_system_tab  \\\n",
       "0  BBzumQNXUHKdEBOB7mAJuzok+IJA1c2Ryg/yzTF6tik=           explore   \n",
       "1  bhp/MpSNoqoxOIB+/l8WPqu6jldth4DIpCm3ayXnJqM=        my library   \n",
       "2  JNWfrrC7zNN7BdMpsISKa4Mw+xVJYNnxXh3/Epw7QgY=        my library   \n",
       "\n",
       "    source_screen_name      source_type  target  city  bd  gender  \\\n",
       "0              Explore  online-playlist       1     1   0       0   \n",
       "1  Local playlist more   local-playlist       1    13  24  female   \n",
       "2  Local playlist more   local-playlist       1    13  24  female   \n",
       "\n",
       "   registered_via  registration_init_time  expiration_date  song_length  \\\n",
       "0               7                20120102         20171005     206471.0   \n",
       "1               9                20110525         20170911     284584.0   \n",
       "2               9                20110525         20170911     225396.0   \n",
       "\n",
       "  genre_ids      artist_name                              composer lyricist  \\\n",
       "0       359         Bastille                             Dan Smith      nan   \n",
       "1      1259  Various Artists                                   nan      nan   \n",
       "2      1259              Nas  N. Jones、W. Adams、J. Lordan、D. Ingle      nan   \n",
       "\n",
       "  language  \n",
       "0       52  \n",
       "1       52  \n",
       "2       52  "
      ]
     },
     "execution_count": 64,
     "metadata": {},
     "output_type": "execute_result"
    }
   ],
   "source": [
    "ds_train['language'] = ds_train['language'].astype(int).astype('category')\n",
    "ds_train.head(3)"
   ]
  },
  {
   "cell_type": "code",
   "execution_count": 19,
   "metadata": {
    "id": "p5ULodVu7BEe"
   },
   "outputs": [],
   "source": [
    "X_train=ds_train.sample(frac=0.8)\n",
    "X_test=ds_train.drop(X_train.index)"
   ]
  },
  {
   "cell_type": "code",
   "execution_count": 20,
   "metadata": {
    "id": "tFLCsmZO7BEf"
   },
   "outputs": [],
   "source": [
    "y_train = X_train['target']\n",
    "y_test = X_test['target']\n",
    "X_train = X_train.drop(columns=['target'])\n",
    "X_test = X_test.drop(columns=['target'])"
   ]
  },
  {
   "cell_type": "code",
   "execution_count": 21,
   "metadata": {
    "id": "b0vZEDx77BEf"
   },
   "outputs": [],
   "source": [
    "from sklearn.metrics import roc_auc_score"
   ]
  },
  {
   "cell_type": "code",
   "execution_count": 22,
   "metadata": {
    "colab": {
     "base_uri": "https://localhost:8080/"
    },
    "id": "AGLL87gC7BEf",
    "outputId": "369019c8-e021-4693-c475-1e86044d5df1"
   },
   "outputs": [
    {
     "name": "stdout",
     "output_type": "stream",
     "text": [
      "Requirement already satisfied: catboost in /Users/nikolay/opt/anaconda3/lib/python3.8/site-packages (0.25.1)\n",
      "Requirement already satisfied: plotly in /Users/nikolay/opt/anaconda3/lib/python3.8/site-packages (from catboost) (4.14.3)\n",
      "Requirement already satisfied: scipy in /Users/nikolay/opt/anaconda3/lib/python3.8/site-packages (from catboost) (1.5.2)\n",
      "Requirement already satisfied: matplotlib in /Users/nikolay/opt/anaconda3/lib/python3.8/site-packages (from catboost) (3.3.2)\n",
      "Requirement already satisfied: pandas>=0.24.0 in /Users/nikolay/opt/anaconda3/lib/python3.8/site-packages (from catboost) (1.1.3)\n",
      "Requirement already satisfied: graphviz in /Users/nikolay/opt/anaconda3/lib/python3.8/site-packages (from catboost) (0.16)\n",
      "Requirement already satisfied: numpy>=1.16.0 in /Users/nikolay/opt/anaconda3/lib/python3.8/site-packages (from catboost) (1.19.2)\n",
      "Requirement already satisfied: six in /Users/nikolay/opt/anaconda3/lib/python3.8/site-packages (from catboost) (1.15.0)\n",
      "Requirement already satisfied: pytz>=2017.2 in /Users/nikolay/opt/anaconda3/lib/python3.8/site-packages (from pandas>=0.24.0->catboost) (2020.1)\n",
      "Requirement already satisfied: python-dateutil>=2.7.3 in /Users/nikolay/opt/anaconda3/lib/python3.8/site-packages (from pandas>=0.24.0->catboost) (2.8.1)\n",
      "Requirement already satisfied: cycler>=0.10 in /Users/nikolay/opt/anaconda3/lib/python3.8/site-packages (from matplotlib->catboost) (0.10.0)\n",
      "Requirement already satisfied: pyparsing!=2.0.4,!=2.1.2,!=2.1.6,>=2.0.3 in /Users/nikolay/opt/anaconda3/lib/python3.8/site-packages (from matplotlib->catboost) (2.4.7)\n",
      "Requirement already satisfied: kiwisolver>=1.0.1 in /Users/nikolay/opt/anaconda3/lib/python3.8/site-packages (from matplotlib->catboost) (1.3.0)\n",
      "Requirement already satisfied: certifi>=2020.06.20 in /Users/nikolay/opt/anaconda3/lib/python3.8/site-packages (from matplotlib->catboost) (2020.6.20)\n",
      "Requirement already satisfied: pillow>=6.2.0 in /Users/nikolay/opt/anaconda3/lib/python3.8/site-packages (from matplotlib->catboost) (7.2.0)\n",
      "Requirement already satisfied: retrying>=1.3.3 in /Users/nikolay/opt/anaconda3/lib/python3.8/site-packages (from plotly->catboost) (1.3.3)\n"
     ]
    }
   ],
   "source": [
    "from catboost import CatBoostClassifier"
   ]
  },
  {
   "cell_type": "code",
   "execution_count": 23,
   "metadata": {
    "colab": {
     "base_uri": "https://localhost:8080/",
     "height": 179
    },
    "id": "RlinB0mg7BEg",
    "outputId": "dcdea32c-59e4-45cf-c705-808c7a7e974c"
   },
   "outputs": [
    {
     "data": {
      "text/html": [
       "<div>\n",
       "<style scoped>\n",
       "    .dataframe tbody tr th:only-of-type {\n",
       "        vertical-align: middle;\n",
       "    }\n",
       "\n",
       "    .dataframe tbody tr th {\n",
       "        vertical-align: top;\n",
       "    }\n",
       "\n",
       "    .dataframe thead th {\n",
       "        text-align: right;\n",
       "    }\n",
       "</style>\n",
       "<table border=\"1\" class=\"dataframe\">\n",
       "  <thead>\n",
       "    <tr style=\"text-align: right;\">\n",
       "      <th></th>\n",
       "      <th>msno</th>\n",
       "      <th>song_id</th>\n",
       "      <th>source_system_tab</th>\n",
       "      <th>source_screen_name</th>\n",
       "      <th>source_type</th>\n",
       "      <th>city</th>\n",
       "      <th>bd</th>\n",
       "      <th>gender</th>\n",
       "      <th>registered_via</th>\n",
       "      <th>registration_init_time</th>\n",
       "      <th>expiration_date</th>\n",
       "      <th>song_length</th>\n",
       "      <th>genre_ids</th>\n",
       "      <th>artist_name</th>\n",
       "      <th>composer</th>\n",
       "      <th>lyricist</th>\n",
       "      <th>language</th>\n",
       "    </tr>\n",
       "  </thead>\n",
       "  <tbody>\n",
       "    <tr>\n",
       "      <th>1886047</th>\n",
       "      <td>Jvn/e4wagLZK8hu4nTF+NcYdXUDnuhFcn7PEjx0ZWjA=</td>\n",
       "      <td>4ZbS9i8tryjCVE7gLjG5oNC5aAasntVUHzIs90LjXxM=</td>\n",
       "      <td>discover</td>\n",
       "      <td>Online playlist more</td>\n",
       "      <td>online-playlist</td>\n",
       "      <td>7</td>\n",
       "      <td>17</td>\n",
       "      <td>female</td>\n",
       "      <td>9</td>\n",
       "      <td>20110224</td>\n",
       "      <td>20171017</td>\n",
       "      <td>222249.0</td>\n",
       "      <td>139</td>\n",
       "      <td>Chris Brown</td>\n",
       "      <td>Chris Brown; Jean Baptiste; Michael McHenry; R...</td>\n",
       "      <td>nan</td>\n",
       "      <td>52</td>\n",
       "    </tr>\n",
       "    <tr>\n",
       "      <th>107864</th>\n",
       "      <td>6rZ/0zGskDiqdR4CSx7IzmLiO7QskqgRxiReqwoLmqQ=</td>\n",
       "      <td>vSdM6LZCFclerFHXPav5sX6zLEZrY0dxkOeAM8Rw3wI=</td>\n",
       "      <td>my library</td>\n",
       "      <td>Local playlist more</td>\n",
       "      <td>local-playlist</td>\n",
       "      <td>22</td>\n",
       "      <td>28</td>\n",
       "      <td>male</td>\n",
       "      <td>3</td>\n",
       "      <td>20130621</td>\n",
       "      <td>20171027</td>\n",
       "      <td>266971.0</td>\n",
       "      <td>465</td>\n",
       "      <td>莊心妍</td>\n",
       "      <td>潘攀</td>\n",
       "      <td>潘攀</td>\n",
       "      <td>3</td>\n",
       "    </tr>\n",
       "    <tr>\n",
       "      <th>6459689</th>\n",
       "      <td>nbytZ3+EdbMM3Rk80k4v4g4t4HPbtUAmAIGXYw31mWc=</td>\n",
       "      <td>IBXJqj7sjP+Dv94TRn/qrUaLei78KLV+qabZz4Efvs8=</td>\n",
       "      <td>my library</td>\n",
       "      <td>Local playlist more</td>\n",
       "      <td>local-playlist</td>\n",
       "      <td>15</td>\n",
       "      <td>37</td>\n",
       "      <td>male</td>\n",
       "      <td>3</td>\n",
       "      <td>20120725</td>\n",
       "      <td>20171005</td>\n",
       "      <td>201456.0</td>\n",
       "      <td>2122</td>\n",
       "      <td>Billie Holiday</td>\n",
       "      <td>Sinatra</td>\n",
       "      <td>nan</td>\n",
       "      <td>52</td>\n",
       "    </tr>\n",
       "  </tbody>\n",
       "</table>\n",
       "</div>"
      ],
      "text/plain": [
       "                                                 msno  \\\n",
       "1886047  Jvn/e4wagLZK8hu4nTF+NcYdXUDnuhFcn7PEjx0ZWjA=   \n",
       "107864   6rZ/0zGskDiqdR4CSx7IzmLiO7QskqgRxiReqwoLmqQ=   \n",
       "6459689  nbytZ3+EdbMM3Rk80k4v4g4t4HPbtUAmAIGXYw31mWc=   \n",
       "\n",
       "                                              song_id source_system_tab  \\\n",
       "1886047  4ZbS9i8tryjCVE7gLjG5oNC5aAasntVUHzIs90LjXxM=          discover   \n",
       "107864   vSdM6LZCFclerFHXPav5sX6zLEZrY0dxkOeAM8Rw3wI=        my library   \n",
       "6459689  IBXJqj7sjP+Dv94TRn/qrUaLei78KLV+qabZz4Efvs8=        my library   \n",
       "\n",
       "           source_screen_name      source_type  city  bd  gender  \\\n",
       "1886047  Online playlist more  online-playlist     7  17  female   \n",
       "107864    Local playlist more   local-playlist    22  28    male   \n",
       "6459689   Local playlist more   local-playlist    15  37    male   \n",
       "\n",
       "         registered_via  registration_init_time  expiration_date  song_length  \\\n",
       "1886047               9                20110224         20171017     222249.0   \n",
       "107864                3                20130621         20171027     266971.0   \n",
       "6459689               3                20120725         20171005     201456.0   \n",
       "\n",
       "        genre_ids     artist_name  \\\n",
       "1886047       139     Chris Brown   \n",
       "107864        465             莊心妍   \n",
       "6459689      2122  Billie Holiday   \n",
       "\n",
       "                                                  composer lyricist language  \n",
       "1886047  Chris Brown; Jean Baptiste; Michael McHenry; R...      nan       52  \n",
       "107864                                                  潘攀       潘攀        3  \n",
       "6459689                                            Sinatra      nan       52  "
      ]
     },
     "execution_count": 23,
     "metadata": {},
     "output_type": "execute_result"
    }
   ],
   "source": [
    "X_train.head(3)"
   ]
  },
  {
   "cell_type": "code",
   "execution_count": 24,
   "metadata": {
    "id": "buqjuyJgQ63d"
   },
   "outputs": [],
   "source": [
    "X_train.shape\n",
    "# X_train = X_train.drop(columns=['registration_init_time','expiration_date','song_length'])\n",
    "# X_test = X_test.drop(columns=['registration_init_time','expiration_date','song_length'])"
   ]
  },
  {
   "cell_type": "code",
   "execution_count": 25,
   "metadata": {
    "colab": {
     "base_uri": "https://localhost:8080/"
    },
    "id": "tlfvEq8Rt8Py",
    "outputId": "8f4dca07-bf37-4981-b48a-65523cb2ec0d"
   },
   "outputs": [
    {
     "data": {
      "text/plain": [
       "(5901934, 14)"
      ]
     },
     "execution_count": 25,
     "metadata": {},
     "output_type": "execute_result"
    }
   ],
   "source": [
    "X_train.shape"
   ]
  },
  {
   "cell_type": "code",
   "execution_count": 26,
   "metadata": {
    "id": "02AD7re47BEg"
   },
   "outputs": [],
   "source": [
    "cat_features = [0, 1, 2, 3, 4, 5, 7, 8, 9, 10, 11, 12, 13]"
   ]
  },
  {
   "cell_type": "code",
   "execution_count": 35,
   "metadata": {
    "id": "SpQPN03V7BEg"
   },
   "outputs": [],
   "source": [
    "clf = CatBoostClassifier(iterations=200, verbose=20, cat_features=cat_features)"
   ]
  },
  {
   "cell_type": "code",
   "execution_count": 36,
   "metadata": {
    "colab": {
     "base_uri": "https://localhost:8080/"
    },
    "id": "D2xbnwdp7BEg",
    "outputId": "97ce06e9-42d6-43b6-e363-037df6efc555"
   },
   "outputs": [
    {
     "name": "stdout",
     "output_type": "stream",
     "text": [
      "Learning rate set to 0.5\n",
      "0:\tlearn: 0.6012561\ttotal: 11.5s\tremaining: 38m 17s\n",
      "20:\tlearn: 0.5139671\ttotal: 7m 15s\tremaining: 1h 1m 55s\n",
      "40:\tlearn: 0.5084448\ttotal: 12m 28s\tremaining: 48m 21s\n",
      "60:\tlearn: 0.5054544\ttotal: 18m 1s\tremaining: 41m 3s\n",
      "80:\tlearn: 0.5035891\ttotal: 23m 29s\tremaining: 34m 30s\n",
      "100:\tlearn: 0.5024082\ttotal: 28m 14s\tremaining: 27m 40s\n",
      "120:\tlearn: 0.5016197\ttotal: 33m 12s\tremaining: 21m 41s\n",
      "140:\tlearn: 0.5009643\ttotal: 37m 58s\tremaining: 15m 53s\n",
      "160:\tlearn: 0.5003874\ttotal: 43m 15s\tremaining: 10m 28s\n",
      "180:\tlearn: 0.4998241\ttotal: 48m 35s\tremaining: 5m 6s\n",
      "199:\tlearn: 0.4994610\ttotal: 52m 53s\tremaining: 0us\n"
     ]
    },
    {
     "data": {
      "text/plain": [
       "<catboost.core.CatBoostClassifier at 0x7f80a84b2bb0>"
      ]
     },
     "execution_count": 36,
     "metadata": {},
     "output_type": "execute_result"
    }
   ],
   "source": [
    "clf.fit(X_train, y_train)"
   ]
  },
  {
   "cell_type": "code",
   "execution_count": 37,
   "metadata": {
    "id": "m4YGryqT7BEh"
   },
   "outputs": [],
   "source": [
    "prediction = clf.predict(X_test)"
   ]
  },
  {
   "cell_type": "code",
   "execution_count": 38,
   "metadata": {
    "id": "xx14tMu97BEh"
   },
   "outputs": [
    {
     "name": "stdout",
     "output_type": "stream",
     "text": [
      "0.7696584266039791\n"
     ]
    }
   ],
   "source": [
    "print(roc_auc_score(y_test, prediction))"
   ]
  },
  {
   "cell_type": "code",
   "execution_count": 66,
   "metadata": {
    "id": "opcg_Hds7BEi"
   },
   "outputs": [],
   "source": [
    "from sklearn.model_selection import KFold"
   ]
  },
  {
   "cell_type": "code",
   "execution_count": 67,
   "metadata": {
    "id": "AtNig7Qs7BEi"
   },
   "outputs": [],
   "source": [
    "kf = KFold(n_splits=5)"
   ]
  },
  {
   "cell_type": "code",
   "execution_count": 68,
   "metadata": {},
   "outputs": [],
   "source": [
    "ds_train = ds_train.sample(frac=1)"
   ]
  },
  {
   "cell_type": "code",
   "execution_count": 69,
   "metadata": {},
   "outputs": [],
   "source": [
    "y = ds_train['target']\n",
    "ds_train.drop(columns=['target'], inplace=True)"
   ]
  },
  {
   "cell_type": "code",
   "execution_count": 70,
   "metadata": {},
   "outputs": [],
   "source": [
    "y = y.values\n",
    "ds_train = ds_train.values"
   ]
  },
  {
   "cell_type": "code",
   "execution_count": 71,
   "metadata": {},
   "outputs": [],
   "source": [
    "auc = 0"
   ]
  },
  {
   "cell_type": "code",
   "execution_count": 72,
   "metadata": {},
   "outputs": [
    {
     "name": "stdout",
     "output_type": "stream",
     "text": [
      "Learning rate set to 0.5\n",
      "0:\tlearn: 0.6012035\ttotal: 12.4s\tremaining: 41m 2s\n",
      "50:\tlearn: 0.5065397\ttotal: 12m 31s\tremaining: 36m 35s\n",
      "100:\tlearn: 0.5021604\ttotal: 24m 16s\tremaining: 23m 48s\n",
      "150:\tlearn: 0.5002272\ttotal: 35m 58s\tremaining: 11m 40s\n",
      "199:\tlearn: 0.4990657\ttotal: 47m 23s\tremaining: 0us\n",
      "Learning rate set to 0.5\n",
      "0:\tlearn: 0.6012531\ttotal: 12.4s\tremaining: 41m 7s\n",
      "50:\tlearn: 0.5064885\ttotal: 11m 51s\tremaining: 34m 38s\n",
      "100:\tlearn: 0.5025385\ttotal: 23m 18s\tremaining: 22m 51s\n",
      "150:\tlearn: 0.5004984\ttotal: 34m 56s\tremaining: 11m 20s\n",
      "199:\tlearn: 0.4992940\ttotal: 46m 2s\tremaining: 0us\n",
      "Learning rate set to 0.5\n",
      "0:\tlearn: 0.6013114\ttotal: 11.7s\tremaining: 38m 55s\n",
      "50:\tlearn: 0.5065345\ttotal: 11m 43s\tremaining: 34m 16s\n",
      "100:\tlearn: 0.5026200\ttotal: 23m 38s\tremaining: 23m 10s\n",
      "150:\tlearn: 0.5005150\ttotal: 35m 15s\tremaining: 11m 26s\n",
      "199:\tlearn: 0.4993737\ttotal: 46m 59s\tremaining: 0us\n",
      "Learning rate set to 0.5\n",
      "0:\tlearn: 0.6012906\ttotal: 11.5s\tremaining: 38m 11s\n",
      "50:\tlearn: 0.5065395\ttotal: 11m 30s\tremaining: 33m 36s\n",
      "100:\tlearn: 0.5025391\ttotal: 22m 59s\tremaining: 22m 32s\n",
      "150:\tlearn: 0.5007562\ttotal: 34m 47s\tremaining: 11m 17s\n",
      "199:\tlearn: 0.4993063\ttotal: 46m 35s\tremaining: 0us\n",
      "Learning rate set to 0.5\n",
      "0:\tlearn: 0.6013136\ttotal: 11.9s\tremaining: 39m 37s\n",
      "50:\tlearn: 0.5065152\ttotal: 11m 32s\tremaining: 33m 43s\n",
      "100:\tlearn: 0.5023805\ttotal: 24m 26s\tremaining: 23m 57s\n",
      "150:\tlearn: 0.5006362\ttotal: 35m 48s\tremaining: 11m 37s\n",
      "199:\tlearn: 0.4994166\ttotal: 46m 51s\tremaining: 0us\n"
     ]
    }
   ],
   "source": [
    "for train_index, test_index in kf.split(ds_train):\n",
    "    X_train, X_test = ds_train[train_index], ds_train[test_index]\n",
    "    y_train, y_test = y[train_index], y[test_index]\n",
    "    clf = CatBoostClassifier(iterations=200, verbose=50, cat_features=cat_features)\n",
    "    clf.fit(X_train, y_train)\n",
    "    prediction = clf.predict(X_test)\n",
    "    auc += roc_auc_score(y_test, prediction)"
   ]
  },
  {
   "cell_type": "code",
   "execution_count": 74,
   "metadata": {},
   "outputs": [
    {
     "data": {
      "text/plain": [
       "0.7693701048448058"
      ]
     },
     "execution_count": 74,
     "metadata": {},
     "output_type": "execute_result"
    }
   ],
   "source": [
    "auc / 5"
   ]
  },
  {
   "cell_type": "code",
   "execution_count": null,
   "metadata": {},
   "outputs": [],
   "source": []
  }
 ],
 "metadata": {
  "accelerator": "GPU",
  "colab": {
   "collapsed_sections": [],
   "name": "RECSYS HW2.ipynb",
   "provenance": [],
   "toc_visible": true
  },
  "kernelspec": {
   "display_name": "Python 3",
   "language": "python",
   "name": "python3"
  },
  "language_info": {
   "codemirror_mode": {
    "name": "ipython",
    "version": 3
   },
   "file_extension": ".py",
   "mimetype": "text/x-python",
   "name": "python",
   "nbconvert_exporter": "python",
   "pygments_lexer": "ipython3",
   "version": "3.8.5"
  }
 },
 "nbformat": 4,
 "nbformat_minor": 4
}
