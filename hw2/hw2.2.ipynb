{
 "cells": [
  {
   "cell_type": "code",
   "execution_count": 19,
   "metadata": {},
   "outputs": [],
   "source": [
    "import pandas as pd\n",
    "import numpy as np"
   ]
  },
  {
   "cell_type": "code",
   "execution_count": 43,
   "metadata": {},
   "outputs": [],
   "source": [
    "ds_train = pd.read_csv('ds/train.csv')\n",
    "ds_songs = pd.read_csv('ds/songs.csv')\n",
    "ds_songs_extra_info = pd.read_csv('ds/song_extra_info.csv')\n",
    "ds_members = pd.read_csv('ds/members.csv')"
   ]
  },
  {
   "cell_type": "code",
   "execution_count": 44,
   "metadata": {},
   "outputs": [],
   "source": [
    "# ds_train = ds_train.merge(ds_members,on='msno',how='left')\n",
    "# ds_train = ds_train.merge(ds_songs,on='song_id',how='left')\n",
    "# ds_train = ds_train.fillna(0)"
   ]
  },
  {
   "cell_type": "markdown",
   "metadata": {},
   "source": [
    "### Беру только 10% от датасета, потому что построение предложений идут очень долго =("
   ]
  },
  {
   "cell_type": "code",
   "execution_count": 45,
   "metadata": {},
   "outputs": [],
   "source": [
    "ds_train = ds_train.sample(frac=0.1)"
   ]
  },
  {
   "cell_type": "code",
   "execution_count": 46,
   "metadata": {
    "id": "p5ULodVu7BEe"
   },
   "outputs": [],
   "source": [
    "X_train = ds_train.sample(frac=0.8)\n",
    "X_test = ds_train.drop(X_train.index)"
   ]
  },
  {
   "cell_type": "markdown",
   "metadata": {},
   "source": [
    "### В качестве предложений(sentence) для каждого юзера буду рассматривать список песен, которые он лайкнул. Где айдишки песен - слова для word2vec"
   ]
  },
  {
   "cell_type": "code",
   "execution_count": 47,
   "metadata": {},
   "outputs": [],
   "source": [
    "X_train_pos = X_train[X_train['target'] == 1]"
   ]
  },
  {
   "cell_type": "code",
   "execution_count": 48,
   "metadata": {},
   "outputs": [],
   "source": [
    "from tqdm.notebook import tqdm, trange"
   ]
  },
  {
   "cell_type": "code",
   "execution_count": 49,
   "metadata": {},
   "outputs": [
    {
     "data": {
      "application/vnd.jupyter.widget-view+json": {
       "model_id": "71b07952638d426aa2015264df92b181",
       "version_major": 2,
       "version_minor": 0
      },
      "text/plain": [
       "HBox(children=(HTML(value=''), FloatProgress(value=0.0, max=34403.0), HTML(value='')))"
      ]
     },
     "metadata": {},
     "output_type": "display_data"
    },
    {
     "name": "stdout",
     "output_type": "stream",
     "text": [
      "\n"
     ]
    }
   ],
   "source": [
    "user_pos_history = [X_train_pos[X_train_pos['msno'] == user]['song_id'].astype(str).tolist() for user in tqdm(users)]"
   ]
  },
  {
   "cell_type": "code",
   "execution_count": 50,
   "metadata": {},
   "outputs": [],
   "source": [
    "from gensim.models import Word2Vec"
   ]
  },
  {
   "cell_type": "code",
   "execution_count": 54,
   "metadata": {},
   "outputs": [
    {
     "name": "stdout",
     "output_type": "stream",
     "text": [
      "8.639275644565881\n",
      "3.0\n"
     ]
    }
   ],
   "source": [
    "lengths = [len(arr) for arr in user_pos_history]"
   ]
  },
  {
   "cell_type": "code",
   "execution_count": 70,
   "metadata": {},
   "outputs": [],
   "source": [
    "w2v = Word2Vec(window=8, sg=1, hs=0, negative=3, alpha=0.1, min_alpha=0.0001)"
   ]
  },
  {
   "cell_type": "code",
   "execution_count": 71,
   "metadata": {},
   "outputs": [],
   "source": [
    "w2v.build_vocab(user_pos_history)"
   ]
  },
  {
   "cell_type": "code",
   "execution_count": 72,
   "metadata": {},
   "outputs": [
    {
     "data": {
      "text/plain": [
       "(6794741, 8916510)"
      ]
     },
     "execution_count": 72,
     "metadata": {},
     "output_type": "execute_result"
    }
   ],
   "source": [
    "w2v.train(user_pos_history, total_examples=len(user_pos_history), epochs=30)"
   ]
  },
  {
   "cell_type": "code",
   "execution_count": 74,
   "metadata": {},
   "outputs": [],
   "source": [
    "ds_songs = ds_songs.merge(ds_songs_extra_info,on='song_id',how='left')"
   ]
  },
  {
   "cell_type": "code",
   "execution_count": 124,
   "metadata": {},
   "outputs": [
    {
     "data": {
      "text/plain": [
       "(2296320, 9)"
      ]
     },
     "execution_count": 124,
     "metadata": {},
     "output_type": "execute_result"
    }
   ],
   "source": [
    "ds_songs.shape"
   ]
  },
  {
   "cell_type": "code",
   "execution_count": 78,
   "metadata": {},
   "outputs": [
    {
     "name": "stdout",
     "output_type": "stream",
     "text": [
      "Word2Vec(vocab=9038, vector_size=100, alpha=0.1)\n"
     ]
    }
   ],
   "source": [
    "print(w2v)"
   ]
  },
  {
   "cell_type": "code",
   "execution_count": 119,
   "metadata": {},
   "outputs": [],
   "source": [
    "def get_similars(name):\n",
    "    sims = w2v.wv.most_similar_cosmul(name)\n",
    "    data = []\n",
    "    for song, similarity in sims:\n",
    "        d = ds_songs[ds_songs['song_id'] == song].to_dict('records')[0]\n",
    "        d['similarity'] = similarity\n",
    "        data.append(d)\n",
    "    return pd.DataFrame(data)"
   ]
  },
  {
   "cell_type": "code",
   "execution_count": 163,
   "metadata": {},
   "outputs": [
    {
     "name": "stdout",
     "output_type": "stream",
     "text": [
      "e/upMhPFcXl3Rxq0Us1abr0FcThlZOeqKJhBobmltBU=\n"
     ]
    },
    {
     "data": {
      "text/html": [
       "<div>\n",
       "<style scoped>\n",
       "    .dataframe tbody tr th:only-of-type {\n",
       "        vertical-align: middle;\n",
       "    }\n",
       "\n",
       "    .dataframe tbody tr th {\n",
       "        vertical-align: top;\n",
       "    }\n",
       "\n",
       "    .dataframe thead th {\n",
       "        text-align: right;\n",
       "    }\n",
       "</style>\n",
       "<table border=\"1\" class=\"dataframe\">\n",
       "  <thead>\n",
       "    <tr style=\"text-align: right;\">\n",
       "      <th></th>\n",
       "      <th>song_id</th>\n",
       "      <th>song_length</th>\n",
       "      <th>genre_ids</th>\n",
       "      <th>artist_name</th>\n",
       "      <th>composer</th>\n",
       "      <th>lyricist</th>\n",
       "      <th>language</th>\n",
       "      <th>name</th>\n",
       "      <th>isrc</th>\n",
       "      <th>similarity</th>\n",
       "    </tr>\n",
       "  </thead>\n",
       "  <tbody>\n",
       "    <tr>\n",
       "      <th>0</th>\n",
       "      <td>JiHWUXkERiCPai7GKXVal+Cns8SWC8Ft0+5NKSQdbfU=</td>\n",
       "      <td>234370</td>\n",
       "      <td>465</td>\n",
       "      <td>Austin Mahone</td>\n",
       "      <td>NaN</td>\n",
       "      <td>NaN</td>\n",
       "      <td>52.0</td>\n",
       "      <td>Shake It For Me (feat. 2 Chainz)</td>\n",
       "      <td>QMRSZ1601336</td>\n",
       "      <td>0.749492</td>\n",
       "    </tr>\n",
       "    <tr>\n",
       "      <th>1</th>\n",
       "      <td>p0vznXPDpqFXtJzcvx4f9NxqLDC+1PQ9/Prr8kUdSuc=</td>\n",
       "      <td>161149</td>\n",
       "      <td>1609</td>\n",
       "      <td>The Chainsmokers</td>\n",
       "      <td>Andrew Taggart| Shaun Frank| Frederic Kennett|...</td>\n",
       "      <td>Andrew Taggart| Shaun Frank| Frederic Kennett|...</td>\n",
       "      <td>52.0</td>\n",
       "      <td>Closer</td>\n",
       "      <td>USQX91602095</td>\n",
       "      <td>0.736199</td>\n",
       "    </tr>\n",
       "    <tr>\n",
       "      <th>2</th>\n",
       "      <td>ulBJRABKso5kGxygDdVCfTpdXaSIIzyLqPsU+ciOKm8=</td>\n",
       "      <td>331395</td>\n",
       "      <td>1259</td>\n",
       "      <td>J. Cole</td>\n",
       "      <td>Jermaine Cole</td>\n",
       "      <td>NaN</td>\n",
       "      <td>52.0</td>\n",
       "      <td>Change</td>\n",
       "      <td>QMJMT1601086</td>\n",
       "      <td>0.736063</td>\n",
       "    </tr>\n",
       "    <tr>\n",
       "      <th>3</th>\n",
       "      <td>SVPVLZg1t7+aQoqFfQPs5lEl4iHf/DYf8hB/bbVyr88=</td>\n",
       "      <td>338860</td>\n",
       "      <td>2022|359</td>\n",
       "      <td>Slowdive</td>\n",
       "      <td>NaN</td>\n",
       "      <td>NaN</td>\n",
       "      <td>52.0</td>\n",
       "      <td>Star Roving</td>\n",
       "      <td>USJ5G1713202</td>\n",
       "      <td>0.731613</td>\n",
       "    </tr>\n",
       "    <tr>\n",
       "      <th>4</th>\n",
       "      <td>DyglzNccElIQTMtiKRbnHiYdKO+tEZCNA4G5DTZs4FY=</td>\n",
       "      <td>237959</td>\n",
       "      <td>465</td>\n",
       "      <td>Wham!</td>\n",
       "      <td>George Michael</td>\n",
       "      <td>George Michael</td>\n",
       "      <td>52.0</td>\n",
       "      <td>A Different Corner</td>\n",
       "      <td>GBBBM8600001</td>\n",
       "      <td>0.722280</td>\n",
       "    </tr>\n",
       "    <tr>\n",
       "      <th>5</th>\n",
       "      <td>1GI0GC3w9c0tDD2s0qP15DxrLUs9JX9XW6fKbY0rBZ8=</td>\n",
       "      <td>220496</td>\n",
       "      <td>1609</td>\n",
       "      <td>DJ Snake</td>\n",
       "      <td>William Grigahcine| Adio Marchant| A. Kleinstub</td>\n",
       "      <td>NaN</td>\n",
       "      <td>52.0</td>\n",
       "      <td>Middle</td>\n",
       "      <td>USUM71515784</td>\n",
       "      <td>0.714463</td>\n",
       "    </tr>\n",
       "    <tr>\n",
       "      <th>6</th>\n",
       "      <td>WMLsyMjcYUps04F3ZnRjvz7LqNmjGY76hl/D8V4ExgQ=</td>\n",
       "      <td>192261</td>\n",
       "      <td>1609</td>\n",
       "      <td>Grey</td>\n",
       "      <td>Kyle Trewartha| Michael Trewartha| Sasha Yatch...</td>\n",
       "      <td>NaN</td>\n",
       "      <td>52.0</td>\n",
       "      <td>I Miss You</td>\n",
       "      <td>USUM71700035</td>\n",
       "      <td>0.712479</td>\n",
       "    </tr>\n",
       "    <tr>\n",
       "      <th>7</th>\n",
       "      <td>glS5BF8YGt1ogLMHKDjfW9rlF+1YxkBhKt/6N70STR0=</td>\n",
       "      <td>193840</td>\n",
       "      <td>139</td>\n",
       "      <td>José James</td>\n",
       "      <td>José James| Antario Dion Holmes</td>\n",
       "      <td>NaN</td>\n",
       "      <td>52.0</td>\n",
       "      <td>Always There</td>\n",
       "      <td>USUM71614569</td>\n",
       "      <td>0.711586</td>\n",
       "    </tr>\n",
       "    <tr>\n",
       "      <th>8</th>\n",
       "      <td>v/3onppBGoSpGsWb8iaCIO8eX5+iacbH5a4ZUhT7N54=</td>\n",
       "      <td>161175</td>\n",
       "      <td>1616|1609</td>\n",
       "      <td>Alan Walker</td>\n",
       "      <td>Alan Walker| Jesper Borgen| Anders Froen| Gunn...</td>\n",
       "      <td>Alan Walker| Jesper Borgen| Anders Froen| Gunn...</td>\n",
       "      <td>52.0</td>\n",
       "      <td>Alone</td>\n",
       "      <td>NOG841617010</td>\n",
       "      <td>0.708199</td>\n",
       "    </tr>\n",
       "    <tr>\n",
       "      <th>9</th>\n",
       "      <td>NGem2a+lx/wBSRrCNLD5MegHBlls69v78Mv9cjHHy9s=</td>\n",
       "      <td>328237</td>\n",
       "      <td>465</td>\n",
       "      <td>George Michael</td>\n",
       "      <td>NaN</td>\n",
       "      <td>NaN</td>\n",
       "      <td>52.0</td>\n",
       "      <td>You Have Been Loved</td>\n",
       "      <td>GBARL0601621</td>\n",
       "      <td>0.706002</td>\n",
       "    </tr>\n",
       "  </tbody>\n",
       "</table>\n",
       "</div>"
      ],
      "text/plain": [
       "                                        song_id  song_length  genre_ids  \\\n",
       "0  JiHWUXkERiCPai7GKXVal+Cns8SWC8Ft0+5NKSQdbfU=       234370        465   \n",
       "1  p0vznXPDpqFXtJzcvx4f9NxqLDC+1PQ9/Prr8kUdSuc=       161149       1609   \n",
       "2  ulBJRABKso5kGxygDdVCfTpdXaSIIzyLqPsU+ciOKm8=       331395       1259   \n",
       "3  SVPVLZg1t7+aQoqFfQPs5lEl4iHf/DYf8hB/bbVyr88=       338860   2022|359   \n",
       "4  DyglzNccElIQTMtiKRbnHiYdKO+tEZCNA4G5DTZs4FY=       237959        465   \n",
       "5  1GI0GC3w9c0tDD2s0qP15DxrLUs9JX9XW6fKbY0rBZ8=       220496       1609   \n",
       "6  WMLsyMjcYUps04F3ZnRjvz7LqNmjGY76hl/D8V4ExgQ=       192261       1609   \n",
       "7  glS5BF8YGt1ogLMHKDjfW9rlF+1YxkBhKt/6N70STR0=       193840        139   \n",
       "8  v/3onppBGoSpGsWb8iaCIO8eX5+iacbH5a4ZUhT7N54=       161175  1616|1609   \n",
       "9  NGem2a+lx/wBSRrCNLD5MegHBlls69v78Mv9cjHHy9s=       328237        465   \n",
       "\n",
       "        artist_name                                           composer  \\\n",
       "0     Austin Mahone                                                NaN   \n",
       "1  The Chainsmokers  Andrew Taggart| Shaun Frank| Frederic Kennett|...   \n",
       "2           J. Cole                                      Jermaine Cole   \n",
       "3          Slowdive                                                NaN   \n",
       "4             Wham!                                     George Michael   \n",
       "5          DJ Snake    William Grigahcine| Adio Marchant| A. Kleinstub   \n",
       "6              Grey  Kyle Trewartha| Michael Trewartha| Sasha Yatch...   \n",
       "7        José James                    José James| Antario Dion Holmes   \n",
       "8       Alan Walker  Alan Walker| Jesper Borgen| Anders Froen| Gunn...   \n",
       "9    George Michael                                                NaN   \n",
       "\n",
       "                                            lyricist  language  \\\n",
       "0                                                NaN      52.0   \n",
       "1  Andrew Taggart| Shaun Frank| Frederic Kennett|...      52.0   \n",
       "2                                                NaN      52.0   \n",
       "3                                                NaN      52.0   \n",
       "4                                     George Michael      52.0   \n",
       "5                                                NaN      52.0   \n",
       "6                                                NaN      52.0   \n",
       "7                                                NaN      52.0   \n",
       "8  Alan Walker| Jesper Borgen| Anders Froen| Gunn...      52.0   \n",
       "9                                                NaN      52.0   \n",
       "\n",
       "                               name          isrc  similarity  \n",
       "0  Shake It For Me (feat. 2 Chainz)  QMRSZ1601336    0.749492  \n",
       "1                            Closer  USQX91602095    0.736199  \n",
       "2                            Change  QMJMT1601086    0.736063  \n",
       "3                       Star Roving  USJ5G1713202    0.731613  \n",
       "4                A Different Corner  GBBBM8600001    0.722280  \n",
       "5                            Middle  USUM71515784    0.714463  \n",
       "6                        I Miss You  USUM71700035    0.712479  \n",
       "7                      Always There  USUM71614569    0.711586  \n",
       "8                             Alone  NOG841617010    0.708199  \n",
       "9               You Have Been Loved  GBARL0601621    0.706002  "
      ]
     },
     "execution_count": 163,
     "metadata": {},
     "output_type": "execute_result"
    }
   ],
   "source": [
    "# name = '0ee/D6HjX0jSytUn3v58C0x6zEzN4bcPq3WlqvrG/Xo=' # heathens, Twenty one pilots\n",
    "name = 'e/upMhPFcXl3Rxq0Us1abr0FcThlZOeqKJhBobmltBU=' # Shape of you\n",
    "print(name)\n",
    "get_similars(name)"
   ]
  },
  {
   "cell_type": "code",
   "execution_count": 176,
   "metadata": {},
   "outputs": [],
   "source": [
    "song_data_name_author = []\n",
    "songs_in_dict = list(w2v.wv.key_to_index.keys())\n",
    "# for song_id in tqdm(w2v.wv.key_to_index.keys()):\n",
    "#     print(song_id, ds_songs[ds_songs['song_id'] == song_id]['name'], ds_songs[ds_songs['song_id'] == song_id]['artist_name'])\n",
    "#     song_data_name_author.append((song_id, ds_songs[ds_songs['song_id'] == song_id]['name'], ds_songs[ds_songs['song_id'] == song_id]['artist_name']))"
   ]
  },
  {
   "cell_type": "code",
   "execution_count": 173,
   "metadata": {},
   "outputs": [],
   "source": [
    "# w2v.wv.get_vector(\"e/upMhPFcXl3Rxq0Us1abr0FcThlZOeqKJhBobmltBU=\",norm=True)"
   ]
  },
  {
   "cell_type": "code",
   "execution_count": 175,
   "metadata": {},
   "outputs": [],
   "source": [
    "y_train = X_train['target']\n",
    "y_test = X_test['target']\n",
    "X_train = X_train.drop(columns=['target'])\n",
    "X_test = X_test.drop(columns=['target'])"
   ]
  },
  {
   "cell_type": "code",
   "execution_count": 184,
   "metadata": {},
   "outputs": [],
   "source": [
    "def get_user_embeddings(X, y):\n",
    "    embeddings = dict()\n",
    "    count = dict()\n",
    "    for (index, row), target in tqdm(zip(X_train.iterrows(), y_train)):\n",
    "        if target == 1:\n",
    "            user_id = row['msno']\n",
    "            song_id = row['song_id']\n",
    "            if song_id in songs_in_dict:\n",
    "                if user_id not in count:\n",
    "                    count[user_id] = 0\n",
    "                if user_id not in embeddings:\n",
    "                    embeddings[user_id] = np.zeros(100)\n",
    "                embeddings[user_id] += w2v.wv.get_vector(song_id, norm=True)\n",
    "                count[user_id] += 1\n",
    "    for user_id in embeddings.keys():\n",
    "        embeddings[user_id] /= count[user_id]\n",
    "    return embeddings    "
   ]
  },
  {
   "cell_type": "code",
   "execution_count": 185,
   "metadata": {},
   "outputs": [
    {
     "data": {
      "application/vnd.jupyter.widget-view+json": {
       "model_id": "c024850749ec483c85eb6f66a5c8d0a7",
       "version_major": 2,
       "version_minor": 0
      },
      "text/plain": [
       "HBox(children=(HTML(value=''), FloatProgress(value=1.0, bar_style='info', layout=Layout(width='20px'), max=1.0…"
      ]
     },
     "metadata": {},
     "output_type": "display_data"
    },
    {
     "name": "stdout",
     "output_type": "stream",
     "text": [
      "\n"
     ]
    }
   ],
   "source": [
    "user_embeddings = get_user_embeddings(X_train, y_train)"
   ]
  },
  {
   "cell_type": "code",
   "execution_count": 201,
   "metadata": {},
   "outputs": [],
   "source": [
    "def get_user_song_dot(user_id, song_id):\n",
    "    if user_id not in user_embeddings:\n",
    "        return 0\n",
    "    if song_id not in songs_in_dict:\n",
    "        return 0\n",
    "    uv = user_embeddings[user_id]\n",
    "    sv = w2v.wv.get_vector(song_id)\n",
    "    \n",
    "    u_n = np.linalg.norm(uv)\n",
    "    s_n = np.linalg.norm(sv)\n",
    "    return np.dot(uv / u_n, sv / s_n)"
   ]
  },
  {
   "cell_type": "code",
   "execution_count": 202,
   "metadata": {},
   "outputs": [],
   "source": [
    "X_test_c = X_test.copy()"
   ]
  },
  {
   "cell_type": "code",
   "execution_count": 203,
   "metadata": {},
   "outputs": [
    {
     "data": {
      "application/vnd.jupyter.widget-view+json": {
       "model_id": "95394b5df98243cc8e882640eb3fb84a",
       "version_major": 2,
       "version_minor": 0
      },
      "text/plain": [
       "HBox(children=(HTML(value=''), FloatProgress(value=1.0, bar_style='info', layout=Layout(width='20px'), max=1.0…"
      ]
     },
     "metadata": {},
     "output_type": "display_data"
    },
    {
     "name": "stdout",
     "output_type": "stream",
     "text": [
      "\n"
     ]
    }
   ],
   "source": [
    "target_res = []\n",
    "for index, row in tqdm(X_test_c.iterrows()):\n",
    "    user_id = row['msno']\n",
    "    song_id = row['song_id']\n",
    "    target_res.append(get_user_song_dot(user_id, song_id))"
   ]
  },
  {
   "cell_type": "markdown",
   "metadata": {},
   "source": [
    "### Результат хуже, чем у бустинга, вероятно мало данных, и много пропущенных песен"
   ]
  },
  {
   "cell_type": "code",
   "execution_count": 204,
   "metadata": {},
   "outputs": [
    {
     "data": {
      "text/plain": [
       "0.6180597257256804"
      ]
     },
     "execution_count": 204,
     "metadata": {},
     "output_type": "execute_result"
    }
   ],
   "source": [
    "from sklearn.metrics import roc_auc_score\n",
    "roc_auc_score(y_test, target_res)"
   ]
  },
  {
   "cell_type": "code",
   "execution_count": null,
   "metadata": {},
   "outputs": [],
   "source": []
  },
  {
   "cell_type": "code",
   "execution_count": null,
   "metadata": {},
   "outputs": [],
   "source": []
  }
 ],
 "metadata": {
  "kernelspec": {
   "display_name": "Python 3",
   "language": "python",
   "name": "python3"
  },
  "language_info": {
   "codemirror_mode": {
    "name": "ipython",
    "version": 3
   },
   "file_extension": ".py",
   "mimetype": "text/x-python",
   "name": "python",
   "nbconvert_exporter": "python",
   "pygments_lexer": "ipython3",
   "version": "3.8.5"
  }
 },
 "nbformat": 4,
 "nbformat_minor": 4
}
