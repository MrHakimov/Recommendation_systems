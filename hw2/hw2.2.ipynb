{
 "cells": [
  {
   "cell_type": "code",
   "execution_count": 61,
   "metadata": {},
   "outputs": [],
   "source": [
    "import pandas as pd\n",
    "import numpy as np"
   ]
  },
  {
   "cell_type": "code",
   "execution_count": 62,
   "metadata": {},
   "outputs": [],
   "source": [
    "ds_train = pd.read_csv('ds/train.csv')\n",
    "ds_songs = pd.read_csv('ds/songs.csv')\n",
    "ds_songs_extra_info = pd.read_csv('ds/song_extra_info.csv')\n",
    "ds_members = pd.read_csv('ds/members.csv')"
   ]
  },
  {
   "cell_type": "markdown",
   "metadata": {},
   "source": [
    "### Беру только 15% от датасета, потому что построение предложений идут очень долго =("
   ]
  },
  {
   "cell_type": "code",
   "execution_count": 63,
   "metadata": {},
   "outputs": [],
   "source": [
    "ds_train = ds_train.sample(frac=0.15)"
   ]
  },
  {
   "cell_type": "code",
   "execution_count": 64,
   "metadata": {
    "id": "p5ULodVu7BEe"
   },
   "outputs": [],
   "source": [
    "X_train = ds_train.sample(frac=0.8)\n",
    "X_test = ds_train.drop(X_train.index)"
   ]
  },
  {
   "cell_type": "markdown",
   "metadata": {},
   "source": [
    "### В качестве предложений(sentence) для каждого юзера буду рассматривать список песен, которые он лайкнул. Где айдишки песен - слова для word2vec"
   ]
  },
  {
   "cell_type": "code",
   "execution_count": 65,
   "metadata": {},
   "outputs": [],
   "source": [
    "X_train_pos = X_train[X_train['target'] == 1]"
   ]
  },
  {
   "cell_type": "code",
   "execution_count": 66,
   "metadata": {},
   "outputs": [],
   "source": [
    "from tqdm.notebook import tqdm, trange"
   ]
  },
  {
   "cell_type": "code",
   "execution_count": 67,
   "metadata": {},
   "outputs": [
    {
     "data": {
      "application/vnd.jupyter.widget-view+json": {
       "model_id": "a6d2b6644d77466fba24054272d65393",
       "version_major": 2,
       "version_minor": 0
      },
      "text/plain": [
       "HBox(children=(HTML(value=''), FloatProgress(value=0.0, max=23305.0), HTML(value='')))"
      ]
     },
     "metadata": {},
     "output_type": "display_data"
    },
    {
     "name": "stdout",
     "output_type": "stream",
     "text": [
      "\n"
     ]
    }
   ],
   "source": [
    "users = np.unique(X_train_pos['msno'].values)\n",
    "user_pos_history = [X_train_pos[X_train_pos['msno'] == user]['song_id'].astype(str).tolist() for user in tqdm(users)]"
   ]
  },
  {
   "cell_type": "code",
   "execution_count": 69,
   "metadata": {},
   "outputs": [],
   "source": [
    "from gensim.models import Word2Vec\n",
    "from sklearn.metrics import roc_auc_score"
   ]
  },
  {
   "cell_type": "code",
   "execution_count": 70,
   "metadata": {},
   "outputs": [],
   "source": [
    "y_train = X_train['target']\n",
    "y_test = X_test['target']\n",
    "X_train = X_train.drop(columns=['target'])\n",
    "X_test = X_test.drop(columns=['target'])"
   ]
  },
  {
   "cell_type": "markdown",
   "metadata": {},
   "source": [
    "### Эмбеддинги для юзеров беру как средний вектор лайкнутых песен"
   ]
  },
  {
   "cell_type": "code",
   "execution_count": 93,
   "metadata": {},
   "outputs": [],
   "source": [
    "def get_user_embeddings(X, y, model):\n",
    "    embeddings = dict()\n",
    "    count = dict()\n",
    "    for (index, row), target in tqdm(zip(X_train.iterrows(), y_train)):\n",
    "        if target == 1:\n",
    "            user_id = row['msno']\n",
    "            song_id = row['song_id']\n",
    "            if song_id in songs_in_dict:\n",
    "                if song_id in model.wv:\n",
    "                    if user_id not in count:\n",
    "                        count[user_id] = 0\n",
    "                    if user_id not in embeddings:\n",
    "                        embeddings[user_id] = np.zeros(100)\n",
    "                    embeddings[user_id] += model.wv.get_vector(song_id, norm=True)\n",
    "                    count[user_id] += 1\n",
    "    for user_id in embeddings.keys():\n",
    "        embeddings[user_id] /= count[user_id]\n",
    "    return embeddings    "
   ]
  },
  {
   "cell_type": "code",
   "execution_count": 94,
   "metadata": {},
   "outputs": [],
   "source": [
    "def get_user_song_dot(user_id, song_id, user_embeddings, songs_in_dict, model):\n",
    "    if user_id not in user_embeddings:\n",
    "        return 0\n",
    "    if song_id not in songs_in_dict:\n",
    "        return 0\n",
    "    uv = user_embeddings[user_id]\n",
    "    sv = model.wv.get_vector(song_id)\n",
    "    \n",
    "    u_n = np.linalg.norm(uv)\n",
    "    s_n = np.linalg.norm(sv)\n",
    "    return np.dot(uv / u_n, sv / s_n)"
   ]
  },
  {
   "cell_type": "code",
   "execution_count": 98,
   "metadata": {},
   "outputs": [],
   "source": [
    "def calc_auc_roc(model, user_embeddings):\n",
    "    X_test_c = X_test.copy()\n",
    "    target_res = []\n",
    "    songs_in_dict = list(model.wv.key_to_index.keys())\n",
    "    for index, row in tqdm(X_test_c.iterrows()):\n",
    "        user_id = row['msno']\n",
    "        song_id = row['song_id']\n",
    "        target_res.append(get_user_song_dot(user_id, song_id, user_embeddings, songs_in_dict, model))\n",
    "    return roc_auc_score(y_test, target_res)"
   ]
  },
  {
   "cell_type": "code",
   "execution_count": 110,
   "metadata": {},
   "outputs": [],
   "source": [
    "def get_best_params_for_w2v():\n",
    "    windows = [10, 15, 17, 20]\n",
    "    negatives = [3, 8, 15]\n",
    "    alphas = [0.03, 0.07, 0.15]\n",
    "    epochs = [10, 30, 50]\n",
    "    for window in windows:\n",
    "        model = Word2Vec(window=window, sg=1, hs=0, negative=8, alpha=0.07)\n",
    "        model.build_vocab(user_pos_history)\n",
    "        model.train(user_pos_history, total_examples=len(user_pos_history), epochs=30)\n",
    "        user_embeddings = get_user_embeddings(X_train, y_train, model)\n",
    "        auc = calc_auc_roc(model, user_embeddings)\n",
    "        print(\"window=\",window,\" ,auc=\",auc) "
   ]
  },
  {
   "cell_type": "code",
   "execution_count": 112,
   "metadata": {},
   "outputs": [
    {
     "data": {
      "application/vnd.jupyter.widget-view+json": {
       "model_id": "792db2de9307442285b217f96e3c99ca",
       "version_major": 2,
       "version_minor": 0
      },
      "text/plain": [
       "HBox(children=(HTML(value=''), FloatProgress(value=1.0, bar_style='info', layout=Layout(width='20px'), max=1.0…"
      ]
     },
     "metadata": {},
     "output_type": "display_data"
    },
    {
     "name": "stdout",
     "output_type": "stream",
     "text": [
      "\n"
     ]
    },
    {
     "data": {
      "application/vnd.jupyter.widget-view+json": {
       "model_id": "7aac91f0296f4fa594a128e16d264fe8",
       "version_major": 2,
       "version_minor": 0
      },
      "text/plain": [
       "HBox(children=(HTML(value=''), FloatProgress(value=1.0, bar_style='info', layout=Layout(width='20px'), max=1.0…"
      ]
     },
     "metadata": {},
     "output_type": "display_data"
    },
    {
     "name": "stdout",
     "output_type": "stream",
     "text": [
      "\n",
      "window= 10  ,auc= 0.629426504404691\n"
     ]
    },
    {
     "data": {
      "application/vnd.jupyter.widget-view+json": {
       "model_id": "57406756e5364f238a29079961d95f91",
       "version_major": 2,
       "version_minor": 0
      },
      "text/plain": [
       "HBox(children=(HTML(value=''), FloatProgress(value=1.0, bar_style='info', layout=Layout(width='20px'), max=1.0…"
      ]
     },
     "metadata": {},
     "output_type": "display_data"
    },
    {
     "name": "stdout",
     "output_type": "stream",
     "text": [
      "\n"
     ]
    },
    {
     "data": {
      "application/vnd.jupyter.widget-view+json": {
       "model_id": "a099398c6f8740c2b225e315f805a527",
       "version_major": 2,
       "version_minor": 0
      },
      "text/plain": [
       "HBox(children=(HTML(value=''), FloatProgress(value=1.0, bar_style='info', layout=Layout(width='20px'), max=1.0…"
      ]
     },
     "metadata": {},
     "output_type": "display_data"
    },
    {
     "name": "stdout",
     "output_type": "stream",
     "text": [
      "\n",
      "window= 15  ,auc= 0.6277959982013428\n"
     ]
    },
    {
     "data": {
      "application/vnd.jupyter.widget-view+json": {
       "model_id": "605628e48656495980c03e8a60bc69f8",
       "version_major": 2,
       "version_minor": 0
      },
      "text/plain": [
       "HBox(children=(HTML(value=''), FloatProgress(value=1.0, bar_style='info', layout=Layout(width='20px'), max=1.0…"
      ]
     },
     "metadata": {},
     "output_type": "display_data"
    },
    {
     "name": "stdout",
     "output_type": "stream",
     "text": [
      "\n"
     ]
    },
    {
     "data": {
      "application/vnd.jupyter.widget-view+json": {
       "model_id": "12cdbe6d621d41a0b0913779892b4419",
       "version_major": 2,
       "version_minor": 0
      },
      "text/plain": [
       "HBox(children=(HTML(value=''), FloatProgress(value=1.0, bar_style='info', layout=Layout(width='20px'), max=1.0…"
      ]
     },
     "metadata": {},
     "output_type": "display_data"
    },
    {
     "name": "stdout",
     "output_type": "stream",
     "text": [
      "\n",
      "window= 17  ,auc= 0.6273635300709198\n"
     ]
    },
    {
     "data": {
      "application/vnd.jupyter.widget-view+json": {
       "model_id": "7f8c732991bc4ec7b687641f45208157",
       "version_major": 2,
       "version_minor": 0
      },
      "text/plain": [
       "HBox(children=(HTML(value=''), FloatProgress(value=1.0, bar_style='info', layout=Layout(width='20px'), max=1.0…"
      ]
     },
     "metadata": {},
     "output_type": "display_data"
    },
    {
     "name": "stdout",
     "output_type": "stream",
     "text": [
      "\n"
     ]
    },
    {
     "data": {
      "application/vnd.jupyter.widget-view+json": {
       "model_id": "478fe5a8e0154dd6bd59fc9400d7008f",
       "version_major": 2,
       "version_minor": 0
      },
      "text/plain": [
       "HBox(children=(HTML(value=''), FloatProgress(value=1.0, bar_style='info', layout=Layout(width='20px'), max=1.0…"
      ]
     },
     "metadata": {},
     "output_type": "display_data"
    },
    {
     "name": "stdout",
     "output_type": "stream",
     "text": [
      "\n",
      "window= 20  ,auc= 0.626014403000967\n"
     ]
    }
   ],
   "source": [
    "get_best_params_for_w2v()"
   ]
  },
  {
   "cell_type": "markdown",
   "metadata": {},
   "source": [
    "### Повызывал прошлую функцию несколько раз, перебирая разные параметры. Нашел лучшую комбинацию"
   ]
  },
  {
   "cell_type": "markdown",
   "metadata": {},
   "source": [
    "window= 10  ,auc= 0.6297144126627747\n",
    "\n",
    "neg= 8  ,auc= 0.6294574276510667\n",
    "\n",
    "alpha= 0.07  ,auc= 0.6297221665853026\n",
    "\n",
    "epo= 30  ,auc= 0.6294950227709386"
   ]
  },
  {
   "cell_type": "code",
   "execution_count": 113,
   "metadata": {},
   "outputs": [
    {
     "data": {
      "text/plain": [
       "19.126925552456555"
      ]
     },
     "execution_count": 113,
     "metadata": {},
     "output_type": "execute_result"
    }
   ],
   "source": [
    "lengths = [len(arr) for arr in user_pos_history]\n",
    "np.mean(lengths)"
   ]
  },
  {
   "cell_type": "code",
   "execution_count": 114,
   "metadata": {},
   "outputs": [],
   "source": [
    "w2v = Word2Vec(window=10, sg=1, hs=0, negative=8, alpha=0.07)"
   ]
  },
  {
   "cell_type": "code",
   "execution_count": 115,
   "metadata": {},
   "outputs": [],
   "source": [
    "w2v.build_vocab(user_pos_history)"
   ]
  },
  {
   "cell_type": "code",
   "execution_count": 116,
   "metadata": {},
   "outputs": [
    {
     "data": {
      "text/plain": [
       "(10674119, 13372590)"
      ]
     },
     "execution_count": 116,
     "metadata": {},
     "output_type": "execute_result"
    }
   ],
   "source": [
    "w2v.train(user_pos_history, total_examples=len(user_pos_history), epochs=30)"
   ]
  },
  {
   "cell_type": "code",
   "execution_count": 117,
   "metadata": {},
   "outputs": [],
   "source": [
    "ds_songs = ds_songs.merge(ds_songs_extra_info,on='song_id',how='left')"
   ]
  },
  {
   "cell_type": "code",
   "execution_count": 118,
   "metadata": {},
   "outputs": [
    {
     "data": {
      "text/plain": [
       "(2296320, 11)"
      ]
     },
     "execution_count": 118,
     "metadata": {},
     "output_type": "execute_result"
    }
   ],
   "source": [
    "ds_songs.shape"
   ]
  },
  {
   "cell_type": "code",
   "execution_count": 119,
   "metadata": {},
   "outputs": [
    {
     "name": "stdout",
     "output_type": "stream",
     "text": [
      "Word2Vec(vocab=12262, vector_size=100, alpha=0.07)\n"
     ]
    }
   ],
   "source": [
    "print(w2v)"
   ]
  },
  {
   "cell_type": "code",
   "execution_count": 127,
   "metadata": {},
   "outputs": [],
   "source": [
    "def get_similars(name):\n",
    "    sims = w2v.wv.most_similar_cosmul(name, topn=1000)\n",
    "    data = []\n",
    "    for song, similarity in sims:\n",
    "        d = ds_songs[ds_songs['song_id'] == song].to_dict('records')[0]\n",
    "        d['similarity'] = similarity\n",
    "        data.append(d)\n",
    "    return pd.DataFrame(data)"
   ]
  },
  {
   "cell_type": "code",
   "execution_count": 131,
   "metadata": {},
   "outputs": [
    {
     "name": "stdout",
     "output_type": "stream",
     "text": [
      "e/upMhPFcXl3Rxq0Us1abr0FcThlZOeqKJhBobmltBU=\n"
     ]
    }
   ],
   "source": [
    "# name = '0ee/D6HjX0jSytUn3v58C0x6zEzN4bcPq3WlqvrG/Xo=' # heathens, Twenty one pilots\n",
    "name = 'e/upMhPFcXl3Rxq0Us1abr0FcThlZOeqKJhBobmltBU=' # Shape of you\n",
    "print(name)\n",
    "dff = get_similars(name)"
   ]
  },
  {
   "cell_type": "code",
   "execution_count": 132,
   "metadata": {},
   "outputs": [
    {
     "data": {
      "text/html": [
       "<div>\n",
       "<style scoped>\n",
       "    .dataframe tbody tr th:only-of-type {\n",
       "        vertical-align: middle;\n",
       "    }\n",
       "\n",
       "    .dataframe tbody tr th {\n",
       "        vertical-align: top;\n",
       "    }\n",
       "\n",
       "    .dataframe thead th {\n",
       "        text-align: right;\n",
       "    }\n",
       "</style>\n",
       "<table border=\"1\" class=\"dataframe\">\n",
       "  <thead>\n",
       "    <tr style=\"text-align: right;\">\n",
       "      <th></th>\n",
       "      <th>song_id</th>\n",
       "      <th>song_length</th>\n",
       "      <th>genre_ids</th>\n",
       "      <th>artist_name</th>\n",
       "      <th>composer</th>\n",
       "      <th>lyricist</th>\n",
       "      <th>language</th>\n",
       "      <th>name_x</th>\n",
       "      <th>isrc_x</th>\n",
       "      <th>name_y</th>\n",
       "      <th>isrc_y</th>\n",
       "      <th>similarity</th>\n",
       "    </tr>\n",
       "  </thead>\n",
       "  <tbody>\n",
       "    <tr>\n",
       "      <th>3</th>\n",
       "      <td>IKMFuL0f5Y8c63Hg9BXkeNJjE0z8yf3gMt/tOxF4QNE=</td>\n",
       "      <td>244976</td>\n",
       "      <td>1609</td>\n",
       "      <td>The Chainsmokers</td>\n",
       "      <td>Andrew Taggart| Shaun Frank| Frederic Kennett|...</td>\n",
       "      <td>Andrew Taggart| Shaun Frank| Frederic Kennett|...</td>\n",
       "      <td>52.0</td>\n",
       "      <td>Closer</td>\n",
       "      <td>USQX91601347</td>\n",
       "      <td>Closer</td>\n",
       "      <td>USQX91601347</td>\n",
       "      <td>0.794069</td>\n",
       "    </tr>\n",
       "    <tr>\n",
       "      <th>5</th>\n",
       "      <td>n+FLlTL+LrNTa6xpoGkESEzlUMb/hPEM1nLq2U6fEp0=</td>\n",
       "      <td>261172</td>\n",
       "      <td>465</td>\n",
       "      <td>Ed Sheeran</td>\n",
       "      <td>Ed Sheeran| Benjamin Levin</td>\n",
       "      <td>NaN</td>\n",
       "      <td>52.0</td>\n",
       "      <td>Castle on the Hill</td>\n",
       "      <td>GBAHS1600462</td>\n",
       "      <td>Castle on the Hill</td>\n",
       "      <td>GBAHS1600462</td>\n",
       "      <td>0.791956</td>\n",
       "    </tr>\n",
       "    <tr>\n",
       "      <th>6</th>\n",
       "      <td>MtFK4NN8Kv1k/xPA3wb8SQaP/jWee52FAaC1s9NFsU4=</td>\n",
       "      <td>222197</td>\n",
       "      <td>1609</td>\n",
       "      <td>Calvin Harris</td>\n",
       "      <td>Calvin Harris| Taylor Swift</td>\n",
       "      <td>Calvin Harris| Taylor Swift</td>\n",
       "      <td>52.0</td>\n",
       "      <td>This Is What You Came For</td>\n",
       "      <td>GBARL1600460</td>\n",
       "      <td>This Is What You Came For</td>\n",
       "      <td>GBARL1600460</td>\n",
       "      <td>0.790852</td>\n",
       "    </tr>\n",
       "    <tr>\n",
       "      <th>7</th>\n",
       "      <td>0b8M2FLEH176y/ng1rK9ftUYDYnA+1NdoCOUeuyBMtU=</td>\n",
       "      <td>221544</td>\n",
       "      <td>1609</td>\n",
       "      <td>The Chainsmokers</td>\n",
       "      <td>Andrew Taggart| Kris Eriksson| Fredrik Häggstam</td>\n",
       "      <td>Andrew Taggart| Kris Eriksson| Fredrik Häggstam</td>\n",
       "      <td>52.0</td>\n",
       "      <td>Paris</td>\n",
       "      <td>USQX91603031</td>\n",
       "      <td>Paris</td>\n",
       "      <td>USQX91603031</td>\n",
       "      <td>0.785878</td>\n",
       "    </tr>\n",
       "    <tr>\n",
       "      <th>8</th>\n",
       "      <td>XA08z3r0wdQvY3CE0lFDTd/MuAgD7b0XKZnCvo+ylKE=</td>\n",
       "      <td>245109</td>\n",
       "      <td>921</td>\n",
       "      <td>ZAYN| Taylor Swift</td>\n",
       "      <td>Taylor Swift| Jack Antonoff| Sam Dew</td>\n",
       "      <td>NaN</td>\n",
       "      <td>52.0</td>\n",
       "      <td>I Don’t Wanna Live Forever (Fifty Shades Darker)</td>\n",
       "      <td>USQ4E1602586</td>\n",
       "      <td>I Don’t Wanna Live Forever (Fifty Shades Darker)</td>\n",
       "      <td>USQ4E1602586</td>\n",
       "      <td>0.783988</td>\n",
       "    </tr>\n",
       "    <tr>\n",
       "      <th>10</th>\n",
       "      <td>zHqZ07gn+YvF36FWzv9+y8KiCMhYhdAUS+vSIKY3UZY=</td>\n",
       "      <td>189361</td>\n",
       "      <td>1616|1609</td>\n",
       "      <td>Alan Walker</td>\n",
       "      <td>Alan Walker| Jesper Borgen| Anders Froen| Gunn...</td>\n",
       "      <td>Alan Walker| Jesper Borgen| Anders Froen| Gunn...</td>\n",
       "      <td>52.0</td>\n",
       "      <td>Sing Me to Sleep</td>\n",
       "      <td>NOG841611010</td>\n",
       "      <td>Sing Me to Sleep</td>\n",
       "      <td>NOG841611010</td>\n",
       "      <td>0.782662</td>\n",
       "    </tr>\n",
       "    <tr>\n",
       "      <th>12</th>\n",
       "      <td>i356q8t0P9emMJq8PsFkY6CGoi34mP3cgXuDpfEDyhY=</td>\n",
       "      <td>195735</td>\n",
       "      <td>1616</td>\n",
       "      <td>Martin Garrix| Bebe Rexha</td>\n",
       "      <td>Martijn Garritsen| Matthew Radosevich| Ruth An...</td>\n",
       "      <td>Martijn Garritsen| Matthew Radosevich| Ruth An...</td>\n",
       "      <td>52.0</td>\n",
       "      <td>In the Name of Love</td>\n",
       "      <td>NLM5S1600003</td>\n",
       "      <td>In the Name of Love</td>\n",
       "      <td>NLM5S1600003</td>\n",
       "      <td>0.778409</td>\n",
       "    </tr>\n",
       "    <tr>\n",
       "      <th>13</th>\n",
       "      <td>J4qKkLIoW7aYACuTupHLAPZYmRp08en1AEux+GSUzdw=</td>\n",
       "      <td>212750</td>\n",
       "      <td>1616|1609</td>\n",
       "      <td>Alan Walker</td>\n",
       "      <td>Alan Walker| Jesper Borgen| Anders Froen| Gunn...</td>\n",
       "      <td>Alan Walker| Jesper Borgen| Anders Froen| Gunn...</td>\n",
       "      <td>52.0</td>\n",
       "      <td>Faded</td>\n",
       "      <td>NOG841549010</td>\n",
       "      <td>Faded</td>\n",
       "      <td>NOG841549010</td>\n",
       "      <td>0.775520</td>\n",
       "    </tr>\n",
       "    <tr>\n",
       "      <th>15</th>\n",
       "      <td>3VkD5ekIf5duJm1hmYTZlXjyl0zqV8wCzuAh3uocfCg=</td>\n",
       "      <td>217730</td>\n",
       "      <td>465</td>\n",
       "      <td>CHARLIE PUTH</td>\n",
       "      <td>NaN</td>\n",
       "      <td>NaN</td>\n",
       "      <td>52.0</td>\n",
       "      <td>We Don't Talk Anymore</td>\n",
       "      <td>USAT21502909</td>\n",
       "      <td>We Don't Talk Anymore</td>\n",
       "      <td>USAT21502909</td>\n",
       "      <td>0.774718</td>\n",
       "    </tr>\n",
       "    <tr>\n",
       "      <th>18</th>\n",
       "      <td>+LztcJcPEEwsikk6+K5udm06XJQMzR4+lzavKLUyE0k=</td>\n",
       "      <td>208492</td>\n",
       "      <td>1609</td>\n",
       "      <td>The Chainsmokers</td>\n",
       "      <td>Andrew Taggart| Emily Warren| Scott Harris</td>\n",
       "      <td>Andrew Taggart| Emily Warren| Scott Harris</td>\n",
       "      <td>52.0</td>\n",
       "      <td>Don't Let Me Down</td>\n",
       "      <td>USQX91600011</td>\n",
       "      <td>Don't Let Me Down</td>\n",
       "      <td>USQX91600011</td>\n",
       "      <td>0.772148</td>\n",
       "    </tr>\n",
       "  </tbody>\n",
       "</table>\n",
       "</div>"
      ],
      "text/plain": [
       "                                         song_id  song_length  genre_ids  \\\n",
       "3   IKMFuL0f5Y8c63Hg9BXkeNJjE0z8yf3gMt/tOxF4QNE=       244976       1609   \n",
       "5   n+FLlTL+LrNTa6xpoGkESEzlUMb/hPEM1nLq2U6fEp0=       261172        465   \n",
       "6   MtFK4NN8Kv1k/xPA3wb8SQaP/jWee52FAaC1s9NFsU4=       222197       1609   \n",
       "7   0b8M2FLEH176y/ng1rK9ftUYDYnA+1NdoCOUeuyBMtU=       221544       1609   \n",
       "8   XA08z3r0wdQvY3CE0lFDTd/MuAgD7b0XKZnCvo+ylKE=       245109        921   \n",
       "10  zHqZ07gn+YvF36FWzv9+y8KiCMhYhdAUS+vSIKY3UZY=       189361  1616|1609   \n",
       "12  i356q8t0P9emMJq8PsFkY6CGoi34mP3cgXuDpfEDyhY=       195735       1616   \n",
       "13  J4qKkLIoW7aYACuTupHLAPZYmRp08en1AEux+GSUzdw=       212750  1616|1609   \n",
       "15  3VkD5ekIf5duJm1hmYTZlXjyl0zqV8wCzuAh3uocfCg=       217730        465   \n",
       "18  +LztcJcPEEwsikk6+K5udm06XJQMzR4+lzavKLUyE0k=       208492       1609   \n",
       "\n",
       "                  artist_name  \\\n",
       "3            The Chainsmokers   \n",
       "5                  Ed Sheeran   \n",
       "6               Calvin Harris   \n",
       "7            The Chainsmokers   \n",
       "8          ZAYN| Taylor Swift   \n",
       "10                Alan Walker   \n",
       "12  Martin Garrix| Bebe Rexha   \n",
       "13                Alan Walker   \n",
       "15               CHARLIE PUTH   \n",
       "18           The Chainsmokers   \n",
       "\n",
       "                                             composer  \\\n",
       "3   Andrew Taggart| Shaun Frank| Frederic Kennett|...   \n",
       "5                          Ed Sheeran| Benjamin Levin   \n",
       "6                         Calvin Harris| Taylor Swift   \n",
       "7     Andrew Taggart| Kris Eriksson| Fredrik Häggstam   \n",
       "8                Taylor Swift| Jack Antonoff| Sam Dew   \n",
       "10  Alan Walker| Jesper Borgen| Anders Froen| Gunn...   \n",
       "12  Martijn Garritsen| Matthew Radosevich| Ruth An...   \n",
       "13  Alan Walker| Jesper Borgen| Anders Froen| Gunn...   \n",
       "15                                                NaN   \n",
       "18         Andrew Taggart| Emily Warren| Scott Harris   \n",
       "\n",
       "                                             lyricist  language  \\\n",
       "3   Andrew Taggart| Shaun Frank| Frederic Kennett|...      52.0   \n",
       "5                                                 NaN      52.0   \n",
       "6                         Calvin Harris| Taylor Swift      52.0   \n",
       "7     Andrew Taggart| Kris Eriksson| Fredrik Häggstam      52.0   \n",
       "8                                                 NaN      52.0   \n",
       "10  Alan Walker| Jesper Borgen| Anders Froen| Gunn...      52.0   \n",
       "12  Martijn Garritsen| Matthew Radosevich| Ruth An...      52.0   \n",
       "13  Alan Walker| Jesper Borgen| Anders Froen| Gunn...      52.0   \n",
       "15                                                NaN      52.0   \n",
       "18         Andrew Taggart| Emily Warren| Scott Harris      52.0   \n",
       "\n",
       "                                              name_x        isrc_x  \\\n",
       "3                                             Closer  USQX91601347   \n",
       "5                                 Castle on the Hill  GBAHS1600462   \n",
       "6                          This Is What You Came For  GBARL1600460   \n",
       "7                                              Paris  USQX91603031   \n",
       "8   I Don’t Wanna Live Forever (Fifty Shades Darker)  USQ4E1602586   \n",
       "10                                  Sing Me to Sleep  NOG841611010   \n",
       "12                               In the Name of Love  NLM5S1600003   \n",
       "13                                             Faded  NOG841549010   \n",
       "15                             We Don't Talk Anymore  USAT21502909   \n",
       "18                                 Don't Let Me Down  USQX91600011   \n",
       "\n",
       "                                              name_y        isrc_y  similarity  \n",
       "3                                             Closer  USQX91601347    0.794069  \n",
       "5                                 Castle on the Hill  GBAHS1600462    0.791956  \n",
       "6                          This Is What You Came For  GBARL1600460    0.790852  \n",
       "7                                              Paris  USQX91603031    0.785878  \n",
       "8   I Don’t Wanna Live Forever (Fifty Shades Darker)  USQ4E1602586    0.783988  \n",
       "10                                  Sing Me to Sleep  NOG841611010    0.782662  \n",
       "12                               In the Name of Love  NLM5S1600003    0.778409  \n",
       "13                                             Faded  NOG841549010    0.775520  \n",
       "15                             We Don't Talk Anymore  USAT21502909    0.774718  \n",
       "18                                 Don't Let Me Down  USQX91600011    0.772148  "
      ]
     },
     "execution_count": 132,
     "metadata": {},
     "output_type": "execute_result"
    }
   ],
   "source": [
    "dff[dff['language']==52.0].head(10)"
   ]
  },
  {
   "cell_type": "code",
   "execution_count": 122,
   "metadata": {},
   "outputs": [],
   "source": [
    "song_data_name_author = []\n",
    "songs_in_dict = list(w2v.wv.key_to_index.keys())\n",
    "# for song_id in tqdm(w2v.wv.key_to_index.keys()):\n",
    "#     print(song_id, ds_songs[ds_songs['song_id'] == song_id]['name'], ds_songs[ds_songs['song_id'] == song_id]['artist_name'])\n",
    "#     song_data_name_author.append((song_id, ds_songs[ds_songs['song_id'] == song_id]['name'], ds_songs[ds_songs['song_id'] == song_id]['artist_name']))"
   ]
  },
  {
   "cell_type": "code",
   "execution_count": 123,
   "metadata": {},
   "outputs": [],
   "source": [
    "# w2v.wv.get_vector(\"e/upMhPFcXl3Rxq0Us1abr0FcThlZOeqKJhBobmltBU=\",norm=True)"
   ]
  },
  {
   "cell_type": "code",
   "execution_count": 124,
   "metadata": {},
   "outputs": [
    {
     "data": {
      "application/vnd.jupyter.widget-view+json": {
       "model_id": "267b62fc86f745ffb5eb0715e1c9dc73",
       "version_major": 2,
       "version_minor": 0
      },
      "text/plain": [
       "HBox(children=(HTML(value=''), FloatProgress(value=1.0, bar_style='info', layout=Layout(width='20px'), max=1.0…"
      ]
     },
     "metadata": {},
     "output_type": "display_data"
    },
    {
     "name": "stdout",
     "output_type": "stream",
     "text": [
      "\n"
     ]
    }
   ],
   "source": [
    "user_embeddings = get_user_embeddings(X_train, y_train, w2v)"
   ]
  },
  {
   "cell_type": "markdown",
   "metadata": {},
   "source": [
    "### Результат хуже, чем у бустинга, вероятно мало данных, и много пропущенных песен"
   ]
  },
  {
   "cell_type": "code",
   "execution_count": 125,
   "metadata": {},
   "outputs": [
    {
     "data": {
      "application/vnd.jupyter.widget-view+json": {
       "model_id": "67d5a1dcb53344f8ab646047368d657c",
       "version_major": 2,
       "version_minor": 0
      },
      "text/plain": [
       "HBox(children=(HTML(value=''), FloatProgress(value=1.0, bar_style='info', layout=Layout(width='20px'), max=1.0…"
      ]
     },
     "metadata": {},
     "output_type": "display_data"
    },
    {
     "name": "stdout",
     "output_type": "stream",
     "text": [
      "\n"
     ]
    },
    {
     "data": {
      "text/plain": [
       "0.6293630788553305"
      ]
     },
     "execution_count": 125,
     "metadata": {},
     "output_type": "execute_result"
    }
   ],
   "source": [
    "calc_auc_roc(w2v, user_embeddings)"
   ]
  },
  {
   "cell_type": "markdown",
   "metadata": {},
   "source": [
    "# Добавим эти данные к GBDT "
   ]
  },
  {
   "cell_type": "code",
   "execution_count": 28,
   "metadata": {},
   "outputs": [],
   "source": [
    "# ds_train = pd.read_csv('ds/train.csv')\n",
    "# ds_songs = pd.read_csv('ds/songs.csv')\n",
    "# ds_songs_extra_info = pd.read_csv('ds/song_extra_info.csv')\n",
    "# ds_members = pd.read_csv('ds/members.csv')"
   ]
  },
  {
   "cell_type": "markdown",
   "metadata": {},
   "source": [
    "## (Дальше немного пойдет копипаста 1 части)"
   ]
  },
  {
   "cell_type": "code",
   "execution_count": 133,
   "metadata": {
    "id": "lS3rTJ3k7BET"
   },
   "outputs": [],
   "source": [
    "genres_for_song = ds_songs['genre_ids'].apply(lambda x: [int(v) for v in str(x).split('|') if v != 'nan'])"
   ]
  },
  {
   "cell_type": "code",
   "execution_count": 134,
   "metadata": {
    "id": "ZDidtu5W7BET"
   },
   "outputs": [],
   "source": [
    "genres = dict()\n",
    "for genre_list in genres_for_song:\n",
    "    for g in genre_list:\n",
    "        if g not in genres:\n",
    "            genres[g] = 0\n",
    "        genres[g] += 1"
   ]
  },
  {
   "cell_type": "code",
   "execution_count": 135,
   "metadata": {
    "id": "affXRZzS7BEU"
   },
   "outputs": [],
   "source": [
    "sorted_genres = {k: v for k, v in reversed(sorted(genres.items(), key=lambda item: item[1]))}\n",
    "sorted_genres['0'] = -1"
   ]
  },
  {
   "cell_type": "code",
   "execution_count": 136,
   "metadata": {
    "id": "rIA1ohgtXTEY"
   },
   "outputs": [],
   "source": [
    "def get_most_popular(g_list):\n",
    "    res = '0'\n",
    "    for g in g_list:\n",
    "        if sorted_genres[res] < sorted_genres[g]:\n",
    "            res = g\n",
    "    return res"
   ]
  },
  {
   "cell_type": "code",
   "execution_count": 137,
   "metadata": {
    "id": "584IHQGfXKd_"
   },
   "outputs": [],
   "source": [
    "most_pop = []\n",
    "for genre_list in genres_for_song:\n",
    "    most_pop.append(get_most_popular(genre_list))"
   ]
  },
  {
   "cell_type": "code",
   "execution_count": 138,
   "metadata": {
    "id": "mSgTZYcZ7BEX"
   },
   "outputs": [],
   "source": [
    "ds_songs['genre_ids'] = most_pop"
   ]
  },
  {
   "cell_type": "code",
   "execution_count": 139,
   "metadata": {},
   "outputs": [],
   "source": [
    "def leave_first(column):\n",
    "    items = ds_songs[column].apply(lambda x: [v for v in str(x).split('|')])\n",
    "    res = [v[0] for v in items]\n",
    "    ds_songs[column] = res"
   ]
  },
  {
   "cell_type": "code",
   "execution_count": 140,
   "metadata": {},
   "outputs": [],
   "source": [
    "leave_first('artist_name')\n",
    "leave_first('composer')\n",
    "leave_first('lyricist')"
   ]
  },
  {
   "cell_type": "code",
   "execution_count": 141,
   "metadata": {},
   "outputs": [],
   "source": [
    "ds_train = ds_train.merge(ds_members,on='msno',how='left')\n",
    "ds_train = ds_train.merge(ds_songs,on='song_id',how='left')\n",
    "ds_train = ds_train.fillna(0)"
   ]
  },
  {
   "cell_type": "code",
   "execution_count": 142,
   "metadata": {},
   "outputs": [],
   "source": [
    "ds_train.drop(columns=['registration_init_time','expiration_date','song_length'], inplace=True)"
   ]
  },
  {
   "cell_type": "code",
   "execution_count": 143,
   "metadata": {
    "colab": {
     "base_uri": "https://localhost:8080/",
     "height": 264
    },
    "id": "8cKXCljC7BEe",
    "outputId": "7205fb67-b3a3-4c9b-878e-53bdc999165c"
   },
   "outputs": [
    {
     "data": {
      "text/html": [
       "<div>\n",
       "<style scoped>\n",
       "    .dataframe tbody tr th:only-of-type {\n",
       "        vertical-align: middle;\n",
       "    }\n",
       "\n",
       "    .dataframe tbody tr th {\n",
       "        vertical-align: top;\n",
       "    }\n",
       "\n",
       "    .dataframe thead th {\n",
       "        text-align: right;\n",
       "    }\n",
       "</style>\n",
       "<table border=\"1\" class=\"dataframe\">\n",
       "  <thead>\n",
       "    <tr style=\"text-align: right;\">\n",
       "      <th></th>\n",
       "      <th>msno</th>\n",
       "      <th>song_id</th>\n",
       "      <th>source_system_tab</th>\n",
       "      <th>source_screen_name</th>\n",
       "      <th>source_type</th>\n",
       "      <th>target</th>\n",
       "      <th>city</th>\n",
       "      <th>bd</th>\n",
       "      <th>gender</th>\n",
       "      <th>registered_via</th>\n",
       "      <th>genre_ids</th>\n",
       "      <th>artist_name</th>\n",
       "      <th>composer</th>\n",
       "      <th>lyricist</th>\n",
       "      <th>language</th>\n",
       "      <th>name_x</th>\n",
       "      <th>isrc_x</th>\n",
       "      <th>name_y</th>\n",
       "      <th>isrc_y</th>\n",
       "    </tr>\n",
       "  </thead>\n",
       "  <tbody>\n",
       "    <tr>\n",
       "      <th>0</th>\n",
       "      <td>e9/q+cgrD4qiElNXFx/gXrJythEnoVqXG+TiySLTwjs=</td>\n",
       "      <td>itS9I3/F6ocB8d57PCV7ye2H0jFbfebHYotvrUDOUHk=</td>\n",
       "      <td>my library</td>\n",
       "      <td>Local playlist more</td>\n",
       "      <td>local-playlist</td>\n",
       "      <td>1</td>\n",
       "      <td>13</td>\n",
       "      <td>7</td>\n",
       "      <td>male</td>\n",
       "      <td>3</td>\n",
       "      <td>465</td>\n",
       "      <td>黃鴻升 (Alien Huang)</td>\n",
       "      <td>黃鴻升/衛斯理</td>\n",
       "      <td>黃鴻升/衛斯理</td>\n",
       "      <td>3</td>\n",
       "      <td>忘了我</td>\n",
       "      <td>TWA451507061</td>\n",
       "      <td>忘了我</td>\n",
       "      <td>TWA451507061</td>\n",
       "    </tr>\n",
       "    <tr>\n",
       "      <th>1</th>\n",
       "      <td>gjFD3HBX+vzTnUfX8N39j6LkpiQIaEHuKKzUlkFdJ7s=</td>\n",
       "      <td>izWkEacMHX6lc+hEC3QnWwWd2LXiHZ9tacUNpfUz+aw=</td>\n",
       "      <td>discover</td>\n",
       "      <td>Online playlist more</td>\n",
       "      <td>song-based-playlist</td>\n",
       "      <td>0</td>\n",
       "      <td>22</td>\n",
       "      <td>29</td>\n",
       "      <td>0</td>\n",
       "      <td>9</td>\n",
       "      <td>465</td>\n",
       "      <td>彭佳慧 (Julia Peng)</td>\n",
       "      <td>Xiao Huang Qi</td>\n",
       "      <td>Chen Hong Yu</td>\n",
       "      <td>3</td>\n",
       "      <td>大齡女子 (Darling)</td>\n",
       "      <td>TWW851500003</td>\n",
       "      <td>大齡女子 (Darling)</td>\n",
       "      <td>TWW851500003</td>\n",
       "    </tr>\n",
       "    <tr>\n",
       "      <th>2</th>\n",
       "      <td>LPuZh7eV6wKEJ4OFxV3qQUOZt6n+Ay5xQ9oznhDc6FQ=</td>\n",
       "      <td>c2gmsQ0uEDZQM3lr54HdW+iPmr+a+JWJQ55YZ9oQP60=</td>\n",
       "      <td>search</td>\n",
       "      <td>Search</td>\n",
       "      <td>song</td>\n",
       "      <td>1</td>\n",
       "      <td>11</td>\n",
       "      <td>58</td>\n",
       "      <td>male</td>\n",
       "      <td>9</td>\n",
       "      <td>465</td>\n",
       "      <td>玖壹壹</td>\n",
       "      <td>陳皓宇</td>\n",
       "      <td>廖建至 洪瑜鴻 陳皓宇</td>\n",
       "      <td>3</td>\n",
       "      <td>來去趴踢</td>\n",
       "      <td>TWA451500405</td>\n",
       "      <td>來去趴踢</td>\n",
       "      <td>TWA451500405</td>\n",
       "    </tr>\n",
       "  </tbody>\n",
       "</table>\n",
       "</div>"
      ],
      "text/plain": [
       "                                           msno  \\\n",
       "0  e9/q+cgrD4qiElNXFx/gXrJythEnoVqXG+TiySLTwjs=   \n",
       "1  gjFD3HBX+vzTnUfX8N39j6LkpiQIaEHuKKzUlkFdJ7s=   \n",
       "2  LPuZh7eV6wKEJ4OFxV3qQUOZt6n+Ay5xQ9oznhDc6FQ=   \n",
       "\n",
       "                                        song_id source_system_tab  \\\n",
       "0  itS9I3/F6ocB8d57PCV7ye2H0jFbfebHYotvrUDOUHk=        my library   \n",
       "1  izWkEacMHX6lc+hEC3QnWwWd2LXiHZ9tacUNpfUz+aw=          discover   \n",
       "2  c2gmsQ0uEDZQM3lr54HdW+iPmr+a+JWJQ55YZ9oQP60=            search   \n",
       "\n",
       "     source_screen_name          source_type  target  city  bd gender  \\\n",
       "0   Local playlist more       local-playlist       1    13   7   male   \n",
       "1  Online playlist more  song-based-playlist       0    22  29      0   \n",
       "2                Search                 song       1    11  58   male   \n",
       "\n",
       "   registered_via genre_ids        artist_name       composer      lyricist  \\\n",
       "0               3       465  黃鴻升 (Alien Huang)        黃鴻升/衛斯理       黃鴻升/衛斯理   \n",
       "1               9       465   彭佳慧 (Julia Peng)  Xiao Huang Qi  Chen Hong Yu   \n",
       "2               9       465                玖壹壹            陳皓宇   廖建至 洪瑜鴻 陳皓宇   \n",
       "\n",
       "  language          name_x        isrc_x          name_y        isrc_y  \n",
       "0        3             忘了我  TWA451507061             忘了我  TWA451507061  \n",
       "1        3  大齡女子 (Darling)  TWW851500003  大齡女子 (Darling)  TWW851500003  \n",
       "2        3            來去趴踢  TWA451500405            來去趴踢  TWA451500405  "
      ]
     },
     "execution_count": 143,
     "metadata": {},
     "output_type": "execute_result"
    }
   ],
   "source": [
    "ds_train['language'] = ds_train['language'].astype(int).astype('category')\n",
    "ds_train.head(3)"
   ]
  },
  {
   "cell_type": "code",
   "execution_count": 146,
   "metadata": {},
   "outputs": [],
   "source": [
    "def get_dots(row):\n",
    "    user_id = row['msno']\n",
    "    song_id = row['song_id']\n",
    "    return get_user_song_dot(user_id, song_id, user_embeddings, songs_in_dict, w2v)"
   ]
  },
  {
   "cell_type": "code",
   "execution_count": 147,
   "metadata": {},
   "outputs": [],
   "source": [
    "ds_train['dot'] = ds_train.apply(lambda row: get_dots(row), axis=1)"
   ]
  },
  {
   "cell_type": "code",
   "execution_count": 148,
   "metadata": {},
   "outputs": [],
   "source": [
    "X_train=ds_train.sample(frac=0.8)\n",
    "X_test=ds_train.drop(X_train.index)"
   ]
  },
  {
   "cell_type": "code",
   "execution_count": 149,
   "metadata": {},
   "outputs": [],
   "source": [
    "y_train = X_train['target']\n",
    "y_test = X_test['target']\n",
    "X_train = X_train.drop(columns=['target'])\n",
    "X_test = X_test.drop(columns=['target'])"
   ]
  },
  {
   "cell_type": "code",
   "execution_count": 150,
   "metadata": {},
   "outputs": [
    {
     "data": {
      "text/html": [
       "<div>\n",
       "<style scoped>\n",
       "    .dataframe tbody tr th:only-of-type {\n",
       "        vertical-align: middle;\n",
       "    }\n",
       "\n",
       "    .dataframe tbody tr th {\n",
       "        vertical-align: top;\n",
       "    }\n",
       "\n",
       "    .dataframe thead th {\n",
       "        text-align: right;\n",
       "    }\n",
       "</style>\n",
       "<table border=\"1\" class=\"dataframe\">\n",
       "  <thead>\n",
       "    <tr style=\"text-align: right;\">\n",
       "      <th></th>\n",
       "      <th>msno</th>\n",
       "      <th>song_id</th>\n",
       "      <th>source_system_tab</th>\n",
       "      <th>source_screen_name</th>\n",
       "      <th>source_type</th>\n",
       "      <th>target</th>\n",
       "      <th>city</th>\n",
       "      <th>bd</th>\n",
       "      <th>gender</th>\n",
       "      <th>registered_via</th>\n",
       "      <th>genre_ids</th>\n",
       "      <th>artist_name</th>\n",
       "      <th>composer</th>\n",
       "      <th>lyricist</th>\n",
       "      <th>language</th>\n",
       "      <th>name_x</th>\n",
       "      <th>isrc_x</th>\n",
       "      <th>name_y</th>\n",
       "      <th>isrc_y</th>\n",
       "      <th>dot</th>\n",
       "    </tr>\n",
       "  </thead>\n",
       "  <tbody>\n",
       "    <tr>\n",
       "      <th>0</th>\n",
       "      <td>e9/q+cgrD4qiElNXFx/gXrJythEnoVqXG+TiySLTwjs=</td>\n",
       "      <td>itS9I3/F6ocB8d57PCV7ye2H0jFbfebHYotvrUDOUHk=</td>\n",
       "      <td>my library</td>\n",
       "      <td>Local playlist more</td>\n",
       "      <td>local-playlist</td>\n",
       "      <td>1</td>\n",
       "      <td>13</td>\n",
       "      <td>7</td>\n",
       "      <td>male</td>\n",
       "      <td>3</td>\n",
       "      <td>465</td>\n",
       "      <td>黃鴻升 (Alien Huang)</td>\n",
       "      <td>黃鴻升/衛斯理</td>\n",
       "      <td>黃鴻升/衛斯理</td>\n",
       "      <td>3</td>\n",
       "      <td>忘了我</td>\n",
       "      <td>TWA451507061</td>\n",
       "      <td>忘了我</td>\n",
       "      <td>TWA451507061</td>\n",
       "      <td>0.406199</td>\n",
       "    </tr>\n",
       "    <tr>\n",
       "      <th>1</th>\n",
       "      <td>gjFD3HBX+vzTnUfX8N39j6LkpiQIaEHuKKzUlkFdJ7s=</td>\n",
       "      <td>izWkEacMHX6lc+hEC3QnWwWd2LXiHZ9tacUNpfUz+aw=</td>\n",
       "      <td>discover</td>\n",
       "      <td>Online playlist more</td>\n",
       "      <td>song-based-playlist</td>\n",
       "      <td>0</td>\n",
       "      <td>22</td>\n",
       "      <td>29</td>\n",
       "      <td>0</td>\n",
       "      <td>9</td>\n",
       "      <td>465</td>\n",
       "      <td>彭佳慧 (Julia Peng)</td>\n",
       "      <td>Xiao Huang Qi</td>\n",
       "      <td>Chen Hong Yu</td>\n",
       "      <td>3</td>\n",
       "      <td>大齡女子 (Darling)</td>\n",
       "      <td>TWW851500003</td>\n",
       "      <td>大齡女子 (Darling)</td>\n",
       "      <td>TWW851500003</td>\n",
       "      <td>0.555125</td>\n",
       "    </tr>\n",
       "  </tbody>\n",
       "</table>\n",
       "</div>"
      ],
      "text/plain": [
       "                                           msno  \\\n",
       "0  e9/q+cgrD4qiElNXFx/gXrJythEnoVqXG+TiySLTwjs=   \n",
       "1  gjFD3HBX+vzTnUfX8N39j6LkpiQIaEHuKKzUlkFdJ7s=   \n",
       "\n",
       "                                        song_id source_system_tab  \\\n",
       "0  itS9I3/F6ocB8d57PCV7ye2H0jFbfebHYotvrUDOUHk=        my library   \n",
       "1  izWkEacMHX6lc+hEC3QnWwWd2LXiHZ9tacUNpfUz+aw=          discover   \n",
       "\n",
       "     source_screen_name          source_type  target  city  bd gender  \\\n",
       "0   Local playlist more       local-playlist       1    13   7   male   \n",
       "1  Online playlist more  song-based-playlist       0    22  29      0   \n",
       "\n",
       "   registered_via genre_ids        artist_name       composer      lyricist  \\\n",
       "0               3       465  黃鴻升 (Alien Huang)        黃鴻升/衛斯理       黃鴻升/衛斯理   \n",
       "1               9       465   彭佳慧 (Julia Peng)  Xiao Huang Qi  Chen Hong Yu   \n",
       "\n",
       "  language          name_x        isrc_x          name_y        isrc_y  \\\n",
       "0        3             忘了我  TWA451507061             忘了我  TWA451507061   \n",
       "1        3  大齡女子 (Darling)  TWW851500003  大齡女子 (Darling)  TWW851500003   \n",
       "\n",
       "        dot  \n",
       "0  0.406199  \n",
       "1  0.555125  "
      ]
     },
     "execution_count": 150,
     "metadata": {},
     "output_type": "execute_result"
    }
   ],
   "source": [
    "ds_train.head(2)"
   ]
  },
  {
   "cell_type": "code",
   "execution_count": 152,
   "metadata": {},
   "outputs": [
    {
     "data": {
      "text/html": [
       "<div>\n",
       "<style scoped>\n",
       "    .dataframe tbody tr th:only-of-type {\n",
       "        vertical-align: middle;\n",
       "    }\n",
       "\n",
       "    .dataframe tbody tr th {\n",
       "        vertical-align: top;\n",
       "    }\n",
       "\n",
       "    .dataframe thead th {\n",
       "        text-align: right;\n",
       "    }\n",
       "</style>\n",
       "<table border=\"1\" class=\"dataframe\">\n",
       "  <thead>\n",
       "    <tr style=\"text-align: right;\">\n",
       "      <th></th>\n",
       "      <th>msno</th>\n",
       "      <th>song_id</th>\n",
       "      <th>source_system_tab</th>\n",
       "      <th>source_screen_name</th>\n",
       "      <th>source_type</th>\n",
       "      <th>city</th>\n",
       "      <th>bd</th>\n",
       "      <th>gender</th>\n",
       "      <th>registered_via</th>\n",
       "      <th>genre_ids</th>\n",
       "      <th>artist_name</th>\n",
       "      <th>composer</th>\n",
       "      <th>lyricist</th>\n",
       "      <th>language</th>\n",
       "      <th>name_x</th>\n",
       "      <th>isrc_x</th>\n",
       "      <th>name_y</th>\n",
       "      <th>isrc_y</th>\n",
       "      <th>dot</th>\n",
       "    </tr>\n",
       "  </thead>\n",
       "  <tbody>\n",
       "    <tr>\n",
       "      <th>497116</th>\n",
       "      <td>BJ4IoqvSC7vlIZsvJE7erLTGeao40C4VSG3tBO2b9DQ=</td>\n",
       "      <td>WrVxXdOuRrPQ7gqqSYG1wEFkA6Uz/cP+bf+YmZRe4S4=</td>\n",
       "      <td>my library</td>\n",
       "      <td>Local playlist more</td>\n",
       "      <td>local-library</td>\n",
       "      <td>4</td>\n",
       "      <td>31</td>\n",
       "      <td>female</td>\n",
       "      <td>9</td>\n",
       "      <td>465</td>\n",
       "      <td>AOA</td>\n",
       "      <td>nan</td>\n",
       "      <td>nan</td>\n",
       "      <td>31</td>\n",
       "      <td>짧은치마</td>\n",
       "      <td>TWA531401119</td>\n",
       "      <td>짧은치마</td>\n",
       "      <td>TWA531401119</td>\n",
       "      <td>0.487422</td>\n",
       "    </tr>\n",
       "    <tr>\n",
       "      <th>286948</th>\n",
       "      <td>cfY04m6apWNCKMg8+znTEgI4NUigK33cXe2Xgth6IWI=</td>\n",
       "      <td>k8s6aRatZAv/w4exkA4Oa8r75gBrxG0z3CHdb9Lrexc=</td>\n",
       "      <td>discover</td>\n",
       "      <td>Online playlist more</td>\n",
       "      <td>song-based-playlist</td>\n",
       "      <td>1</td>\n",
       "      <td>0</td>\n",
       "      <td>0</td>\n",
       "      <td>7</td>\n",
       "      <td>465</td>\n",
       "      <td>Eric 周興哲</td>\n",
       "      <td>Eric 周興哲</td>\n",
       "      <td>吳易緯</td>\n",
       "      <td>3</td>\n",
       "      <td>以後別做朋友</td>\n",
       "      <td>TWA471410001</td>\n",
       "      <td>以後別做朋友</td>\n",
       "      <td>TWA471410001</td>\n",
       "      <td>0.311567</td>\n",
       "    </tr>\n",
       "  </tbody>\n",
       "</table>\n",
       "</div>"
      ],
      "text/plain": [
       "                                                msno  \\\n",
       "497116  BJ4IoqvSC7vlIZsvJE7erLTGeao40C4VSG3tBO2b9DQ=   \n",
       "286948  cfY04m6apWNCKMg8+znTEgI4NUigK33cXe2Xgth6IWI=   \n",
       "\n",
       "                                             song_id source_system_tab  \\\n",
       "497116  WrVxXdOuRrPQ7gqqSYG1wEFkA6Uz/cP+bf+YmZRe4S4=        my library   \n",
       "286948  k8s6aRatZAv/w4exkA4Oa8r75gBrxG0z3CHdb9Lrexc=          discover   \n",
       "\n",
       "          source_screen_name          source_type  city  bd  gender  \\\n",
       "497116   Local playlist more        local-library     4  31  female   \n",
       "286948  Online playlist more  song-based-playlist     1   0       0   \n",
       "\n",
       "        registered_via genre_ids artist_name  composer lyricist language  \\\n",
       "497116               9       465         AOA       nan      nan       31   \n",
       "286948               7       465    Eric 周興哲  Eric 周興哲      吳易緯        3   \n",
       "\n",
       "        name_x        isrc_x  name_y        isrc_y       dot  \n",
       "497116    짧은치마  TWA531401119    짧은치마  TWA531401119  0.487422  \n",
       "286948  以後別做朋友  TWA471410001  以後別做朋友  TWA471410001  0.311567  "
      ]
     },
     "execution_count": 152,
     "metadata": {},
     "output_type": "execute_result"
    }
   ],
   "source": [
    "X_train.head(2)"
   ]
  },
  {
   "cell_type": "code",
   "execution_count": 153,
   "metadata": {},
   "outputs": [],
   "source": [
    "X_train = X_train.drop(columns=['source_system_tab','source_screen_name','source_type','city','registered_via','isrc_x','isrc_y','name_x','name_y'])\n",
    "X_test = X_test.drop(columns=['source_system_tab','source_screen_name','source_type','city','registered_via','isrc_x','isrc_y','name_x','name_y'])"
   ]
  },
  {
   "cell_type": "code",
   "execution_count": 154,
   "metadata": {},
   "outputs": [
    {
     "data": {
      "text/html": [
       "<div>\n",
       "<style scoped>\n",
       "    .dataframe tbody tr th:only-of-type {\n",
       "        vertical-align: middle;\n",
       "    }\n",
       "\n",
       "    .dataframe tbody tr th {\n",
       "        vertical-align: top;\n",
       "    }\n",
       "\n",
       "    .dataframe thead th {\n",
       "        text-align: right;\n",
       "    }\n",
       "</style>\n",
       "<table border=\"1\" class=\"dataframe\">\n",
       "  <thead>\n",
       "    <tr style=\"text-align: right;\">\n",
       "      <th></th>\n",
       "      <th>msno</th>\n",
       "      <th>song_id</th>\n",
       "      <th>bd</th>\n",
       "      <th>gender</th>\n",
       "      <th>genre_ids</th>\n",
       "      <th>artist_name</th>\n",
       "      <th>composer</th>\n",
       "      <th>lyricist</th>\n",
       "      <th>language</th>\n",
       "      <th>dot</th>\n",
       "    </tr>\n",
       "  </thead>\n",
       "  <tbody>\n",
       "    <tr>\n",
       "      <th>497116</th>\n",
       "      <td>BJ4IoqvSC7vlIZsvJE7erLTGeao40C4VSG3tBO2b9DQ=</td>\n",
       "      <td>WrVxXdOuRrPQ7gqqSYG1wEFkA6Uz/cP+bf+YmZRe4S4=</td>\n",
       "      <td>31</td>\n",
       "      <td>female</td>\n",
       "      <td>465</td>\n",
       "      <td>AOA</td>\n",
       "      <td>nan</td>\n",
       "      <td>nan</td>\n",
       "      <td>31</td>\n",
       "      <td>0.487422</td>\n",
       "    </tr>\n",
       "    <tr>\n",
       "      <th>286948</th>\n",
       "      <td>cfY04m6apWNCKMg8+znTEgI4NUigK33cXe2Xgth6IWI=</td>\n",
       "      <td>k8s6aRatZAv/w4exkA4Oa8r75gBrxG0z3CHdb9Lrexc=</td>\n",
       "      <td>0</td>\n",
       "      <td>0</td>\n",
       "      <td>465</td>\n",
       "      <td>Eric 周興哲</td>\n",
       "      <td>Eric 周興哲</td>\n",
       "      <td>吳易緯</td>\n",
       "      <td>3</td>\n",
       "      <td>0.311567</td>\n",
       "    </tr>\n",
       "  </tbody>\n",
       "</table>\n",
       "</div>"
      ],
      "text/plain": [
       "                                                msno  \\\n",
       "497116  BJ4IoqvSC7vlIZsvJE7erLTGeao40C4VSG3tBO2b9DQ=   \n",
       "286948  cfY04m6apWNCKMg8+znTEgI4NUigK33cXe2Xgth6IWI=   \n",
       "\n",
       "                                             song_id  bd  gender genre_ids  \\\n",
       "497116  WrVxXdOuRrPQ7gqqSYG1wEFkA6Uz/cP+bf+YmZRe4S4=  31  female       465   \n",
       "286948  k8s6aRatZAv/w4exkA4Oa8r75gBrxG0z3CHdb9Lrexc=   0       0       465   \n",
       "\n",
       "       artist_name  composer lyricist language       dot  \n",
       "497116         AOA       nan      nan       31  0.487422  \n",
       "286948    Eric 周興哲  Eric 周興哲      吳易緯        3  0.311567  "
      ]
     },
     "execution_count": 154,
     "metadata": {},
     "output_type": "execute_result"
    }
   ],
   "source": [
    "X_train.head(2)"
   ]
  },
  {
   "cell_type": "code",
   "execution_count": 155,
   "metadata": {},
   "outputs": [],
   "source": [
    "from catboost import CatBoostClassifier"
   ]
  },
  {
   "cell_type": "code",
   "execution_count": 156,
   "metadata": {},
   "outputs": [],
   "source": [
    "cat_features = [0, 1, 3, 4, 5, 6, 7, 8]"
   ]
  },
  {
   "cell_type": "code",
   "execution_count": 157,
   "metadata": {},
   "outputs": [],
   "source": [
    "clf = CatBoostClassifier(iterations=200, verbose=20, cat_features=cat_features)"
   ]
  },
  {
   "cell_type": "code",
   "execution_count": 158,
   "metadata": {},
   "outputs": [
    {
     "name": "stdout",
     "output_type": "stream",
     "text": [
      "Learning rate set to 0.5\n",
      "0:\tlearn: 0.5688280\ttotal: 1.24s\tremaining: 4m 6s\n",
      "20:\tlearn: 0.4307859\ttotal: 23.3s\tremaining: 3m 18s\n",
      "40:\tlearn: 0.4232514\ttotal: 45.6s\tremaining: 2m 56s\n",
      "60:\tlearn: 0.4200058\ttotal: 1m 5s\tremaining: 2m 28s\n",
      "80:\tlearn: 0.4178979\ttotal: 1m 23s\tremaining: 2m 3s\n",
      "100:\tlearn: 0.4161719\ttotal: 1m 43s\tremaining: 1m 41s\n",
      "120:\tlearn: 0.4153608\ttotal: 2m 2s\tremaining: 1m 19s\n",
      "140:\tlearn: 0.4141555\ttotal: 2m 20s\tremaining: 58.7s\n",
      "160:\tlearn: 0.4134442\ttotal: 2m 39s\tremaining: 38.5s\n",
      "180:\tlearn: 0.4128367\ttotal: 2m 55s\tremaining: 18.5s\n",
      "199:\tlearn: 0.4121316\ttotal: 3m 14s\tremaining: 0us\n"
     ]
    },
    {
     "data": {
      "text/plain": [
       "<catboost.core.CatBoostClassifier at 0x7fb59bc4db20>"
      ]
     },
     "execution_count": 158,
     "metadata": {},
     "output_type": "execute_result"
    }
   ],
   "source": [
    "clf.fit(X_train, y_train)"
   ]
  },
  {
   "cell_type": "code",
   "execution_count": 159,
   "metadata": {},
   "outputs": [],
   "source": [
    "prediction = clf.predict(X_test)"
   ]
  },
  {
   "cell_type": "code",
   "execution_count": 160,
   "metadata": {},
   "outputs": [
    {
     "name": "stdout",
     "output_type": "stream",
     "text": [
      "0.8176019423505826\n"
     ]
    }
   ],
   "source": [
    "print(roc_auc_score(y_test, prediction))"
   ]
  },
  {
   "cell_type": "code",
   "execution_count": 161,
   "metadata": {},
   "outputs": [],
   "source": [
    "import shap  # package used to calculate Shap values"
   ]
  },
  {
   "cell_type": "code",
   "execution_count": 162,
   "metadata": {},
   "outputs": [],
   "source": [
    "# Create object that can calculate shap values\n",
    "explainer = shap.TreeExplainer(clf)"
   ]
  },
  {
   "cell_type": "code",
   "execution_count": 163,
   "metadata": {},
   "outputs": [],
   "source": [
    "# Calculate Shap values\n",
    "shap_values = explainer.shap_values(X_test)"
   ]
  },
  {
   "cell_type": "code",
   "execution_count": 164,
   "metadata": {},
   "outputs": [
    {
     "data": {
      "image/png": "[encoded data removed]",
      "text/plain": [
       "<Figure size 576x396 with 2 Axes>"
      ]
     },
     "metadata": {
      "needs_background": "light"
     },
     "output_type": "display_data"
    }
   ],
   "source": [
    "shap.summary_plot(shap_values, X_test)"
   ]
  },
  {
   "cell_type": "markdown",
   "metadata": {},
   "source": [
    "### dot - самый важный признак"
   ]
  },
  {
   "cell_type": "code",
   "execution_count": 165,
   "metadata": {},
   "outputs": [
    {
     "data": {
      "image/png": "[encoded data removed]",
      "text/plain": [
       "<Figure size 576x396 with 1 Axes>"
      ]
     },
     "metadata": {
      "needs_background": "light"
     },
     "output_type": "display_data"
    }
   ],
   "source": [
    "shap.summary_plot(shap_values, X_test, plot_type=\"bar\")"
   ]
  },
  {
   "cell_type": "code",
   "execution_count": 166,
   "metadata": {},
   "outputs": [
    {
     "data": {
      "text/html": [
       "<div>\n",
       "<style scoped>\n",
       "    .dataframe tbody tr th:only-of-type {\n",
       "        vertical-align: middle;\n",
       "    }\n",
       "\n",
       "    .dataframe tbody tr th {\n",
       "        vertical-align: top;\n",
       "    }\n",
       "\n",
       "    .dataframe thead th {\n",
       "        text-align: right;\n",
       "    }\n",
       "</style>\n",
       "<table border=\"1\" class=\"dataframe\">\n",
       "  <thead>\n",
       "    <tr style=\"text-align: right;\">\n",
       "      <th></th>\n",
       "      <th>msno</th>\n",
       "      <th>song_id</th>\n",
       "      <th>bd</th>\n",
       "      <th>gender</th>\n",
       "      <th>genre_ids</th>\n",
       "      <th>artist_name</th>\n",
       "      <th>composer</th>\n",
       "      <th>lyricist</th>\n",
       "      <th>language</th>\n",
       "      <th>dot</th>\n",
       "    </tr>\n",
       "  </thead>\n",
       "  <tbody>\n",
       "    <tr>\n",
       "      <th>497116</th>\n",
       "      <td>BJ4IoqvSC7vlIZsvJE7erLTGeao40C4VSG3tBO2b9DQ=</td>\n",
       "      <td>WrVxXdOuRrPQ7gqqSYG1wEFkA6Uz/cP+bf+YmZRe4S4=</td>\n",
       "      <td>31</td>\n",
       "      <td>female</td>\n",
       "      <td>465</td>\n",
       "      <td>AOA</td>\n",
       "      <td>nan</td>\n",
       "      <td>nan</td>\n",
       "      <td>31</td>\n",
       "      <td>0.487422</td>\n",
       "    </tr>\n",
       "    <tr>\n",
       "      <th>286948</th>\n",
       "      <td>cfY04m6apWNCKMg8+znTEgI4NUigK33cXe2Xgth6IWI=</td>\n",
       "      <td>k8s6aRatZAv/w4exkA4Oa8r75gBrxG0z3CHdb9Lrexc=</td>\n",
       "      <td>0</td>\n",
       "      <td>0</td>\n",
       "      <td>465</td>\n",
       "      <td>Eric 周興哲</td>\n",
       "      <td>Eric 周興哲</td>\n",
       "      <td>吳易緯</td>\n",
       "      <td>3</td>\n",
       "      <td>0.311567</td>\n",
       "    </tr>\n",
       "    <tr>\n",
       "      <th>697267</th>\n",
       "      <td>tLuCHBbzcK9gsolqZdEQBT+6SRRk3KONKlPuLqa8S+w=</td>\n",
       "      <td>ZR8NR3x8/NWKIL6rZ4z/55yHN0x2CkfMCwDZadRuDVk=</td>\n",
       "      <td>20</td>\n",
       "      <td>female</td>\n",
       "      <td>465</td>\n",
       "      <td>郭靜 (Claire Kuo)</td>\n",
       "      <td>黎偌天</td>\n",
       "      <td>廖瑩如</td>\n",
       "      <td>3</td>\n",
       "      <td>0.403047</td>\n",
       "    </tr>\n",
       "    <tr>\n",
       "      <th>273823</th>\n",
       "      <td>q+58LOnd51IOM4YLXYsenOTH6+33/Mtoq0fpJ1iuvKY=</td>\n",
       "      <td>H9SPhwq9W0h/3XECeWOjmDRiVN7V5bxTLFlOqWDcqrI=</td>\n",
       "      <td>29</td>\n",
       "      <td>male</td>\n",
       "      <td>458</td>\n",
       "      <td>葛仲珊 (MISS KO)</td>\n",
       "      <td>Miss Ko</td>\n",
       "      <td>nan</td>\n",
       "      <td>3</td>\n",
       "      <td>0.483311</td>\n",
       "    </tr>\n",
       "    <tr>\n",
       "      <th>952155</th>\n",
       "      <td>bRhIt1gWorfREUa+9KJxO9Sg0TUQ5q/XJ2NHIA969Q0=</td>\n",
       "      <td>TIwOs7iFTKo3Cy2yiNReYYcZc1JyAx+0k08+z97k1dA=</td>\n",
       "      <td>0</td>\n",
       "      <td>0</td>\n",
       "      <td>465</td>\n",
       "      <td>汪蘇瀧 (Silence Wang)</td>\n",
       "      <td>汪蘇瀧</td>\n",
       "      <td>汪蘇瀧</td>\n",
       "      <td>3</td>\n",
       "      <td>0.562879</td>\n",
       "    </tr>\n",
       "    <tr>\n",
       "      <th>810539</th>\n",
       "      <td>5LbuSqfyljnN//xFe4AFcwxrZVIc+bMnOje9GfeuIps=</td>\n",
       "      <td>6G4q15dGxC+rscOS/h3dc3QuVtIcKmmwvtU4eIEvTZk=</td>\n",
       "      <td>0</td>\n",
       "      <td>0</td>\n",
       "      <td>921</td>\n",
       "      <td>Various Artists</td>\n",
       "      <td>Justin Hurwitz</td>\n",
       "      <td>nan</td>\n",
       "      <td>52</td>\n",
       "      <td>0.470250</td>\n",
       "    </tr>\n",
       "    <tr>\n",
       "      <th>556839</th>\n",
       "      <td>UFcltK3u/LmkJq5NM9GS/tFHLtFp9qRXO8jxore1YHE=</td>\n",
       "      <td>ZlOnHuVWBp+en8zz8founYGng6LxSu0Yra9hcV9oa9A=</td>\n",
       "      <td>23</td>\n",
       "      <td>male</td>\n",
       "      <td>465</td>\n",
       "      <td>天國的嫁衣電視原聲帶</td>\n",
       "      <td>Cui Yan</td>\n",
       "      <td>Cui Yan</td>\n",
       "      <td>3</td>\n",
       "      <td>0.198587</td>\n",
       "    </tr>\n",
       "    <tr>\n",
       "      <th>840393</th>\n",
       "      <td>FvJnN/5Vos3OZbhGBEwf99D9ExvJwzfstknuJG1GkOA=</td>\n",
       "      <td>5q4MUJaFkcwKdyspPSlZWmsyl5y8Wfc/ETfyc1unapQ=</td>\n",
       "      <td>43</td>\n",
       "      <td>male</td>\n",
       "      <td>465</td>\n",
       "      <td>張清芳 (Stella Chang)</td>\n",
       "      <td>nan</td>\n",
       "      <td>nan</td>\n",
       "      <td>3</td>\n",
       "      <td>0.000000</td>\n",
       "    </tr>\n",
       "    <tr>\n",
       "      <th>1012351</th>\n",
       "      <td>C854qgTb3Zeb5mnGXwZ+vOKhkq+V2z2AlQIXNwApZHg=</td>\n",
       "      <td>2m7K4/LAhMVqqKdUE4BrkVQLK1hKwxEYUogLdxNfO7E=</td>\n",
       "      <td>27</td>\n",
       "      <td>male</td>\n",
       "      <td>465</td>\n",
       "      <td>Connie Talbot</td>\n",
       "      <td>nan</td>\n",
       "      <td>nan</td>\n",
       "      <td>52</td>\n",
       "      <td>0.272488</td>\n",
       "    </tr>\n",
       "    <tr>\n",
       "      <th>529410</th>\n",
       "      <td>Q0PmaEFIY4/IulAKUiT8TTMyAGSA5fI+DEOAc0earY4=</td>\n",
       "      <td>76rXwpBxGfOWBf9cW3I55rpqmKpYsSUqfM7vbBMaFzw=</td>\n",
       "      <td>0</td>\n",
       "      <td>0</td>\n",
       "      <td>444</td>\n",
       "      <td>올마이티</td>\n",
       "      <td>Oh Youngbin</td>\n",
       "      <td>Oh Youngbin</td>\n",
       "      <td>31</td>\n",
       "      <td>0.000000</td>\n",
       "    </tr>\n",
       "  </tbody>\n",
       "</table>\n",
       "</div>"
      ],
      "text/plain": [
       "                                                 msno  \\\n",
       "497116   BJ4IoqvSC7vlIZsvJE7erLTGeao40C4VSG3tBO2b9DQ=   \n",
       "286948   cfY04m6apWNCKMg8+znTEgI4NUigK33cXe2Xgth6IWI=   \n",
       "697267   tLuCHBbzcK9gsolqZdEQBT+6SRRk3KONKlPuLqa8S+w=   \n",
       "273823   q+58LOnd51IOM4YLXYsenOTH6+33/Mtoq0fpJ1iuvKY=   \n",
       "952155   bRhIt1gWorfREUa+9KJxO9Sg0TUQ5q/XJ2NHIA969Q0=   \n",
       "810539   5LbuSqfyljnN//xFe4AFcwxrZVIc+bMnOje9GfeuIps=   \n",
       "556839   UFcltK3u/LmkJq5NM9GS/tFHLtFp9qRXO8jxore1YHE=   \n",
       "840393   FvJnN/5Vos3OZbhGBEwf99D9ExvJwzfstknuJG1GkOA=   \n",
       "1012351  C854qgTb3Zeb5mnGXwZ+vOKhkq+V2z2AlQIXNwApZHg=   \n",
       "529410   Q0PmaEFIY4/IulAKUiT8TTMyAGSA5fI+DEOAc0earY4=   \n",
       "\n",
       "                                              song_id  bd  gender genre_ids  \\\n",
       "497116   WrVxXdOuRrPQ7gqqSYG1wEFkA6Uz/cP+bf+YmZRe4S4=  31  female       465   \n",
       "286948   k8s6aRatZAv/w4exkA4Oa8r75gBrxG0z3CHdb9Lrexc=   0       0       465   \n",
       "697267   ZR8NR3x8/NWKIL6rZ4z/55yHN0x2CkfMCwDZadRuDVk=  20  female       465   \n",
       "273823   H9SPhwq9W0h/3XECeWOjmDRiVN7V5bxTLFlOqWDcqrI=  29    male       458   \n",
       "952155   TIwOs7iFTKo3Cy2yiNReYYcZc1JyAx+0k08+z97k1dA=   0       0       465   \n",
       "810539   6G4q15dGxC+rscOS/h3dc3QuVtIcKmmwvtU4eIEvTZk=   0       0       921   \n",
       "556839   ZlOnHuVWBp+en8zz8founYGng6LxSu0Yra9hcV9oa9A=  23    male       465   \n",
       "840393   5q4MUJaFkcwKdyspPSlZWmsyl5y8Wfc/ETfyc1unapQ=  43    male       465   \n",
       "1012351  2m7K4/LAhMVqqKdUE4BrkVQLK1hKwxEYUogLdxNfO7E=  27    male       465   \n",
       "529410   76rXwpBxGfOWBf9cW3I55rpqmKpYsSUqfM7vbBMaFzw=   0       0       444   \n",
       "\n",
       "                artist_name        composer     lyricist language       dot  \n",
       "497116                  AOA             nan          nan       31  0.487422  \n",
       "286948             Eric 周興哲        Eric 周興哲          吳易緯        3  0.311567  \n",
       "697267      郭靜 (Claire Kuo)             黎偌天          廖瑩如        3  0.403047  \n",
       "273823        葛仲珊 (MISS KO)         Miss Ko          nan        3  0.483311  \n",
       "952155   汪蘇瀧 (Silence Wang)             汪蘇瀧          汪蘇瀧        3  0.562879  \n",
       "810539      Various Artists  Justin Hurwitz          nan       52  0.470250  \n",
       "556839           天國的嫁衣電視原聲帶         Cui Yan      Cui Yan        3  0.198587  \n",
       "840393   張清芳 (Stella Chang)             nan          nan        3  0.000000  \n",
       "1012351       Connie Talbot             nan          nan       52  0.272488  \n",
       "529410                 올마이티     Oh Youngbin  Oh Youngbin       31  0.000000  "
      ]
     },
     "execution_count": 166,
     "metadata": {},
     "output_type": "execute_result"
    }
   ],
   "source": [
    "X_train.head(10)"
   ]
  },
  {
   "cell_type": "code",
   "execution_count": null,
   "metadata": {},
   "outputs": [],
   "source": []
  },
  {
   "cell_type": "code",
   "execution_count": null,
   "metadata": {},
   "outputs": [],
   "source": []
  },
  {
   "cell_type": "code",
   "execution_count": null,
   "metadata": {},
   "outputs": [],
   "source": []
  },
  {
   "cell_type": "code",
   "execution_count": null,
   "metadata": {},
   "outputs": [],
   "source": []
  },
  {
   "cell_type": "code",
   "execution_count": null,
   "metadata": {},
   "outputs": [],
   "source": []
  },
  {
   "cell_type": "code",
   "execution_count": null,
   "metadata": {},
   "outputs": [],
   "source": []
  },
  {
   "cell_type": "code",
   "execution_count": null,
   "metadata": {},
   "outputs": [],
   "source": []
  },
  {
   "cell_type": "code",
   "execution_count": null,
   "metadata": {},
   "outputs": [],
   "source": []
  },
  {
   "cell_type": "code",
   "execution_count": null,
   "metadata": {},
   "outputs": [],
   "source": []
  },
  {
   "cell_type": "code",
   "execution_count": null,
   "metadata": {},
   "outputs": [],
   "source": []
  },
  {
   "cell_type": "code",
   "execution_count": null,
   "metadata": {},
   "outputs": [],
   "source": []
  },
  {
   "cell_type": "code",
   "execution_count": null,
   "metadata": {},
   "outputs": [],
   "source": []
  },
  {
   "cell_type": "code",
   "execution_count": null,
   "metadata": {},
   "outputs": [],
   "source": []
  },
  {
   "cell_type": "code",
   "execution_count": null,
   "metadata": {},
   "outputs": [],
   "source": []
  }
 ],
 "metadata": {
  "kernelspec": {
   "display_name": "Python 3",
   "language": "python",
   "name": "python3"
  },
  "language_info": {
   "codemirror_mode": {
    "name": "ipython",
    "version": 3
   },
   "file_extension": ".py",
   "mimetype": "text/x-python",
   "name": "python",
   "nbconvert_exporter": "python",
   "pygments_lexer": "ipython3",
   "version": "3.8.5"
  }
 },
 "nbformat": 4,
 "nbformat_minor": 4
}
