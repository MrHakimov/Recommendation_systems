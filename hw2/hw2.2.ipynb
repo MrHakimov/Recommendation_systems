{
 "cells": [
  {
   "cell_type": "code",
   "execution_count": 229,
   "metadata": {},
   "outputs": [],
   "source": [
    "import pandas as pd\n",
    "import numpy as np"
   ]
  },
  {
   "cell_type": "code",
   "execution_count": 230,
   "metadata": {},
   "outputs": [],
   "source": [
    "ds_train = pd.read_csv('ds/train.csv')\n",
    "ds_songs = pd.read_csv('ds/songs.csv')\n",
    "ds_songs_extra_info = pd.read_csv('ds/song_extra_info.csv')\n",
    "ds_members = pd.read_csv('ds/members.csv')"
   ]
  },
  {
   "cell_type": "markdown",
   "metadata": {},
   "source": [
    "### Беру только 10% от датасета, потому что построение предложений идут очень долго =("
   ]
  },
  {
   "cell_type": "code",
   "execution_count": 232,
   "metadata": {},
   "outputs": [],
   "source": [
    "ds_train = ds_train.sample(frac=0.15)"
   ]
  },
  {
   "cell_type": "code",
   "execution_count": 233,
   "metadata": {
    "id": "p5ULodVu7BEe"
   },
   "outputs": [],
   "source": [
    "X_train = ds_train.sample(frac=0.8)\n",
    "X_test = ds_train.drop(X_train.index)"
   ]
  },
  {
   "cell_type": "markdown",
   "metadata": {},
   "source": [
    "### В качестве предложений(sentence) для каждого юзера буду рассматривать список песен, которые он лайкнул. Где айдишки песен - слова для word2vec"
   ]
  },
  {
   "cell_type": "code",
   "execution_count": 234,
   "metadata": {},
   "outputs": [],
   "source": [
    "X_train_pos = X_train[X_train['target'] == 1]"
   ]
  },
  {
   "cell_type": "code",
   "execution_count": 235,
   "metadata": {},
   "outputs": [],
   "source": [
    "from tqdm.notebook import tqdm, trange"
   ]
  },
  {
   "cell_type": "code",
   "execution_count": 236,
   "metadata": {},
   "outputs": [
    {
     "data": {
      "application/vnd.jupyter.widget-view+json": {
       "model_id": "21fde2093b1647d8b771700cc8b17c2f",
       "version_major": 2,
       "version_minor": 0
      },
      "text/plain": [
       "HBox(children=(HTML(value=''), FloatProgress(value=0.0, max=34403.0), HTML(value='')))"
      ]
     },
     "metadata": {},
     "output_type": "display_data"
    },
    {
     "name": "stdout",
     "output_type": "stream",
     "text": [
      "\n"
     ]
    }
   ],
   "source": [
    "user_pos_history = [X_train_pos[X_train_pos['msno'] == user]['song_id'].astype(str).tolist() for user in tqdm(users)]"
   ]
  },
  {
   "cell_type": "code",
   "execution_count": 237,
   "metadata": {},
   "outputs": [],
   "source": [
    "from gensim.models import Word2Vec"
   ]
  },
  {
   "cell_type": "code",
   "execution_count": 238,
   "metadata": {},
   "outputs": [
    {
     "data": {
      "text/plain": [
       "12.979711071708863"
      ]
     },
     "execution_count": 238,
     "metadata": {},
     "output_type": "execute_result"
    }
   ],
   "source": [
    "lengths = [len(arr) for arr in user_pos_history]\n",
    "np.mean(lengths)"
   ]
  },
  {
   "cell_type": "code",
   "execution_count": 239,
   "metadata": {},
   "outputs": [],
   "source": [
    "w2v = Word2Vec(window=8, sg=1, hs=0, negative=3, alpha=0.1, min_alpha=0.0001)"
   ]
  },
  {
   "cell_type": "code",
   "execution_count": 240,
   "metadata": {},
   "outputs": [],
   "source": [
    "w2v.build_vocab(user_pos_history)"
   ]
  },
  {
   "cell_type": "code",
   "execution_count": 241,
   "metadata": {},
   "outputs": [
    {
     "data": {
      "text/plain": [
       "(10704352, 13396230)"
      ]
     },
     "execution_count": 241,
     "metadata": {},
     "output_type": "execute_result"
    }
   ],
   "source": [
    "w2v.train(user_pos_history, total_examples=len(user_pos_history), epochs=30)"
   ]
  },
  {
   "cell_type": "code",
   "execution_count": 242,
   "metadata": {},
   "outputs": [],
   "source": [
    "ds_songs = ds_songs.merge(ds_songs_extra_info,on='song_id',how='left')"
   ]
  },
  {
   "cell_type": "code",
   "execution_count": 243,
   "metadata": {},
   "outputs": [
    {
     "data": {
      "text/plain": [
       "(2296320, 9)"
      ]
     },
     "execution_count": 243,
     "metadata": {},
     "output_type": "execute_result"
    }
   ],
   "source": [
    "ds_songs.shape"
   ]
  },
  {
   "cell_type": "code",
   "execution_count": 244,
   "metadata": {},
   "outputs": [
    {
     "name": "stdout",
     "output_type": "stream",
     "text": [
      "Word2Vec(vocab=12318, vector_size=100, alpha=0.1)\n"
     ]
    }
   ],
   "source": [
    "print(w2v)"
   ]
  },
  {
   "cell_type": "code",
   "execution_count": 245,
   "metadata": {},
   "outputs": [],
   "source": [
    "def get_similars(name):\n",
    "    sims = w2v.wv.most_similar_cosmul(name)\n",
    "    data = []\n",
    "    for song, similarity in sims:\n",
    "        d = ds_songs[ds_songs['song_id'] == song].to_dict('records')[0]\n",
    "        d['similarity'] = similarity\n",
    "        data.append(d)\n",
    "    return pd.DataFrame(data)"
   ]
  },
  {
   "cell_type": "code",
   "execution_count": 246,
   "metadata": {},
   "outputs": [
    {
     "name": "stdout",
     "output_type": "stream",
     "text": [
      "e/upMhPFcXl3Rxq0Us1abr0FcThlZOeqKJhBobmltBU=\n"
     ]
    },
    {
     "data": {
      "text/html": [
       "<div>\n",
       "<style scoped>\n",
       "    .dataframe tbody tr th:only-of-type {\n",
       "        vertical-align: middle;\n",
       "    }\n",
       "\n",
       "    .dataframe tbody tr th {\n",
       "        vertical-align: top;\n",
       "    }\n",
       "\n",
       "    .dataframe thead th {\n",
       "        text-align: right;\n",
       "    }\n",
       "</style>\n",
       "<table border=\"1\" class=\"dataframe\">\n",
       "  <thead>\n",
       "    <tr style=\"text-align: right;\">\n",
       "      <th></th>\n",
       "      <th>song_id</th>\n",
       "      <th>song_length</th>\n",
       "      <th>genre_ids</th>\n",
       "      <th>artist_name</th>\n",
       "      <th>composer</th>\n",
       "      <th>lyricist</th>\n",
       "      <th>language</th>\n",
       "      <th>name</th>\n",
       "      <th>isrc</th>\n",
       "      <th>similarity</th>\n",
       "    </tr>\n",
       "  </thead>\n",
       "  <tbody>\n",
       "    <tr>\n",
       "      <th>0</th>\n",
       "      <td>IKMFuL0f5Y8c63Hg9BXkeNJjE0z8yf3gMt/tOxF4QNE=</td>\n",
       "      <td>244976</td>\n",
       "      <td>1609</td>\n",
       "      <td>The Chainsmokers</td>\n",
       "      <td>Andrew Taggart| Shaun Frank| Frederic Kennett|...</td>\n",
       "      <td>Andrew Taggart| Shaun Frank| Frederic Kennett|...</td>\n",
       "      <td>52.0</td>\n",
       "      <td>Closer</td>\n",
       "      <td>USQX91601347</td>\n",
       "      <td>0.792283</td>\n",
       "    </tr>\n",
       "    <tr>\n",
       "      <th>1</th>\n",
       "      <td>JiHWUXkERiCPai7GKXVal+Cns8SWC8Ft0+5NKSQdbfU=</td>\n",
       "      <td>234370</td>\n",
       "      <td>465</td>\n",
       "      <td>Austin Mahone</td>\n",
       "      <td>NaN</td>\n",
       "      <td>NaN</td>\n",
       "      <td>52.0</td>\n",
       "      <td>Shake It For Me (feat. 2 Chainz)</td>\n",
       "      <td>QMRSZ1601336</td>\n",
       "      <td>0.771102</td>\n",
       "    </tr>\n",
       "    <tr>\n",
       "      <th>2</th>\n",
       "      <td>sgHKhG2d57U2o88razl9SyG1nuuMDf0J2BuDhzoI12Y=</td>\n",
       "      <td>194115</td>\n",
       "      <td>1609</td>\n",
       "      <td>The Chainsmokers</td>\n",
       "      <td>Andrew Taggart| Sara Hejellstrom| Nirob Islam</td>\n",
       "      <td>Andrew Taggart| Sara Hejellstrom| Nirob Islam</td>\n",
       "      <td>52.0</td>\n",
       "      <td>All We Know</td>\n",
       "      <td>USQX91602153</td>\n",
       "      <td>0.770967</td>\n",
       "    </tr>\n",
       "    <tr>\n",
       "      <th>3</th>\n",
       "      <td>v/3onppBGoSpGsWb8iaCIO8eX5+iacbH5a4ZUhT7N54=</td>\n",
       "      <td>161175</td>\n",
       "      <td>1616|1609</td>\n",
       "      <td>Alan Walker</td>\n",
       "      <td>Alan Walker| Jesper Borgen| Anders Froen| Gunn...</td>\n",
       "      <td>Alan Walker| Jesper Borgen| Anders Froen| Gunn...</td>\n",
       "      <td>52.0</td>\n",
       "      <td>Alone</td>\n",
       "      <td>NOG841617010</td>\n",
       "      <td>0.764039</td>\n",
       "    </tr>\n",
       "    <tr>\n",
       "      <th>4</th>\n",
       "      <td>3VkD5ekIf5duJm1hmYTZlXjyl0zqV8wCzuAh3uocfCg=</td>\n",
       "      <td>217730</td>\n",
       "      <td>465</td>\n",
       "      <td>CHARLIE PUTH</td>\n",
       "      <td>NaN</td>\n",
       "      <td>NaN</td>\n",
       "      <td>52.0</td>\n",
       "      <td>We Don't Talk Anymore</td>\n",
       "      <td>USAT21502909</td>\n",
       "      <td>0.758105</td>\n",
       "    </tr>\n",
       "    <tr>\n",
       "      <th>5</th>\n",
       "      <td>0b8M2FLEH176y/ng1rK9ftUYDYnA+1NdoCOUeuyBMtU=</td>\n",
       "      <td>221544</td>\n",
       "      <td>1609</td>\n",
       "      <td>The Chainsmokers</td>\n",
       "      <td>Andrew Taggart| Kris Eriksson| Fredrik Häggstam</td>\n",
       "      <td>Andrew Taggart| Kris Eriksson| Fredrik Häggstam</td>\n",
       "      <td>52.0</td>\n",
       "      <td>Paris</td>\n",
       "      <td>USQX91603031</td>\n",
       "      <td>0.756129</td>\n",
       "    </tr>\n",
       "    <tr>\n",
       "      <th>6</th>\n",
       "      <td>n+FLlTL+LrNTa6xpoGkESEzlUMb/hPEM1nLq2U6fEp0=</td>\n",
       "      <td>261172</td>\n",
       "      <td>465</td>\n",
       "      <td>Ed Sheeran</td>\n",
       "      <td>Ed Sheeran| Benjamin Levin</td>\n",
       "      <td>NaN</td>\n",
       "      <td>52.0</td>\n",
       "      <td>Castle on the Hill</td>\n",
       "      <td>GBAHS1600462</td>\n",
       "      <td>0.751877</td>\n",
       "    </tr>\n",
       "    <tr>\n",
       "      <th>7</th>\n",
       "      <td>XA08z3r0wdQvY3CE0lFDTd/MuAgD7b0XKZnCvo+ylKE=</td>\n",
       "      <td>245109</td>\n",
       "      <td>921</td>\n",
       "      <td>ZAYN| Taylor Swift</td>\n",
       "      <td>Taylor Swift| Jack Antonoff| Sam Dew</td>\n",
       "      <td>NaN</td>\n",
       "      <td>52.0</td>\n",
       "      <td>I Don’t Wanna Live Forever (Fifty Shades Darker)</td>\n",
       "      <td>USQ4E1602586</td>\n",
       "      <td>0.751534</td>\n",
       "    </tr>\n",
       "    <tr>\n",
       "      <th>8</th>\n",
       "      <td>CsqfeIr3/stOaLTq+Z+Yt6VnPSqPWS2wxxnCKJL86oM=</td>\n",
       "      <td>220917</td>\n",
       "      <td>1616</td>\n",
       "      <td>Martin Garrix| Dua Lipa</td>\n",
       "      <td>Martijn Garritsen| Georgia Ku Overton| Nathani...</td>\n",
       "      <td>Martijn Garritsen| Georgia Ku Overton| Nathani...</td>\n",
       "      <td>52.0</td>\n",
       "      <td>Scared to Be Lonely</td>\n",
       "      <td>NLM5S1600025</td>\n",
       "      <td>0.748292</td>\n",
       "    </tr>\n",
       "    <tr>\n",
       "      <th>9</th>\n",
       "      <td>J4qKkLIoW7aYACuTupHLAPZYmRp08en1AEux+GSUzdw=</td>\n",
       "      <td>212750</td>\n",
       "      <td>1616|1609</td>\n",
       "      <td>Alan Walker</td>\n",
       "      <td>Alan Walker| Jesper Borgen| Anders Froen| Gunn...</td>\n",
       "      <td>Alan Walker| Jesper Borgen| Anders Froen| Gunn...</td>\n",
       "      <td>52.0</td>\n",
       "      <td>Faded</td>\n",
       "      <td>NOG841549010</td>\n",
       "      <td>0.746597</td>\n",
       "    </tr>\n",
       "  </tbody>\n",
       "</table>\n",
       "</div>"
      ],
      "text/plain": [
       "                                        song_id  song_length  genre_ids  \\\n",
       "0  IKMFuL0f5Y8c63Hg9BXkeNJjE0z8yf3gMt/tOxF4QNE=       244976       1609   \n",
       "1  JiHWUXkERiCPai7GKXVal+Cns8SWC8Ft0+5NKSQdbfU=       234370        465   \n",
       "2  sgHKhG2d57U2o88razl9SyG1nuuMDf0J2BuDhzoI12Y=       194115       1609   \n",
       "3  v/3onppBGoSpGsWb8iaCIO8eX5+iacbH5a4ZUhT7N54=       161175  1616|1609   \n",
       "4  3VkD5ekIf5duJm1hmYTZlXjyl0zqV8wCzuAh3uocfCg=       217730        465   \n",
       "5  0b8M2FLEH176y/ng1rK9ftUYDYnA+1NdoCOUeuyBMtU=       221544       1609   \n",
       "6  n+FLlTL+LrNTa6xpoGkESEzlUMb/hPEM1nLq2U6fEp0=       261172        465   \n",
       "7  XA08z3r0wdQvY3CE0lFDTd/MuAgD7b0XKZnCvo+ylKE=       245109        921   \n",
       "8  CsqfeIr3/stOaLTq+Z+Yt6VnPSqPWS2wxxnCKJL86oM=       220917       1616   \n",
       "9  J4qKkLIoW7aYACuTupHLAPZYmRp08en1AEux+GSUzdw=       212750  1616|1609   \n",
       "\n",
       "               artist_name                                           composer  \\\n",
       "0         The Chainsmokers  Andrew Taggart| Shaun Frank| Frederic Kennett|...   \n",
       "1            Austin Mahone                                                NaN   \n",
       "2         The Chainsmokers      Andrew Taggart| Sara Hejellstrom| Nirob Islam   \n",
       "3              Alan Walker  Alan Walker| Jesper Borgen| Anders Froen| Gunn...   \n",
       "4             CHARLIE PUTH                                                NaN   \n",
       "5         The Chainsmokers    Andrew Taggart| Kris Eriksson| Fredrik Häggstam   \n",
       "6               Ed Sheeran                         Ed Sheeran| Benjamin Levin   \n",
       "7       ZAYN| Taylor Swift               Taylor Swift| Jack Antonoff| Sam Dew   \n",
       "8  Martin Garrix| Dua Lipa  Martijn Garritsen| Georgia Ku Overton| Nathani...   \n",
       "9              Alan Walker  Alan Walker| Jesper Borgen| Anders Froen| Gunn...   \n",
       "\n",
       "                                            lyricist  language  \\\n",
       "0  Andrew Taggart| Shaun Frank| Frederic Kennett|...      52.0   \n",
       "1                                                NaN      52.0   \n",
       "2      Andrew Taggart| Sara Hejellstrom| Nirob Islam      52.0   \n",
       "3  Alan Walker| Jesper Borgen| Anders Froen| Gunn...      52.0   \n",
       "4                                                NaN      52.0   \n",
       "5    Andrew Taggart| Kris Eriksson| Fredrik Häggstam      52.0   \n",
       "6                                                NaN      52.0   \n",
       "7                                                NaN      52.0   \n",
       "8  Martijn Garritsen| Georgia Ku Overton| Nathani...      52.0   \n",
       "9  Alan Walker| Jesper Borgen| Anders Froen| Gunn...      52.0   \n",
       "\n",
       "                                               name          isrc  similarity  \n",
       "0                                            Closer  USQX91601347    0.792283  \n",
       "1                  Shake It For Me (feat. 2 Chainz)  QMRSZ1601336    0.771102  \n",
       "2                                       All We Know  USQX91602153    0.770967  \n",
       "3                                             Alone  NOG841617010    0.764039  \n",
       "4                             We Don't Talk Anymore  USAT21502909    0.758105  \n",
       "5                                             Paris  USQX91603031    0.756129  \n",
       "6                                Castle on the Hill  GBAHS1600462    0.751877  \n",
       "7  I Don’t Wanna Live Forever (Fifty Shades Darker)  USQ4E1602586    0.751534  \n",
       "8                               Scared to Be Lonely  NLM5S1600025    0.748292  \n",
       "9                                             Faded  NOG841549010    0.746597  "
      ]
     },
     "execution_count": 246,
     "metadata": {},
     "output_type": "execute_result"
    }
   ],
   "source": [
    "# name = '0ee/D6HjX0jSytUn3v58C0x6zEzN4bcPq3WlqvrG/Xo=' # heathens, Twenty one pilots\n",
    "name = 'e/upMhPFcXl3Rxq0Us1abr0FcThlZOeqKJhBobmltBU=' # Shape of you\n",
    "print(name)\n",
    "get_similars(name)"
   ]
  },
  {
   "cell_type": "code",
   "execution_count": 247,
   "metadata": {},
   "outputs": [],
   "source": [
    "song_data_name_author = []\n",
    "songs_in_dict = list(w2v.wv.key_to_index.keys())\n",
    "# for song_id in tqdm(w2v.wv.key_to_index.keys()):\n",
    "#     print(song_id, ds_songs[ds_songs['song_id'] == song_id]['name'], ds_songs[ds_songs['song_id'] == song_id]['artist_name'])\n",
    "#     song_data_name_author.append((song_id, ds_songs[ds_songs['song_id'] == song_id]['name'], ds_songs[ds_songs['song_id'] == song_id]['artist_name']))"
   ]
  },
  {
   "cell_type": "code",
   "execution_count": 248,
   "metadata": {},
   "outputs": [],
   "source": [
    "# w2v.wv.get_vector(\"e/upMhPFcXl3Rxq0Us1abr0FcThlZOeqKJhBobmltBU=\",norm=True)"
   ]
  },
  {
   "cell_type": "code",
   "execution_count": 249,
   "metadata": {},
   "outputs": [],
   "source": [
    "y_train = X_train['target']\n",
    "y_test = X_test['target']\n",
    "X_train = X_train.drop(columns=['target'])\n",
    "X_test = X_test.drop(columns=['target'])"
   ]
  },
  {
   "cell_type": "code",
   "execution_count": 250,
   "metadata": {},
   "outputs": [],
   "source": [
    "def get_user_embeddings(X, y):\n",
    "    embeddings = dict()\n",
    "    count = dict()\n",
    "    for (index, row), target in tqdm(zip(X_train.iterrows(), y_train)):\n",
    "        if target == 1:\n",
    "            user_id = row['msno']\n",
    "            song_id = row['song_id']\n",
    "            if song_id in songs_in_dict:\n",
    "                if user_id not in count:\n",
    "                    count[user_id] = 0\n",
    "                if user_id not in embeddings:\n",
    "                    embeddings[user_id] = np.zeros(100)\n",
    "                embeddings[user_id] += w2v.wv.get_vector(song_id, norm=True)\n",
    "                count[user_id] += 1\n",
    "    for user_id in embeddings.keys():\n",
    "        embeddings[user_id] /= count[user_id]\n",
    "    return embeddings    "
   ]
  },
  {
   "cell_type": "code",
   "execution_count": 251,
   "metadata": {},
   "outputs": [
    {
     "data": {
      "application/vnd.jupyter.widget-view+json": {
       "model_id": "3d9114d8ba834fa29bd94e44c043b71e",
       "version_major": 2,
       "version_minor": 0
      },
      "text/plain": [
       "HBox(children=(HTML(value=''), FloatProgress(value=1.0, bar_style='info', layout=Layout(width='20px'), max=1.0…"
      ]
     },
     "metadata": {},
     "output_type": "display_data"
    },
    {
     "name": "stdout",
     "output_type": "stream",
     "text": [
      "\n"
     ]
    }
   ],
   "source": [
    "user_embeddings = get_user_embeddings(X_train, y_train)"
   ]
  },
  {
   "cell_type": "code",
   "execution_count": 252,
   "metadata": {},
   "outputs": [],
   "source": [
    "def get_user_song_dot(user_id, song_id):\n",
    "    if user_id not in user_embeddings:\n",
    "        return 0\n",
    "    if song_id not in songs_in_dict:\n",
    "        return 0\n",
    "    uv = user_embeddings[user_id]\n",
    "    sv = w2v.wv.get_vector(song_id)\n",
    "    \n",
    "    u_n = np.linalg.norm(uv)\n",
    "    s_n = np.linalg.norm(sv)\n",
    "    return np.dot(uv / u_n, sv / s_n)"
   ]
  },
  {
   "cell_type": "code",
   "execution_count": 253,
   "metadata": {},
   "outputs": [],
   "source": [
    "X_test_c = X_test.copy()"
   ]
  },
  {
   "cell_type": "code",
   "execution_count": 254,
   "metadata": {},
   "outputs": [
    {
     "data": {
      "application/vnd.jupyter.widget-view+json": {
       "model_id": "0605acbdf8854684ab77d4812e57fcde",
       "version_major": 2,
       "version_minor": 0
      },
      "text/plain": [
       "HBox(children=(HTML(value=''), FloatProgress(value=1.0, bar_style='info', layout=Layout(width='20px'), max=1.0…"
      ]
     },
     "metadata": {},
     "output_type": "display_data"
    },
    {
     "name": "stdout",
     "output_type": "stream",
     "text": [
      "\n"
     ]
    }
   ],
   "source": [
    "target_res = []\n",
    "for index, row in tqdm(X_test_c.iterrows()):\n",
    "    user_id = row['msno']\n",
    "    song_id = row['song_id']\n",
    "    target_res.append(get_user_song_dot(user_id, song_id))"
   ]
  },
  {
   "cell_type": "markdown",
   "metadata": {},
   "source": [
    "### Результат хуже, чем у бустинга, вероятно мало данных, и много пропущенных песен"
   ]
  },
  {
   "cell_type": "code",
   "execution_count": 255,
   "metadata": {},
   "outputs": [
    {
     "data": {
      "text/plain": [
       "0.6304720423902352"
      ]
     },
     "execution_count": 255,
     "metadata": {},
     "output_type": "execute_result"
    }
   ],
   "source": [
    "from sklearn.metrics import roc_auc_score\n",
    "roc_auc_score(y_test, target_res)"
   ]
  },
  {
   "cell_type": "markdown",
   "metadata": {},
   "source": [
    "# Добавим эти данные к GBDT "
   ]
  },
  {
   "cell_type": "code",
   "execution_count": 256,
   "metadata": {},
   "outputs": [],
   "source": [
    "# ds_train = pd.read_csv('ds/train.csv')\n",
    "# ds_songs = pd.read_csv('ds/songs.csv')\n",
    "# ds_songs_extra_info = pd.read_csv('ds/song_extra_info.csv')\n",
    "# ds_members = pd.read_csv('ds/members.csv')"
   ]
  },
  {
   "cell_type": "markdown",
   "metadata": {},
   "source": [
    "## (Дальше немного пойдет копипаста 1 части)"
   ]
  },
  {
   "cell_type": "code",
   "execution_count": 257,
   "metadata": {
    "id": "lS3rTJ3k7BET"
   },
   "outputs": [],
   "source": [
    "genres_for_song = ds_songs['genre_ids'].apply(lambda x: [int(v) for v in str(x).split('|') if v != 'nan'])"
   ]
  },
  {
   "cell_type": "code",
   "execution_count": 258,
   "metadata": {
    "id": "ZDidtu5W7BET"
   },
   "outputs": [],
   "source": [
    "genres = dict()\n",
    "for genre_list in genres_for_song:\n",
    "    for g in genre_list:\n",
    "        if g not in genres:\n",
    "            genres[g] = 0\n",
    "        genres[g] += 1"
   ]
  },
  {
   "cell_type": "code",
   "execution_count": 259,
   "metadata": {
    "id": "affXRZzS7BEU"
   },
   "outputs": [],
   "source": [
    "sorted_genres = {k: v for k, v in reversed(sorted(genres.items(), key=lambda item: item[1]))}\n",
    "sorted_genres['0'] = -1"
   ]
  },
  {
   "cell_type": "code",
   "execution_count": 260,
   "metadata": {
    "id": "rIA1ohgtXTEY"
   },
   "outputs": [],
   "source": [
    "def get_most_popular(g_list):\n",
    "    res = '0'\n",
    "    for g in g_list:\n",
    "        if sorted_genres[res] < sorted_genres[g]:\n",
    "            res = g\n",
    "    return res"
   ]
  },
  {
   "cell_type": "code",
   "execution_count": 261,
   "metadata": {
    "id": "584IHQGfXKd_"
   },
   "outputs": [],
   "source": [
    "most_pop = []\n",
    "for genre_list in genres_for_song:\n",
    "    most_pop.append(get_most_popular(genre_list))"
   ]
  },
  {
   "cell_type": "code",
   "execution_count": 262,
   "metadata": {
    "id": "mSgTZYcZ7BEX"
   },
   "outputs": [],
   "source": [
    "ds_songs['genre_ids'] = most_pop"
   ]
  },
  {
   "cell_type": "code",
   "execution_count": 263,
   "metadata": {},
   "outputs": [],
   "source": [
    "def leave_first(column):\n",
    "    items = ds_songs[column].apply(lambda x: [v for v in str(x).split('|')])\n",
    "    res = [v[0] for v in items]\n",
    "    ds_songs[column] = res"
   ]
  },
  {
   "cell_type": "code",
   "execution_count": 264,
   "metadata": {},
   "outputs": [],
   "source": [
    "leave_first('artist_name')\n",
    "leave_first('composer')\n",
    "leave_first('lyricist')"
   ]
  },
  {
   "cell_type": "code",
   "execution_count": 265,
   "metadata": {},
   "outputs": [],
   "source": [
    "ds_train = ds_train.merge(ds_members,on='msno',how='left')\n",
    "ds_train = ds_train.merge(ds_songs,on='song_id',how='left')\n",
    "ds_train = ds_train.fillna(0)"
   ]
  },
  {
   "cell_type": "code",
   "execution_count": 266,
   "metadata": {},
   "outputs": [],
   "source": [
    "ds_train.drop(columns=['registration_init_time','expiration_date','song_length'], inplace=True)"
   ]
  },
  {
   "cell_type": "code",
   "execution_count": 267,
   "metadata": {
    "colab": {
     "base_uri": "https://localhost:8080/",
     "height": 264
    },
    "id": "8cKXCljC7BEe",
    "outputId": "7205fb67-b3a3-4c9b-878e-53bdc999165c"
   },
   "outputs": [
    {
     "data": {
      "text/html": [
       "<div>\n",
       "<style scoped>\n",
       "    .dataframe tbody tr th:only-of-type {\n",
       "        vertical-align: middle;\n",
       "    }\n",
       "\n",
       "    .dataframe tbody tr th {\n",
       "        vertical-align: top;\n",
       "    }\n",
       "\n",
       "    .dataframe thead th {\n",
       "        text-align: right;\n",
       "    }\n",
       "</style>\n",
       "<table border=\"1\" class=\"dataframe\">\n",
       "  <thead>\n",
       "    <tr style=\"text-align: right;\">\n",
       "      <th></th>\n",
       "      <th>msno</th>\n",
       "      <th>song_id</th>\n",
       "      <th>source_system_tab</th>\n",
       "      <th>source_screen_name</th>\n",
       "      <th>source_type</th>\n",
       "      <th>target</th>\n",
       "      <th>city</th>\n",
       "      <th>bd</th>\n",
       "      <th>gender</th>\n",
       "      <th>registered_via</th>\n",
       "      <th>genre_ids</th>\n",
       "      <th>artist_name</th>\n",
       "      <th>composer</th>\n",
       "      <th>lyricist</th>\n",
       "      <th>language</th>\n",
       "      <th>name</th>\n",
       "      <th>isrc</th>\n",
       "    </tr>\n",
       "  </thead>\n",
       "  <tbody>\n",
       "    <tr>\n",
       "      <th>0</th>\n",
       "      <td>VVUJ1v6jIgHOY0+sOA7KJ/DGSEBKqQkE1t6yU7DbB48=</td>\n",
       "      <td>sW0WC79FUxNXU+1kq5EH7RorymurH1lwh/RrIx8YVQE=</td>\n",
       "      <td>search</td>\n",
       "      <td>Album more</td>\n",
       "      <td>album</td>\n",
       "      <td>0</td>\n",
       "      <td>5</td>\n",
       "      <td>27</td>\n",
       "      <td>male</td>\n",
       "      <td>9</td>\n",
       "      <td>691</td>\n",
       "      <td>農曆新年慶團圓</td>\n",
       "      <td>nan</td>\n",
       "      <td>nan</td>\n",
       "      <td>3</td>\n",
       "      <td>敲鑼打鼓迎新歳</td>\n",
       "      <td>0</td>\n",
       "    </tr>\n",
       "    <tr>\n",
       "      <th>1</th>\n",
       "      <td>cwyJueBC2115jDABgUIs0v0t5W5hu4i4dnEgECWGPM0=</td>\n",
       "      <td>SX9gmzwMCmsZefwdF2ow3ZSOFRNkEyMn1knjgVAYR74=</td>\n",
       "      <td>my library</td>\n",
       "      <td>Local playlist more</td>\n",
       "      <td>local-playlist</td>\n",
       "      <td>0</td>\n",
       "      <td>5</td>\n",
       "      <td>27</td>\n",
       "      <td>female</td>\n",
       "      <td>3</td>\n",
       "      <td>437</td>\n",
       "      <td>N.O.B.U!!!</td>\n",
       "      <td>Mongol800</td>\n",
       "      <td>nan</td>\n",
       "      <td>17</td>\n",
       "      <td>Chiisanakoinouta</td>\n",
       "      <td>JPPO01328879</td>\n",
       "    </tr>\n",
       "    <tr>\n",
       "      <th>2</th>\n",
       "      <td>n645vkTOABpu7yxby85uhzpMukJiOxV1xbPMrIM4748=</td>\n",
       "      <td>q5ircV2ov8Z5124cw4UVozRgVb7KshN6Yh89xScUSy8=</td>\n",
       "      <td>radio</td>\n",
       "      <td>Radio</td>\n",
       "      <td>radio</td>\n",
       "      <td>0</td>\n",
       "      <td>1</td>\n",
       "      <td>0</td>\n",
       "      <td>0</td>\n",
       "      <td>4</td>\n",
       "      <td>465</td>\n",
       "      <td>何韻詩 (HOCC)</td>\n",
       "      <td>pan</td>\n",
       "      <td>黃偉文</td>\n",
       "      <td>3</td>\n",
       "      <td>詩與胡說</td>\n",
       "      <td>HKC841000127</td>\n",
       "    </tr>\n",
       "  </tbody>\n",
       "</table>\n",
       "</div>"
      ],
      "text/plain": [
       "                                           msno  \\\n",
       "0  VVUJ1v6jIgHOY0+sOA7KJ/DGSEBKqQkE1t6yU7DbB48=   \n",
       "1  cwyJueBC2115jDABgUIs0v0t5W5hu4i4dnEgECWGPM0=   \n",
       "2  n645vkTOABpu7yxby85uhzpMukJiOxV1xbPMrIM4748=   \n",
       "\n",
       "                                        song_id source_system_tab  \\\n",
       "0  sW0WC79FUxNXU+1kq5EH7RorymurH1lwh/RrIx8YVQE=            search   \n",
       "1  SX9gmzwMCmsZefwdF2ow3ZSOFRNkEyMn1knjgVAYR74=        my library   \n",
       "2  q5ircV2ov8Z5124cw4UVozRgVb7KshN6Yh89xScUSy8=             radio   \n",
       "\n",
       "    source_screen_name     source_type  target  city  bd  gender  \\\n",
       "0           Album more           album       0     5  27    male   \n",
       "1  Local playlist more  local-playlist       0     5  27  female   \n",
       "2                Radio           radio       0     1   0       0   \n",
       "\n",
       "   registered_via genre_ids artist_name   composer lyricist language  \\\n",
       "0               9       691     農曆新年慶團圓        nan      nan        3   \n",
       "1               3       437  N.O.B.U!!!  Mongol800      nan       17   \n",
       "2               4       465  何韻詩 (HOCC)        pan      黃偉文        3   \n",
       "\n",
       "               name          isrc  \n",
       "0           敲鑼打鼓迎新歳             0  \n",
       "1  Chiisanakoinouta  JPPO01328879  \n",
       "2              詩與胡說  HKC841000127  "
      ]
     },
     "execution_count": 267,
     "metadata": {},
     "output_type": "execute_result"
    }
   ],
   "source": [
    "ds_train['language'] = ds_train['language'].astype(int).astype('category')\n",
    "ds_train.head(3)"
   ]
  },
  {
   "cell_type": "code",
   "execution_count": 268,
   "metadata": {},
   "outputs": [],
   "source": [
    "def get_dots(row):\n",
    "    user_id = row['msno']\n",
    "    song_id = row['song_id']\n",
    "    return get_user_song_dot(user_id, song_id)"
   ]
  },
  {
   "cell_type": "code",
   "execution_count": 269,
   "metadata": {},
   "outputs": [],
   "source": [
    "ds_train['dot'] = ds_train.apply(lambda row: get_dots(row), axis=1)"
   ]
  },
  {
   "cell_type": "code",
   "execution_count": 270,
   "metadata": {},
   "outputs": [],
   "source": [
    "X_train=ds_train.sample(frac=0.8)\n",
    "X_test=ds_train.drop(X_train.index)"
   ]
  },
  {
   "cell_type": "code",
   "execution_count": 271,
   "metadata": {},
   "outputs": [],
   "source": [
    "y_train = X_train['target']\n",
    "y_test = X_test['target']\n",
    "X_train = X_train.drop(columns=['target'])\n",
    "X_test = X_test.drop(columns=['target'])"
   ]
  },
  {
   "cell_type": "code",
   "execution_count": 272,
   "metadata": {},
   "outputs": [
    {
     "data": {
      "text/html": [
       "<div>\n",
       "<style scoped>\n",
       "    .dataframe tbody tr th:only-of-type {\n",
       "        vertical-align: middle;\n",
       "    }\n",
       "\n",
       "    .dataframe tbody tr th {\n",
       "        vertical-align: top;\n",
       "    }\n",
       "\n",
       "    .dataframe thead th {\n",
       "        text-align: right;\n",
       "    }\n",
       "</style>\n",
       "<table border=\"1\" class=\"dataframe\">\n",
       "  <thead>\n",
       "    <tr style=\"text-align: right;\">\n",
       "      <th></th>\n",
       "      <th>msno</th>\n",
       "      <th>song_id</th>\n",
       "      <th>source_system_tab</th>\n",
       "      <th>source_screen_name</th>\n",
       "      <th>source_type</th>\n",
       "      <th>target</th>\n",
       "      <th>city</th>\n",
       "      <th>bd</th>\n",
       "      <th>gender</th>\n",
       "      <th>registered_via</th>\n",
       "      <th>genre_ids</th>\n",
       "      <th>artist_name</th>\n",
       "      <th>composer</th>\n",
       "      <th>lyricist</th>\n",
       "      <th>language</th>\n",
       "      <th>name</th>\n",
       "      <th>isrc</th>\n",
       "      <th>dot</th>\n",
       "    </tr>\n",
       "  </thead>\n",
       "  <tbody>\n",
       "    <tr>\n",
       "      <th>0</th>\n",
       "      <td>VVUJ1v6jIgHOY0+sOA7KJ/DGSEBKqQkE1t6yU7DbB48=</td>\n",
       "      <td>sW0WC79FUxNXU+1kq5EH7RorymurH1lwh/RrIx8YVQE=</td>\n",
       "      <td>search</td>\n",
       "      <td>Album more</td>\n",
       "      <td>album</td>\n",
       "      <td>0</td>\n",
       "      <td>5</td>\n",
       "      <td>27</td>\n",
       "      <td>male</td>\n",
       "      <td>9</td>\n",
       "      <td>691</td>\n",
       "      <td>農曆新年慶團圓</td>\n",
       "      <td>nan</td>\n",
       "      <td>nan</td>\n",
       "      <td>3</td>\n",
       "      <td>敲鑼打鼓迎新歳</td>\n",
       "      <td>0</td>\n",
       "      <td>0.0</td>\n",
       "    </tr>\n",
       "    <tr>\n",
       "      <th>1</th>\n",
       "      <td>cwyJueBC2115jDABgUIs0v0t5W5hu4i4dnEgECWGPM0=</td>\n",
       "      <td>SX9gmzwMCmsZefwdF2ow3ZSOFRNkEyMn1knjgVAYR74=</td>\n",
       "      <td>my library</td>\n",
       "      <td>Local playlist more</td>\n",
       "      <td>local-playlist</td>\n",
       "      <td>0</td>\n",
       "      <td>5</td>\n",
       "      <td>27</td>\n",
       "      <td>female</td>\n",
       "      <td>3</td>\n",
       "      <td>437</td>\n",
       "      <td>N.O.B.U!!!</td>\n",
       "      <td>Mongol800</td>\n",
       "      <td>nan</td>\n",
       "      <td>17</td>\n",
       "      <td>Chiisanakoinouta</td>\n",
       "      <td>JPPO01328879</td>\n",
       "      <td>0.0</td>\n",
       "    </tr>\n",
       "  </tbody>\n",
       "</table>\n",
       "</div>"
      ],
      "text/plain": [
       "                                           msno  \\\n",
       "0  VVUJ1v6jIgHOY0+sOA7KJ/DGSEBKqQkE1t6yU7DbB48=   \n",
       "1  cwyJueBC2115jDABgUIs0v0t5W5hu4i4dnEgECWGPM0=   \n",
       "\n",
       "                                        song_id source_system_tab  \\\n",
       "0  sW0WC79FUxNXU+1kq5EH7RorymurH1lwh/RrIx8YVQE=            search   \n",
       "1  SX9gmzwMCmsZefwdF2ow3ZSOFRNkEyMn1knjgVAYR74=        my library   \n",
       "\n",
       "    source_screen_name     source_type  target  city  bd  gender  \\\n",
       "0           Album more           album       0     5  27    male   \n",
       "1  Local playlist more  local-playlist       0     5  27  female   \n",
       "\n",
       "   registered_via genre_ids artist_name   composer lyricist language  \\\n",
       "0               9       691     農曆新年慶團圓        nan      nan        3   \n",
       "1               3       437  N.O.B.U!!!  Mongol800      nan       17   \n",
       "\n",
       "               name          isrc  dot  \n",
       "0           敲鑼打鼓迎新歳             0  0.0  \n",
       "1  Chiisanakoinouta  JPPO01328879  0.0  "
      ]
     },
     "execution_count": 272,
     "metadata": {},
     "output_type": "execute_result"
    }
   ],
   "source": [
    "ds_train.head(2)"
   ]
  },
  {
   "cell_type": "code",
   "execution_count": 278,
   "metadata": {},
   "outputs": [],
   "source": [
    "X_train = X_train.drop(columns=['source_system_tab','source_screen_name','source_type','city','registered_via','isrc','name'])\n",
    "X_test = X_test.drop(columns=['source_system_tab','source_screen_name','source_type','city','registered_via','isrc','name'])"
   ]
  },
  {
   "cell_type": "code",
   "execution_count": 279,
   "metadata": {},
   "outputs": [
    {
     "data": {
      "text/html": [
       "<div>\n",
       "<style scoped>\n",
       "    .dataframe tbody tr th:only-of-type {\n",
       "        vertical-align: middle;\n",
       "    }\n",
       "\n",
       "    .dataframe tbody tr th {\n",
       "        vertical-align: top;\n",
       "    }\n",
       "\n",
       "    .dataframe thead th {\n",
       "        text-align: right;\n",
       "    }\n",
       "</style>\n",
       "<table border=\"1\" class=\"dataframe\">\n",
       "  <thead>\n",
       "    <tr style=\"text-align: right;\">\n",
       "      <th></th>\n",
       "      <th>msno</th>\n",
       "      <th>song_id</th>\n",
       "      <th>bd</th>\n",
       "      <th>gender</th>\n",
       "      <th>genre_ids</th>\n",
       "      <th>artist_name</th>\n",
       "      <th>composer</th>\n",
       "      <th>lyricist</th>\n",
       "      <th>language</th>\n",
       "      <th>dot</th>\n",
       "    </tr>\n",
       "  </thead>\n",
       "  <tbody>\n",
       "    <tr>\n",
       "      <th>972986</th>\n",
       "      <td>4tuTIArXO3WO8/zS9y2CC34ywEfChjAKUchlKW00DMM=</td>\n",
       "      <td>bnYQnR0batgokZew6w6DcdiWyXaXJDEh6PSCGlaFQUk=</td>\n",
       "      <td>40</td>\n",
       "      <td>female</td>\n",
       "      <td>465</td>\n",
       "      <td>葉蒨文 (Sally Yeh)</td>\n",
       "      <td>Angus Tung</td>\n",
       "      <td>Chen Gui Zhu</td>\n",
       "      <td>3</td>\n",
       "      <td>0.000000</td>\n",
       "    </tr>\n",
       "    <tr>\n",
       "      <th>388371</th>\n",
       "      <td>ZTjfgsNVhVJwqvPGc/aPXSy2oEwPpQFwHo7JVR3PILg=</td>\n",
       "      <td>HbqkjwnnIt6BtfmvVyXTdPHAsFCYxU74sv8+s1lfIwE=</td>\n",
       "      <td>0</td>\n",
       "      <td>0</td>\n",
       "      <td>2022</td>\n",
       "      <td>RADWIMPS</td>\n",
       "      <td>Yojiro Noda</td>\n",
       "      <td>nan</td>\n",
       "      <td>17</td>\n",
       "      <td>0.482554</td>\n",
       "    </tr>\n",
       "  </tbody>\n",
       "</table>\n",
       "</div>"
      ],
      "text/plain": [
       "                                                msno  \\\n",
       "972986  4tuTIArXO3WO8/zS9y2CC34ywEfChjAKUchlKW00DMM=   \n",
       "388371  ZTjfgsNVhVJwqvPGc/aPXSy2oEwPpQFwHo7JVR3PILg=   \n",
       "\n",
       "                                             song_id  bd  gender genre_ids  \\\n",
       "972986  bnYQnR0batgokZew6w6DcdiWyXaXJDEh6PSCGlaFQUk=  40  female       465   \n",
       "388371  HbqkjwnnIt6BtfmvVyXTdPHAsFCYxU74sv8+s1lfIwE=   0       0      2022   \n",
       "\n",
       "            artist_name     composer      lyricist language       dot  \n",
       "972986  葉蒨文 (Sally Yeh)   Angus Tung  Chen Gui Zhu        3  0.000000  \n",
       "388371         RADWIMPS  Yojiro Noda           nan       17  0.482554  "
      ]
     },
     "execution_count": 279,
     "metadata": {},
     "output_type": "execute_result"
    }
   ],
   "source": [
    "X_train.head(2)"
   ]
  },
  {
   "cell_type": "code",
   "execution_count": 280,
   "metadata": {},
   "outputs": [],
   "source": [
    "from catboost import CatBoostClassifier"
   ]
  },
  {
   "cell_type": "code",
   "execution_count": 285,
   "metadata": {},
   "outputs": [],
   "source": [
    "cat_features = [0, 1, 3, 4, 5, 6, 7, 8]"
   ]
  },
  {
   "cell_type": "code",
   "execution_count": 290,
   "metadata": {},
   "outputs": [],
   "source": [
    "clf = CatBoostClassifier(iterations=300, verbose=20, cat_features=cat_features)"
   ]
  },
  {
   "cell_type": "code",
   "execution_count": 291,
   "metadata": {},
   "outputs": [
    {
     "name": "stdout",
     "output_type": "stream",
     "text": [
      "Learning rate set to 0.5\n",
      "0:\tlearn: 0.5500760\ttotal: 1.29s\tremaining: 6m 24s\n",
      "20:\tlearn: 0.4273674\ttotal: 29s\tremaining: 6m 24s\n",
      "40:\tlearn: 0.4212130\ttotal: 54.7s\tremaining: 5m 45s\n",
      "60:\tlearn: 0.4174166\ttotal: 1m 22s\tremaining: 5m 24s\n",
      "80:\tlearn: 0.4154201\ttotal: 1m 41s\tremaining: 4m 35s\n",
      "100:\tlearn: 0.4141045\ttotal: 2m\tremaining: 3m 56s\n",
      "120:\tlearn: 0.4131130\ttotal: 2m 18s\tremaining: 3m 25s\n",
      "140:\tlearn: 0.4125181\ttotal: 2m 36s\tremaining: 2m 56s\n",
      "160:\tlearn: 0.4118277\ttotal: 2m 53s\tremaining: 2m 29s\n",
      "180:\tlearn: 0.4109799\ttotal: 3m 12s\tremaining: 2m 6s\n",
      "200:\tlearn: 0.4102694\ttotal: 3m 31s\tremaining: 1m 44s\n",
      "220:\tlearn: 0.4097684\ttotal: 3m 49s\tremaining: 1m 22s\n",
      "240:\tlearn: 0.4092334\ttotal: 4m 8s\tremaining: 1m\n",
      "260:\tlearn: 0.4088311\ttotal: 4m 26s\tremaining: 39.8s\n",
      "280:\tlearn: 0.4083055\ttotal: 4m 44s\tremaining: 19.3s\n",
      "299:\tlearn: 0.4080059\ttotal: 5m 1s\tremaining: 0us\n"
     ]
    },
    {
     "data": {
      "text/plain": [
       "<catboost.core.CatBoostClassifier at 0x7fbd532b60d0>"
      ]
     },
     "execution_count": 291,
     "metadata": {},
     "output_type": "execute_result"
    }
   ],
   "source": [
    "clf.fit(X_train, y_train)"
   ]
  },
  {
   "cell_type": "code",
   "execution_count": 292,
   "metadata": {},
   "outputs": [],
   "source": [
    "prediction = clf.predict(X_test)"
   ]
  },
  {
   "cell_type": "code",
   "execution_count": 293,
   "metadata": {},
   "outputs": [
    {
     "name": "stdout",
     "output_type": "stream",
     "text": [
      "0.8173728763541608\n"
     ]
    }
   ],
   "source": [
    "print(roc_auc_score(y_test, prediction))"
   ]
  },
  {
   "cell_type": "code",
   "execution_count": null,
   "metadata": {},
   "outputs": [],
   "source": []
  }
 ],
 "metadata": {
  "kernelspec": {
   "display_name": "Python 3",
   "language": "python",
   "name": "python3"
  },
  "language_info": {
   "codemirror_mode": {
    "name": "ipython",
    "version": 3
   },
   "file_extension": ".py",
   "mimetype": "text/x-python",
   "name": "python",
   "nbconvert_exporter": "python",
   "pygments_lexer": "ipython3",
   "version": "3.8.5"
  }
 },
 "nbformat": 4,
 "nbformat_minor": 4
}
