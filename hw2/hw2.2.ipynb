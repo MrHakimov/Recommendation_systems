{
 "cells": [
  {
   "cell_type": "code",
   "execution_count": 2,
   "metadata": {},
   "outputs": [],
   "source": [
    "import pandas as pd\n",
    "import numpy as np"
   ]
  },
  {
   "cell_type": "code",
   "execution_count": 3,
   "metadata": {},
   "outputs": [],
   "source": [
    "ds_train = pd.read_csv('ds/train.csv')\n",
    "ds_songs = pd.read_csv('ds/songs.csv')\n",
    "ds_songs_extra_info = pd.read_csv('ds/song_extra_info.csv')\n",
    "ds_members = pd.read_csv('ds/members.csv')"
   ]
  },
  {
   "cell_type": "markdown",
   "metadata": {},
   "source": [
    "### Беру только 15% от датасета, потому что построение предложений идут очень долго =("
   ]
  },
  {
   "cell_type": "code",
   "execution_count": 4,
   "metadata": {},
   "outputs": [],
   "source": [
    "ds_train = ds_train.sample(frac=0.15)"
   ]
  },
  {
   "cell_type": "code",
   "execution_count": 5,
   "metadata": {
    "id": "p5ULodVu7BEe"
   },
   "outputs": [],
   "source": [
    "X_train = ds_train.sample(frac=0.8)\n",
    "X_test = ds_train.drop(X_train.index)"
   ]
  },
  {
   "cell_type": "markdown",
   "metadata": {},
   "source": [
    "### В качестве предложений(sentence) для каждого юзера буду рассматривать список песен, которые он лайкнул. Где айдишки песен - слова для word2vec"
   ]
  },
  {
   "cell_type": "code",
   "execution_count": 6,
   "metadata": {},
   "outputs": [],
   "source": [
    "X_train_pos = X_train[X_train['target'] == 1]"
   ]
  },
  {
   "cell_type": "code",
   "execution_count": 7,
   "metadata": {},
   "outputs": [],
   "source": [
    "from tqdm.notebook import tqdm, trange"
   ]
  },
  {
   "cell_type": "code",
   "execution_count": 8,
   "metadata": {},
   "outputs": [
    {
     "data": {
      "application/vnd.jupyter.widget-view+json": {
       "model_id": "c62200695d6a4f1d96cde535f3161f98",
       "version_major": 2,
       "version_minor": 0
      },
      "text/plain": [
       "HBox(children=(HTML(value=''), FloatProgress(value=0.0, max=23275.0), HTML(value='')))"
      ]
     },
     "metadata": {},
     "output_type": "display_data"
    },
    {
     "name": "stdout",
     "output_type": "stream",
     "text": [
      "\n"
     ]
    }
   ],
   "source": [
    "users = np.unique(X_train_pos['msno'].values)\n",
    "user_pos_history = [X_train_pos[X_train_pos['msno'] == user]['song_id'].astype(str).tolist() for user in tqdm(users)]"
   ]
  },
  {
   "cell_type": "code",
   "execution_count": 9,
   "metadata": {},
   "outputs": [],
   "source": [
    "from gensim.models import Word2Vec"
   ]
  },
  {
   "cell_type": "code",
   "execution_count": 10,
   "metadata": {},
   "outputs": [
    {
     "data": {
      "text/plain": [
       "19.142771213748656"
      ]
     },
     "execution_count": 10,
     "metadata": {},
     "output_type": "execute_result"
    }
   ],
   "source": [
    "lengths = [len(arr) for arr in user_pos_history]\n",
    "np.mean(lengths)"
   ]
  },
  {
   "cell_type": "code",
   "execution_count": 11,
   "metadata": {},
   "outputs": [],
   "source": [
    "w2v = Word2Vec(window=8, sg=1, hs=0, negative=15, alpha=0.05)"
   ]
  },
  {
   "cell_type": "code",
   "execution_count": 12,
   "metadata": {},
   "outputs": [],
   "source": [
    "w2v.build_vocab(user_pos_history)"
   ]
  },
  {
   "cell_type": "code",
   "execution_count": 13,
   "metadata": {},
   "outputs": [
    {
     "data": {
      "text/plain": [
       "(10660338, 13366440)"
      ]
     },
     "execution_count": 13,
     "metadata": {},
     "output_type": "execute_result"
    }
   ],
   "source": [
    "w2v.train(user_pos_history, total_examples=len(user_pos_history), epochs=30)"
   ]
  },
  {
   "cell_type": "code",
   "execution_count": 14,
   "metadata": {},
   "outputs": [],
   "source": [
    "ds_songs = ds_songs.merge(ds_songs_extra_info,on='song_id',how='left')"
   ]
  },
  {
   "cell_type": "code",
   "execution_count": 15,
   "metadata": {},
   "outputs": [
    {
     "data": {
      "text/plain": [
       "(2296320, 9)"
      ]
     },
     "execution_count": 15,
     "metadata": {},
     "output_type": "execute_result"
    }
   ],
   "source": [
    "ds_songs.shape"
   ]
  },
  {
   "cell_type": "code",
   "execution_count": 16,
   "metadata": {},
   "outputs": [
    {
     "name": "stdout",
     "output_type": "stream",
     "text": [
      "Word2Vec(vocab=12324, vector_size=100, alpha=0.05)\n"
     ]
    }
   ],
   "source": [
    "print(w2v)"
   ]
  },
  {
   "cell_type": "code",
   "execution_count": 17,
   "metadata": {},
   "outputs": [],
   "source": [
    "def get_similars(name):\n",
    "    sims = w2v.wv.most_similar_cosmul(name)\n",
    "    data = []\n",
    "    for song, similarity in sims:\n",
    "        d = ds_songs[ds_songs['song_id'] == song].to_dict('records')[0]\n",
    "        d['similarity'] = similarity\n",
    "        data.append(d)\n",
    "    return pd.DataFrame(data)"
   ]
  },
  {
   "cell_type": "code",
   "execution_count": 18,
   "metadata": {},
   "outputs": [
    {
     "name": "stdout",
     "output_type": "stream",
     "text": [
      "e/upMhPFcXl3Rxq0Us1abr0FcThlZOeqKJhBobmltBU=\n"
     ]
    },
    {
     "data": {
      "text/html": [
       "<div>\n",
       "<style scoped>\n",
       "    .dataframe tbody tr th:only-of-type {\n",
       "        vertical-align: middle;\n",
       "    }\n",
       "\n",
       "    .dataframe tbody tr th {\n",
       "        vertical-align: top;\n",
       "    }\n",
       "\n",
       "    .dataframe thead th {\n",
       "        text-align: right;\n",
       "    }\n",
       "</style>\n",
       "<table border=\"1\" class=\"dataframe\">\n",
       "  <thead>\n",
       "    <tr style=\"text-align: right;\">\n",
       "      <th></th>\n",
       "      <th>song_id</th>\n",
       "      <th>song_length</th>\n",
       "      <th>genre_ids</th>\n",
       "      <th>artist_name</th>\n",
       "      <th>composer</th>\n",
       "      <th>lyricist</th>\n",
       "      <th>language</th>\n",
       "      <th>name</th>\n",
       "      <th>isrc</th>\n",
       "      <th>similarity</th>\n",
       "    </tr>\n",
       "  </thead>\n",
       "  <tbody>\n",
       "    <tr>\n",
       "      <th>0</th>\n",
       "      <td>0b8M2FLEH176y/ng1rK9ftUYDYnA+1NdoCOUeuyBMtU=</td>\n",
       "      <td>221544</td>\n",
       "      <td>1609</td>\n",
       "      <td>The Chainsmokers</td>\n",
       "      <td>Andrew Taggart| Kris Eriksson| Fredrik Häggstam</td>\n",
       "      <td>Andrew Taggart| Kris Eriksson| Fredrik Häggstam</td>\n",
       "      <td>52.0</td>\n",
       "      <td>Paris</td>\n",
       "      <td>USQX91603031</td>\n",
       "      <td>0.834616</td>\n",
       "    </tr>\n",
       "    <tr>\n",
       "      <th>1</th>\n",
       "      <td>n+FLlTL+LrNTa6xpoGkESEzlUMb/hPEM1nLq2U6fEp0=</td>\n",
       "      <td>261172</td>\n",
       "      <td>465</td>\n",
       "      <td>Ed Sheeran</td>\n",
       "      <td>Ed Sheeran| Benjamin Levin</td>\n",
       "      <td>NaN</td>\n",
       "      <td>52.0</td>\n",
       "      <td>Castle on the Hill</td>\n",
       "      <td>GBAHS1600462</td>\n",
       "      <td>0.806091</td>\n",
       "    </tr>\n",
       "    <tr>\n",
       "      <th>2</th>\n",
       "      <td>+LztcJcPEEwsikk6+K5udm06XJQMzR4+lzavKLUyE0k=</td>\n",
       "      <td>208492</td>\n",
       "      <td>1609</td>\n",
       "      <td>The Chainsmokers</td>\n",
       "      <td>Andrew Taggart| Emily Warren| Scott Harris</td>\n",
       "      <td>Andrew Taggart| Emily Warren| Scott Harris</td>\n",
       "      <td>52.0</td>\n",
       "      <td>Don't Let Me Down</td>\n",
       "      <td>USQX91600011</td>\n",
       "      <td>0.804529</td>\n",
       "    </tr>\n",
       "    <tr>\n",
       "      <th>3</th>\n",
       "      <td>o9HWMBZMeIPnYEpSuscGoORKE44sj3BYOdvGuIi0P68=</td>\n",
       "      <td>309394</td>\n",
       "      <td>458</td>\n",
       "      <td>Eric 周興哲</td>\n",
       "      <td>Eric周興哲</td>\n",
       "      <td>王仲宇/Eric周興哲</td>\n",
       "      <td>3.0</td>\n",
       "      <td>愛在身邊 (Unbreakable Love)</td>\n",
       "      <td>TWA471701001</td>\n",
       "      <td>0.801999</td>\n",
       "    </tr>\n",
       "    <tr>\n",
       "      <th>4</th>\n",
       "      <td>sgHKhG2d57U2o88razl9SyG1nuuMDf0J2BuDhzoI12Y=</td>\n",
       "      <td>194115</td>\n",
       "      <td>1609</td>\n",
       "      <td>The Chainsmokers</td>\n",
       "      <td>Andrew Taggart| Sara Hejellstrom| Nirob Islam</td>\n",
       "      <td>Andrew Taggart| Sara Hejellstrom| Nirob Islam</td>\n",
       "      <td>52.0</td>\n",
       "      <td>All We Know</td>\n",
       "      <td>USQX91602153</td>\n",
       "      <td>0.799447</td>\n",
       "    </tr>\n",
       "    <tr>\n",
       "      <th>5</th>\n",
       "      <td>Xpjwi8UAE2Vv9PZ6cZnhc58MCtl3cKZEO1sdAkqJ4mo=</td>\n",
       "      <td>281495</td>\n",
       "      <td>458</td>\n",
       "      <td>田馥甄 (Hebe)</td>\n",
       "      <td>薛之謙</td>\n",
       "      <td>薛之謙</td>\n",
       "      <td>3.0</td>\n",
       "      <td>演員</td>\n",
       "      <td>TWD951676105</td>\n",
       "      <td>0.797303</td>\n",
       "    </tr>\n",
       "    <tr>\n",
       "      <th>6</th>\n",
       "      <td>9YYrODwrXpDcCjOJypHROv3f5z40y11QlmgQjmzp2vQ=</td>\n",
       "      <td>183379</td>\n",
       "      <td>1616|1609</td>\n",
       "      <td>Mike Perry</td>\n",
       "      <td>Mikael Persson| Sara Hjellström| Dimitri Vange...</td>\n",
       "      <td>Mikael Persson| Sara Hjellström| Nirob Islam</td>\n",
       "      <td>52.0</td>\n",
       "      <td>The Ocean</td>\n",
       "      <td>SE3AA1600005</td>\n",
       "      <td>0.796575</td>\n",
       "    </tr>\n",
       "    <tr>\n",
       "      <th>7</th>\n",
       "      <td>limwLMOy3/jAQ5dOa3x7k/eJmA1ARXel99C337h+E34=</td>\n",
       "      <td>211278</td>\n",
       "      <td>465</td>\n",
       "      <td>James Arthur</td>\n",
       "      <td>James Arthur| Steve Solomon| Neil Ormandy</td>\n",
       "      <td>James Arthur| Steve Solomon| Neil Ormandy</td>\n",
       "      <td>52.0</td>\n",
       "      <td>Say You Won't Let Go</td>\n",
       "      <td>DEE861600586</td>\n",
       "      <td>0.784738</td>\n",
       "    </tr>\n",
       "    <tr>\n",
       "      <th>8</th>\n",
       "      <td>MtFK4NN8Kv1k/xPA3wb8SQaP/jWee52FAaC1s9NFsU4=</td>\n",
       "      <td>222197</td>\n",
       "      <td>1609</td>\n",
       "      <td>Calvin Harris</td>\n",
       "      <td>Calvin Harris| Taylor Swift</td>\n",
       "      <td>Calvin Harris| Taylor Swift</td>\n",
       "      <td>52.0</td>\n",
       "      <td>This Is What You Came For</td>\n",
       "      <td>GBARL1600460</td>\n",
       "      <td>0.783080</td>\n",
       "    </tr>\n",
       "    <tr>\n",
       "      <th>9</th>\n",
       "      <td>IKMFuL0f5Y8c63Hg9BXkeNJjE0z8yf3gMt/tOxF4QNE=</td>\n",
       "      <td>244976</td>\n",
       "      <td>1609</td>\n",
       "      <td>The Chainsmokers</td>\n",
       "      <td>Andrew Taggart| Shaun Frank| Frederic Kennett|...</td>\n",
       "      <td>Andrew Taggart| Shaun Frank| Frederic Kennett|...</td>\n",
       "      <td>52.0</td>\n",
       "      <td>Closer</td>\n",
       "      <td>USQX91601347</td>\n",
       "      <td>0.781835</td>\n",
       "    </tr>\n",
       "  </tbody>\n",
       "</table>\n",
       "</div>"
      ],
      "text/plain": [
       "                                        song_id  song_length  genre_ids  \\\n",
       "0  0b8M2FLEH176y/ng1rK9ftUYDYnA+1NdoCOUeuyBMtU=       221544       1609   \n",
       "1  n+FLlTL+LrNTa6xpoGkESEzlUMb/hPEM1nLq2U6fEp0=       261172        465   \n",
       "2  +LztcJcPEEwsikk6+K5udm06XJQMzR4+lzavKLUyE0k=       208492       1609   \n",
       "3  o9HWMBZMeIPnYEpSuscGoORKE44sj3BYOdvGuIi0P68=       309394        458   \n",
       "4  sgHKhG2d57U2o88razl9SyG1nuuMDf0J2BuDhzoI12Y=       194115       1609   \n",
       "5  Xpjwi8UAE2Vv9PZ6cZnhc58MCtl3cKZEO1sdAkqJ4mo=       281495        458   \n",
       "6  9YYrODwrXpDcCjOJypHROv3f5z40y11QlmgQjmzp2vQ=       183379  1616|1609   \n",
       "7  limwLMOy3/jAQ5dOa3x7k/eJmA1ARXel99C337h+E34=       211278        465   \n",
       "8  MtFK4NN8Kv1k/xPA3wb8SQaP/jWee52FAaC1s9NFsU4=       222197       1609   \n",
       "9  IKMFuL0f5Y8c63Hg9BXkeNJjE0z8yf3gMt/tOxF4QNE=       244976       1609   \n",
       "\n",
       "        artist_name                                           composer  \\\n",
       "0  The Chainsmokers    Andrew Taggart| Kris Eriksson| Fredrik Häggstam   \n",
       "1        Ed Sheeran                         Ed Sheeran| Benjamin Levin   \n",
       "2  The Chainsmokers         Andrew Taggart| Emily Warren| Scott Harris   \n",
       "3          Eric 周興哲                                            Eric周興哲   \n",
       "4  The Chainsmokers      Andrew Taggart| Sara Hejellstrom| Nirob Islam   \n",
       "5        田馥甄 (Hebe)                                                薛之謙   \n",
       "6        Mike Perry  Mikael Persson| Sara Hjellström| Dimitri Vange...   \n",
       "7      James Arthur          James Arthur| Steve Solomon| Neil Ormandy   \n",
       "8     Calvin Harris                        Calvin Harris| Taylor Swift   \n",
       "9  The Chainsmokers  Andrew Taggart| Shaun Frank| Frederic Kennett|...   \n",
       "\n",
       "                                            lyricist  language  \\\n",
       "0    Andrew Taggart| Kris Eriksson| Fredrik Häggstam      52.0   \n",
       "1                                                NaN      52.0   \n",
       "2         Andrew Taggart| Emily Warren| Scott Harris      52.0   \n",
       "3                                        王仲宇/Eric周興哲       3.0   \n",
       "4      Andrew Taggart| Sara Hejellstrom| Nirob Islam      52.0   \n",
       "5                                                薛之謙       3.0   \n",
       "6       Mikael Persson| Sara Hjellström| Nirob Islam      52.0   \n",
       "7          James Arthur| Steve Solomon| Neil Ormandy      52.0   \n",
       "8                        Calvin Harris| Taylor Swift      52.0   \n",
       "9  Andrew Taggart| Shaun Frank| Frederic Kennett|...      52.0   \n",
       "\n",
       "                        name          isrc  similarity  \n",
       "0                      Paris  USQX91603031    0.834616  \n",
       "1         Castle on the Hill  GBAHS1600462    0.806091  \n",
       "2          Don't Let Me Down  USQX91600011    0.804529  \n",
       "3    愛在身邊 (Unbreakable Love)  TWA471701001    0.801999  \n",
       "4                All We Know  USQX91602153    0.799447  \n",
       "5                         演員  TWD951676105    0.797303  \n",
       "6                  The Ocean  SE3AA1600005    0.796575  \n",
       "7       Say You Won't Let Go  DEE861600586    0.784738  \n",
       "8  This Is What You Came For  GBARL1600460    0.783080  \n",
       "9                     Closer  USQX91601347    0.781835  "
      ]
     },
     "execution_count": 18,
     "metadata": {},
     "output_type": "execute_result"
    }
   ],
   "source": [
    "# name = '0ee/D6HjX0jSytUn3v58C0x6zEzN4bcPq3WlqvrG/Xo=' # heathens, Twenty one pilots\n",
    "name = 'e/upMhPFcXl3Rxq0Us1abr0FcThlZOeqKJhBobmltBU=' # Shape of you\n",
    "print(name)\n",
    "get_similars(name)"
   ]
  },
  {
   "cell_type": "code",
   "execution_count": 19,
   "metadata": {},
   "outputs": [],
   "source": [
    "song_data_name_author = []\n",
    "songs_in_dict = list(w2v.wv.key_to_index.keys())\n",
    "# for song_id in tqdm(w2v.wv.key_to_index.keys()):\n",
    "#     print(song_id, ds_songs[ds_songs['song_id'] == song_id]['name'], ds_songs[ds_songs['song_id'] == song_id]['artist_name'])\n",
    "#     song_data_name_author.append((song_id, ds_songs[ds_songs['song_id'] == song_id]['name'], ds_songs[ds_songs['song_id'] == song_id]['artist_name']))"
   ]
  },
  {
   "cell_type": "code",
   "execution_count": 20,
   "metadata": {},
   "outputs": [],
   "source": [
    "# w2v.wv.get_vector(\"e/upMhPFcXl3Rxq0Us1abr0FcThlZOeqKJhBobmltBU=\",norm=True)"
   ]
  },
  {
   "cell_type": "code",
   "execution_count": 21,
   "metadata": {},
   "outputs": [],
   "source": [
    "y_train = X_train['target']\n",
    "y_test = X_test['target']\n",
    "X_train = X_train.drop(columns=['target'])\n",
    "X_test = X_test.drop(columns=['target'])"
   ]
  },
  {
   "cell_type": "code",
   "execution_count": 22,
   "metadata": {},
   "outputs": [],
   "source": [
    "def get_user_embeddings(X, y):\n",
    "    embeddings = dict()\n",
    "    count = dict()\n",
    "    for (index, row), target in tqdm(zip(X_train.iterrows(), y_train)):\n",
    "        if target == 1:\n",
    "            user_id = row['msno']\n",
    "            song_id = row['song_id']\n",
    "            if song_id in songs_in_dict:\n",
    "                if user_id not in count:\n",
    "                    count[user_id] = 0\n",
    "                if user_id not in embeddings:\n",
    "                    embeddings[user_id] = np.zeros(100)\n",
    "                embeddings[user_id] += w2v.wv.get_vector(song_id, norm=True)\n",
    "                count[user_id] += 1\n",
    "    for user_id in embeddings.keys():\n",
    "        embeddings[user_id] /= count[user_id]\n",
    "    return embeddings    "
   ]
  },
  {
   "cell_type": "code",
   "execution_count": 23,
   "metadata": {},
   "outputs": [
    {
     "data": {
      "application/vnd.jupyter.widget-view+json": {
       "model_id": "8f3ed5d94a05404b89b9151c3cd57b38",
       "version_major": 2,
       "version_minor": 0
      },
      "text/plain": [
       "HBox(children=(HTML(value=''), FloatProgress(value=1.0, bar_style='info', layout=Layout(width='20px'), max=1.0…"
      ]
     },
     "metadata": {},
     "output_type": "display_data"
    },
    {
     "name": "stdout",
     "output_type": "stream",
     "text": [
      "\n"
     ]
    }
   ],
   "source": [
    "user_embeddings = get_user_embeddings(X_train, y_train)"
   ]
  },
  {
   "cell_type": "code",
   "execution_count": 24,
   "metadata": {},
   "outputs": [],
   "source": [
    "def get_user_song_dot(user_id, song_id):\n",
    "    if user_id not in user_embeddings:\n",
    "        return 0\n",
    "    if song_id not in songs_in_dict:\n",
    "        return 0\n",
    "    uv = user_embeddings[user_id]\n",
    "    sv = w2v.wv.get_vector(song_id)\n",
    "    \n",
    "    u_n = np.linalg.norm(uv)\n",
    "    s_n = np.linalg.norm(sv)\n",
    "    return np.dot(uv / u_n, sv / s_n)"
   ]
  },
  {
   "cell_type": "code",
   "execution_count": 25,
   "metadata": {},
   "outputs": [],
   "source": [
    "X_test_c = X_test.copy()"
   ]
  },
  {
   "cell_type": "code",
   "execution_count": 26,
   "metadata": {},
   "outputs": [
    {
     "data": {
      "application/vnd.jupyter.widget-view+json": {
       "model_id": "7648f093c2044c208637557ec87a5613",
       "version_major": 2,
       "version_minor": 0
      },
      "text/plain": [
       "HBox(children=(HTML(value=''), FloatProgress(value=1.0, bar_style='info', layout=Layout(width='20px'), max=1.0…"
      ]
     },
     "metadata": {},
     "output_type": "display_data"
    },
    {
     "name": "stdout",
     "output_type": "stream",
     "text": [
      "\n"
     ]
    }
   ],
   "source": [
    "target_res = []\n",
    "for index, row in tqdm(X_test_c.iterrows()):\n",
    "    user_id = row['msno']\n",
    "    song_id = row['song_id']\n",
    "    target_res.append(get_user_song_dot(user_id, song_id))"
   ]
  },
  {
   "cell_type": "markdown",
   "metadata": {},
   "source": [
    "### Результат хуже, чем у бустинга, вероятно мало данных, и много пропущенных песен"
   ]
  },
  {
   "cell_type": "code",
   "execution_count": 27,
   "metadata": {},
   "outputs": [
    {
     "data": {
      "text/plain": [
       "0.6303801222110809"
      ]
     },
     "execution_count": 27,
     "metadata": {},
     "output_type": "execute_result"
    }
   ],
   "source": [
    "from sklearn.metrics import roc_auc_score\n",
    "roc_auc_score(y_test, target_res)"
   ]
  },
  {
   "cell_type": "markdown",
   "metadata": {},
   "source": [
    "# Добавим эти данные к GBDT "
   ]
  },
  {
   "cell_type": "code",
   "execution_count": 28,
   "metadata": {},
   "outputs": [],
   "source": [
    "# ds_train = pd.read_csv('ds/train.csv')\n",
    "# ds_songs = pd.read_csv('ds/songs.csv')\n",
    "# ds_songs_extra_info = pd.read_csv('ds/song_extra_info.csv')\n",
    "# ds_members = pd.read_csv('ds/members.csv')"
   ]
  },
  {
   "cell_type": "markdown",
   "metadata": {},
   "source": [
    "## (Дальше немного пойдет копипаста 1 части)"
   ]
  },
  {
   "cell_type": "code",
   "execution_count": 29,
   "metadata": {
    "id": "lS3rTJ3k7BET"
   },
   "outputs": [],
   "source": [
    "genres_for_song = ds_songs['genre_ids'].apply(lambda x: [int(v) for v in str(x).split('|') if v != 'nan'])"
   ]
  },
  {
   "cell_type": "code",
   "execution_count": 30,
   "metadata": {
    "id": "ZDidtu5W7BET"
   },
   "outputs": [],
   "source": [
    "genres = dict()\n",
    "for genre_list in genres_for_song:\n",
    "    for g in genre_list:\n",
    "        if g not in genres:\n",
    "            genres[g] = 0\n",
    "        genres[g] += 1"
   ]
  },
  {
   "cell_type": "code",
   "execution_count": 31,
   "metadata": {
    "id": "affXRZzS7BEU"
   },
   "outputs": [],
   "source": [
    "sorted_genres = {k: v for k, v in reversed(sorted(genres.items(), key=lambda item: item[1]))}\n",
    "sorted_genres['0'] = -1"
   ]
  },
  {
   "cell_type": "code",
   "execution_count": 32,
   "metadata": {
    "id": "rIA1ohgtXTEY"
   },
   "outputs": [],
   "source": [
    "def get_most_popular(g_list):\n",
    "    res = '0'\n",
    "    for g in g_list:\n",
    "        if sorted_genres[res] < sorted_genres[g]:\n",
    "            res = g\n",
    "    return res"
   ]
  },
  {
   "cell_type": "code",
   "execution_count": 33,
   "metadata": {
    "id": "584IHQGfXKd_"
   },
   "outputs": [],
   "source": [
    "most_pop = []\n",
    "for genre_list in genres_for_song:\n",
    "    most_pop.append(get_most_popular(genre_list))"
   ]
  },
  {
   "cell_type": "code",
   "execution_count": 34,
   "metadata": {
    "id": "mSgTZYcZ7BEX"
   },
   "outputs": [],
   "source": [
    "ds_songs['genre_ids'] = most_pop"
   ]
  },
  {
   "cell_type": "code",
   "execution_count": 35,
   "metadata": {},
   "outputs": [],
   "source": [
    "def leave_first(column):\n",
    "    items = ds_songs[column].apply(lambda x: [v for v in str(x).split('|')])\n",
    "    res = [v[0] for v in items]\n",
    "    ds_songs[column] = res"
   ]
  },
  {
   "cell_type": "code",
   "execution_count": 36,
   "metadata": {},
   "outputs": [],
   "source": [
    "leave_first('artist_name')\n",
    "leave_first('composer')\n",
    "leave_first('lyricist')"
   ]
  },
  {
   "cell_type": "code",
   "execution_count": 37,
   "metadata": {},
   "outputs": [],
   "source": [
    "ds_train = ds_train.merge(ds_members,on='msno',how='left')\n",
    "ds_train = ds_train.merge(ds_songs,on='song_id',how='left')\n",
    "ds_train = ds_train.fillna(0)"
   ]
  },
  {
   "cell_type": "code",
   "execution_count": 38,
   "metadata": {},
   "outputs": [],
   "source": [
    "ds_train.drop(columns=['registration_init_time','expiration_date','song_length'], inplace=True)"
   ]
  },
  {
   "cell_type": "code",
   "execution_count": 39,
   "metadata": {
    "colab": {
     "base_uri": "https://localhost:8080/",
     "height": 264
    },
    "id": "8cKXCljC7BEe",
    "outputId": "7205fb67-b3a3-4c9b-878e-53bdc999165c"
   },
   "outputs": [
    {
     "data": {
      "text/html": [
       "<div>\n",
       "<style scoped>\n",
       "    .dataframe tbody tr th:only-of-type {\n",
       "        vertical-align: middle;\n",
       "    }\n",
       "\n",
       "    .dataframe tbody tr th {\n",
       "        vertical-align: top;\n",
       "    }\n",
       "\n",
       "    .dataframe thead th {\n",
       "        text-align: right;\n",
       "    }\n",
       "</style>\n",
       "<table border=\"1\" class=\"dataframe\">\n",
       "  <thead>\n",
       "    <tr style=\"text-align: right;\">\n",
       "      <th></th>\n",
       "      <th>msno</th>\n",
       "      <th>song_id</th>\n",
       "      <th>source_system_tab</th>\n",
       "      <th>source_screen_name</th>\n",
       "      <th>source_type</th>\n",
       "      <th>target</th>\n",
       "      <th>city</th>\n",
       "      <th>bd</th>\n",
       "      <th>gender</th>\n",
       "      <th>registered_via</th>\n",
       "      <th>genre_ids</th>\n",
       "      <th>artist_name</th>\n",
       "      <th>composer</th>\n",
       "      <th>lyricist</th>\n",
       "      <th>language</th>\n",
       "      <th>name</th>\n",
       "      <th>isrc</th>\n",
       "    </tr>\n",
       "  </thead>\n",
       "  <tbody>\n",
       "    <tr>\n",
       "      <th>0</th>\n",
       "      <td>cqmFueF5y1pLXlBTMvPJbkbnJBu8YRneung0Ucd08pU=</td>\n",
       "      <td>iJI/Hb+Fl6iTlICmCKjV3vQTVJH1wnYVm561SB5Mheg=</td>\n",
       "      <td>my library</td>\n",
       "      <td>Local playlist more</td>\n",
       "      <td>local-library</td>\n",
       "      <td>1</td>\n",
       "      <td>6</td>\n",
       "      <td>30</td>\n",
       "      <td>male</td>\n",
       "      <td>9</td>\n",
       "      <td>465</td>\n",
       "      <td>信樂團 (Shin Band)</td>\n",
       "      <td>Keith Stuart</td>\n",
       "      <td>方文山</td>\n",
       "      <td>3</td>\n",
       "      <td>千年之戀</td>\n",
       "      <td>TWA770400202</td>\n",
       "    </tr>\n",
       "    <tr>\n",
       "      <th>1</th>\n",
       "      <td>2AuaeP5blev17Z+QKcNOI7TSRywy1UDgo+SBrH5Cpco=</td>\n",
       "      <td>giLg43LpLYtKJj8aKQehu0auImYZpfPgA3gycfKgupg=</td>\n",
       "      <td>discover</td>\n",
       "      <td>Album more</td>\n",
       "      <td>album</td>\n",
       "      <td>0</td>\n",
       "      <td>8</td>\n",
       "      <td>22</td>\n",
       "      <td>male</td>\n",
       "      <td>7</td>\n",
       "      <td>458</td>\n",
       "      <td>兄弟本色G.U.T.S. (姚中仁、張震嶽、頑童MJ116)</td>\n",
       "      <td>兄弟本色G.U.T.S</td>\n",
       "      <td>兄弟本色G.U.T.S</td>\n",
       "      <td>3</td>\n",
       "      <td>WE WILL RULE 背水一戰</td>\n",
       "      <td>TWA451650901</td>\n",
       "    </tr>\n",
       "    <tr>\n",
       "      <th>2</th>\n",
       "      <td>4BqfqwwMFLqdNw67y6WrezLNZcla6uV/14nvtpuHa2A=</td>\n",
       "      <td>yhUWLTICqIv17CRI2472lJN+GWFhyHoRy7uzDykzKM0=</td>\n",
       "      <td>discover</td>\n",
       "      <td>0</td>\n",
       "      <td>top-hits-for-artist</td>\n",
       "      <td>1</td>\n",
       "      <td>1</td>\n",
       "      <td>0</td>\n",
       "      <td>0</td>\n",
       "      <td>4</td>\n",
       "      <td>465</td>\n",
       "      <td>George Michael</td>\n",
       "      <td>nan</td>\n",
       "      <td>nan</td>\n",
       "      <td>52</td>\n",
       "      <td>Last Christmas</td>\n",
       "      <td>GBARL0601611</td>\n",
       "    </tr>\n",
       "  </tbody>\n",
       "</table>\n",
       "</div>"
      ],
      "text/plain": [
       "                                           msno  \\\n",
       "0  cqmFueF5y1pLXlBTMvPJbkbnJBu8YRneung0Ucd08pU=   \n",
       "1  2AuaeP5blev17Z+QKcNOI7TSRywy1UDgo+SBrH5Cpco=   \n",
       "2  4BqfqwwMFLqdNw67y6WrezLNZcla6uV/14nvtpuHa2A=   \n",
       "\n",
       "                                        song_id source_system_tab  \\\n",
       "0  iJI/Hb+Fl6iTlICmCKjV3vQTVJH1wnYVm561SB5Mheg=        my library   \n",
       "1  giLg43LpLYtKJj8aKQehu0auImYZpfPgA3gycfKgupg=          discover   \n",
       "2  yhUWLTICqIv17CRI2472lJN+GWFhyHoRy7uzDykzKM0=          discover   \n",
       "\n",
       "    source_screen_name          source_type  target  city  bd gender  \\\n",
       "0  Local playlist more        local-library       1     6  30   male   \n",
       "1           Album more                album       0     8  22   male   \n",
       "2                    0  top-hits-for-artist       1     1   0      0   \n",
       "\n",
       "   registered_via genre_ids                     artist_name      composer  \\\n",
       "0               9       465                 信樂團 (Shin Band)  Keith Stuart   \n",
       "1               7       458  兄弟本色G.U.T.S. (姚中仁、張震嶽、頑童MJ116)   兄弟本色G.U.T.S   \n",
       "2               4       465                  George Michael           nan   \n",
       "\n",
       "      lyricist language               name          isrc  \n",
       "0          方文山        3               千年之戀  TWA770400202  \n",
       "1  兄弟本色G.U.T.S        3  WE WILL RULE 背水一戰  TWA451650901  \n",
       "2          nan       52     Last Christmas  GBARL0601611  "
      ]
     },
     "execution_count": 39,
     "metadata": {},
     "output_type": "execute_result"
    }
   ],
   "source": [
    "ds_train['language'] = ds_train['language'].astype(int).astype('category')\n",
    "ds_train.head(3)"
   ]
  },
  {
   "cell_type": "code",
   "execution_count": 40,
   "metadata": {},
   "outputs": [],
   "source": [
    "def get_dots(row):\n",
    "    user_id = row['msno']\n",
    "    song_id = row['song_id']\n",
    "    return get_user_song_dot(user_id, song_id)"
   ]
  },
  {
   "cell_type": "code",
   "execution_count": 41,
   "metadata": {},
   "outputs": [],
   "source": [
    "ds_train['dot'] = ds_train.apply(lambda row: get_dots(row), axis=1)"
   ]
  },
  {
   "cell_type": "code",
   "execution_count": 42,
   "metadata": {},
   "outputs": [],
   "source": [
    "X_train=ds_train.sample(frac=0.8)\n",
    "X_test=ds_train.drop(X_train.index)"
   ]
  },
  {
   "cell_type": "code",
   "execution_count": 43,
   "metadata": {},
   "outputs": [],
   "source": [
    "y_train = X_train['target']\n",
    "y_test = X_test['target']\n",
    "X_train = X_train.drop(columns=['target'])\n",
    "X_test = X_test.drop(columns=['target'])"
   ]
  },
  {
   "cell_type": "code",
   "execution_count": 44,
   "metadata": {},
   "outputs": [
    {
     "data": {
      "text/html": [
       "<div>\n",
       "<style scoped>\n",
       "    .dataframe tbody tr th:only-of-type {\n",
       "        vertical-align: middle;\n",
       "    }\n",
       "\n",
       "    .dataframe tbody tr th {\n",
       "        vertical-align: top;\n",
       "    }\n",
       "\n",
       "    .dataframe thead th {\n",
       "        text-align: right;\n",
       "    }\n",
       "</style>\n",
       "<table border=\"1\" class=\"dataframe\">\n",
       "  <thead>\n",
       "    <tr style=\"text-align: right;\">\n",
       "      <th></th>\n",
       "      <th>msno</th>\n",
       "      <th>song_id</th>\n",
       "      <th>source_system_tab</th>\n",
       "      <th>source_screen_name</th>\n",
       "      <th>source_type</th>\n",
       "      <th>target</th>\n",
       "      <th>city</th>\n",
       "      <th>bd</th>\n",
       "      <th>gender</th>\n",
       "      <th>registered_via</th>\n",
       "      <th>genre_ids</th>\n",
       "      <th>artist_name</th>\n",
       "      <th>composer</th>\n",
       "      <th>lyricist</th>\n",
       "      <th>language</th>\n",
       "      <th>name</th>\n",
       "      <th>isrc</th>\n",
       "      <th>dot</th>\n",
       "    </tr>\n",
       "  </thead>\n",
       "  <tbody>\n",
       "    <tr>\n",
       "      <th>0</th>\n",
       "      <td>cqmFueF5y1pLXlBTMvPJbkbnJBu8YRneung0Ucd08pU=</td>\n",
       "      <td>iJI/Hb+Fl6iTlICmCKjV3vQTVJH1wnYVm561SB5Mheg=</td>\n",
       "      <td>my library</td>\n",
       "      <td>Local playlist more</td>\n",
       "      <td>local-library</td>\n",
       "      <td>1</td>\n",
       "      <td>6</td>\n",
       "      <td>30</td>\n",
       "      <td>male</td>\n",
       "      <td>9</td>\n",
       "      <td>465</td>\n",
       "      <td>信樂團 (Shin Band)</td>\n",
       "      <td>Keith Stuart</td>\n",
       "      <td>方文山</td>\n",
       "      <td>3</td>\n",
       "      <td>千年之戀</td>\n",
       "      <td>TWA770400202</td>\n",
       "      <td>0.457657</td>\n",
       "    </tr>\n",
       "    <tr>\n",
       "      <th>1</th>\n",
       "      <td>2AuaeP5blev17Z+QKcNOI7TSRywy1UDgo+SBrH5Cpco=</td>\n",
       "      <td>giLg43LpLYtKJj8aKQehu0auImYZpfPgA3gycfKgupg=</td>\n",
       "      <td>discover</td>\n",
       "      <td>Album more</td>\n",
       "      <td>album</td>\n",
       "      <td>0</td>\n",
       "      <td>8</td>\n",
       "      <td>22</td>\n",
       "      <td>male</td>\n",
       "      <td>7</td>\n",
       "      <td>458</td>\n",
       "      <td>兄弟本色G.U.T.S. (姚中仁、張震嶽、頑童MJ116)</td>\n",
       "      <td>兄弟本色G.U.T.S</td>\n",
       "      <td>兄弟本色G.U.T.S</td>\n",
       "      <td>3</td>\n",
       "      <td>WE WILL RULE 背水一戰</td>\n",
       "      <td>TWA451650901</td>\n",
       "      <td>0.442302</td>\n",
       "    </tr>\n",
       "  </tbody>\n",
       "</table>\n",
       "</div>"
      ],
      "text/plain": [
       "                                           msno  \\\n",
       "0  cqmFueF5y1pLXlBTMvPJbkbnJBu8YRneung0Ucd08pU=   \n",
       "1  2AuaeP5blev17Z+QKcNOI7TSRywy1UDgo+SBrH5Cpco=   \n",
       "\n",
       "                                        song_id source_system_tab  \\\n",
       "0  iJI/Hb+Fl6iTlICmCKjV3vQTVJH1wnYVm561SB5Mheg=        my library   \n",
       "1  giLg43LpLYtKJj8aKQehu0auImYZpfPgA3gycfKgupg=          discover   \n",
       "\n",
       "    source_screen_name    source_type  target  city  bd gender  \\\n",
       "0  Local playlist more  local-library       1     6  30   male   \n",
       "1           Album more          album       0     8  22   male   \n",
       "\n",
       "   registered_via genre_ids                     artist_name      composer  \\\n",
       "0               9       465                 信樂團 (Shin Band)  Keith Stuart   \n",
       "1               7       458  兄弟本色G.U.T.S. (姚中仁、張震嶽、頑童MJ116)   兄弟本色G.U.T.S   \n",
       "\n",
       "      lyricist language               name          isrc       dot  \n",
       "0          方文山        3               千年之戀  TWA770400202  0.457657  \n",
       "1  兄弟本色G.U.T.S        3  WE WILL RULE 背水一戰  TWA451650901  0.442302  "
      ]
     },
     "execution_count": 44,
     "metadata": {},
     "output_type": "execute_result"
    }
   ],
   "source": [
    "ds_train.head(2)"
   ]
  },
  {
   "cell_type": "code",
   "execution_count": 45,
   "metadata": {},
   "outputs": [],
   "source": [
    "X_train = X_train.drop(columns=['source_system_tab','source_screen_name','source_type','city','registered_via','isrc','name'])\n",
    "X_test = X_test.drop(columns=['source_system_tab','source_screen_name','source_type','city','registered_via','isrc','name'])"
   ]
  },
  {
   "cell_type": "code",
   "execution_count": 46,
   "metadata": {},
   "outputs": [
    {
     "data": {
      "text/html": [
       "<div>\n",
       "<style scoped>\n",
       "    .dataframe tbody tr th:only-of-type {\n",
       "        vertical-align: middle;\n",
       "    }\n",
       "\n",
       "    .dataframe tbody tr th {\n",
       "        vertical-align: top;\n",
       "    }\n",
       "\n",
       "    .dataframe thead th {\n",
       "        text-align: right;\n",
       "    }\n",
       "</style>\n",
       "<table border=\"1\" class=\"dataframe\">\n",
       "  <thead>\n",
       "    <tr style=\"text-align: right;\">\n",
       "      <th></th>\n",
       "      <th>msno</th>\n",
       "      <th>song_id</th>\n",
       "      <th>bd</th>\n",
       "      <th>gender</th>\n",
       "      <th>genre_ids</th>\n",
       "      <th>artist_name</th>\n",
       "      <th>composer</th>\n",
       "      <th>lyricist</th>\n",
       "      <th>language</th>\n",
       "      <th>dot</th>\n",
       "    </tr>\n",
       "  </thead>\n",
       "  <tbody>\n",
       "    <tr>\n",
       "      <th>268652</th>\n",
       "      <td>q4bs6leMECazAnauABtGtzIwnlvgAzl9xQgQj+iXbec=</td>\n",
       "      <td>KcQ4assZxaXsdizqxGjUSAY7CNc6+6hQzpVsjnWsShQ=</td>\n",
       "      <td>17</td>\n",
       "      <td>male</td>\n",
       "      <td>458</td>\n",
       "      <td>楊凱琳 (Rosie)</td>\n",
       "      <td>艾怡良</td>\n",
       "      <td>黃祖蔭/余琛懋</td>\n",
       "      <td>3</td>\n",
       "      <td>0.350295</td>\n",
       "    </tr>\n",
       "    <tr>\n",
       "      <th>858841</th>\n",
       "      <td>v2mlXIfg5CD4mdF14b4vDDlvkQhb0LTE/kpIX9dgtBM=</td>\n",
       "      <td>KI7z8qz9vNMQFIAaNcTjooCYZd8AZ9DHRk7R2VjnI5A=</td>\n",
       "      <td>0</td>\n",
       "      <td>0</td>\n",
       "      <td>921</td>\n",
       "      <td>Harry Potter</td>\n",
       "      <td>John Williams</td>\n",
       "      <td>nan</td>\n",
       "      <td>52</td>\n",
       "      <td>0.000000</td>\n",
       "    </tr>\n",
       "  </tbody>\n",
       "</table>\n",
       "</div>"
      ],
      "text/plain": [
       "                                                msno  \\\n",
       "268652  q4bs6leMECazAnauABtGtzIwnlvgAzl9xQgQj+iXbec=   \n",
       "858841  v2mlXIfg5CD4mdF14b4vDDlvkQhb0LTE/kpIX9dgtBM=   \n",
       "\n",
       "                                             song_id  bd gender genre_ids  \\\n",
       "268652  KcQ4assZxaXsdizqxGjUSAY7CNc6+6hQzpVsjnWsShQ=  17   male       458   \n",
       "858841  KI7z8qz9vNMQFIAaNcTjooCYZd8AZ9DHRk7R2VjnI5A=   0      0       921   \n",
       "\n",
       "         artist_name       composer lyricist language       dot  \n",
       "268652   楊凱琳 (Rosie)            艾怡良  黃祖蔭/余琛懋        3  0.350295  \n",
       "858841  Harry Potter  John Williams      nan       52  0.000000  "
      ]
     },
     "execution_count": 46,
     "metadata": {},
     "output_type": "execute_result"
    }
   ],
   "source": [
    "X_train.head(2)"
   ]
  },
  {
   "cell_type": "code",
   "execution_count": 47,
   "metadata": {},
   "outputs": [],
   "source": [
    "from catboost import CatBoostClassifier"
   ]
  },
  {
   "cell_type": "code",
   "execution_count": 48,
   "metadata": {},
   "outputs": [],
   "source": [
    "cat_features = [0, 1, 3, 4, 5, 6, 7, 8]"
   ]
  },
  {
   "cell_type": "code",
   "execution_count": 49,
   "metadata": {},
   "outputs": [],
   "source": [
    "clf = CatBoostClassifier(iterations=200, verbose=20, cat_features=cat_features)"
   ]
  },
  {
   "cell_type": "code",
   "execution_count": 50,
   "metadata": {},
   "outputs": [
    {
     "name": "stdout",
     "output_type": "stream",
     "text": [
      "Learning rate set to 0.5\n",
      "0:\tlearn: 0.5514064\ttotal: 2.04s\tremaining: 6m 45s\n",
      "20:\tlearn: 0.4269024\ttotal: 28.6s\tremaining: 4m 3s\n",
      "40:\tlearn: 0.4204123\ttotal: 50.2s\tremaining: 3m 14s\n",
      "60:\tlearn: 0.4165492\ttotal: 1m 16s\tremaining: 2m 53s\n",
      "80:\tlearn: 0.4139222\ttotal: 1m 44s\tremaining: 2m 33s\n",
      "100:\tlearn: 0.4128582\ttotal: 2m 8s\tremaining: 2m 5s\n",
      "120:\tlearn: 0.4121668\ttotal: 2m 28s\tremaining: 1m 37s\n",
      "140:\tlearn: 0.4110987\ttotal: 2m 49s\tremaining: 1m 10s\n",
      "160:\tlearn: 0.4099872\ttotal: 3m 11s\tremaining: 46.4s\n",
      "180:\tlearn: 0.4092582\ttotal: 3m 31s\tremaining: 22.3s\n",
      "199:\tlearn: 0.4087498\ttotal: 3m 54s\tremaining: 0us\n"
     ]
    },
    {
     "data": {
      "text/plain": [
       "<catboost.core.CatBoostClassifier at 0x7fb5be165640>"
      ]
     },
     "execution_count": 50,
     "metadata": {},
     "output_type": "execute_result"
    }
   ],
   "source": [
    "clf.fit(X_train, y_train)"
   ]
  },
  {
   "cell_type": "code",
   "execution_count": 51,
   "metadata": {},
   "outputs": [],
   "source": [
    "prediction = clf.predict(X_test)"
   ]
  },
  {
   "cell_type": "code",
   "execution_count": 52,
   "metadata": {},
   "outputs": [
    {
     "name": "stdout",
     "output_type": "stream",
     "text": [
      "0.8180810744455458\n"
     ]
    }
   ],
   "source": [
    "print(roc_auc_score(y_test, prediction))"
   ]
  },
  {
   "cell_type": "code",
   "execution_count": 53,
   "metadata": {},
   "outputs": [],
   "source": [
    "import shap  # package used to calculate Shap values"
   ]
  },
  {
   "cell_type": "code",
   "execution_count": 54,
   "metadata": {},
   "outputs": [],
   "source": [
    "# Create object that can calculate shap values\n",
    "explainer = shap.TreeExplainer(clf)"
   ]
  },
  {
   "cell_type": "code",
   "execution_count": 55,
   "metadata": {},
   "outputs": [],
   "source": [
    "# Calculate Shap values\n",
    "shap_values = explainer.shap_values(X_test)"
   ]
  },
  {
   "cell_type": "code",
   "execution_count": 56,
   "metadata": {},
   "outputs": [
    {
     "data": {
      "image/png": "[encoded data removed]",
      "text/plain": [
       "<Figure size 576x396 with 2 Axes>"
      ]
     },
     "metadata": {
      "needs_background": "light"
     },
     "output_type": "display_data"
    }
   ],
   "source": [
    "shap.summary_plot(shap_values, X_test)"
   ]
  },
  {
   "cell_type": "markdown",
   "metadata": {},
   "source": [
    "### dot - самый важный признак"
   ]
  },
  {
   "cell_type": "code",
   "execution_count": 57,
   "metadata": {},
   "outputs": [
    {
     "data": {
      "image/png": "[encoded data removed]",
      "text/plain": [
       "<Figure size 576x396 with 1 Axes>"
      ]
     },
     "metadata": {
      "needs_background": "light"
     },
     "output_type": "display_data"
    }
   ],
   "source": [
    "shap.summary_plot(shap_values, X_test, plot_type=\"bar\")"
   ]
  },
  {
   "cell_type": "code",
   "execution_count": 58,
   "metadata": {},
   "outputs": [
    {
     "data": {
      "text/html": [
       "<div>\n",
       "<style scoped>\n",
       "    .dataframe tbody tr th:only-of-type {\n",
       "        vertical-align: middle;\n",
       "    }\n",
       "\n",
       "    .dataframe tbody tr th {\n",
       "        vertical-align: top;\n",
       "    }\n",
       "\n",
       "    .dataframe thead th {\n",
       "        text-align: right;\n",
       "    }\n",
       "</style>\n",
       "<table border=\"1\" class=\"dataframe\">\n",
       "  <thead>\n",
       "    <tr style=\"text-align: right;\">\n",
       "      <th></th>\n",
       "      <th>msno</th>\n",
       "      <th>song_id</th>\n",
       "      <th>bd</th>\n",
       "      <th>gender</th>\n",
       "      <th>genre_ids</th>\n",
       "      <th>artist_name</th>\n",
       "      <th>composer</th>\n",
       "      <th>lyricist</th>\n",
       "      <th>language</th>\n",
       "      <th>dot</th>\n",
       "    </tr>\n",
       "  </thead>\n",
       "  <tbody>\n",
       "    <tr>\n",
       "      <th>268652</th>\n",
       "      <td>q4bs6leMECazAnauABtGtzIwnlvgAzl9xQgQj+iXbec=</td>\n",
       "      <td>KcQ4assZxaXsdizqxGjUSAY7CNc6+6hQzpVsjnWsShQ=</td>\n",
       "      <td>17</td>\n",
       "      <td>male</td>\n",
       "      <td>458</td>\n",
       "      <td>楊凱琳 (Rosie)</td>\n",
       "      <td>艾怡良</td>\n",
       "      <td>黃祖蔭/余琛懋</td>\n",
       "      <td>3</td>\n",
       "      <td>0.350295</td>\n",
       "    </tr>\n",
       "    <tr>\n",
       "      <th>858841</th>\n",
       "      <td>v2mlXIfg5CD4mdF14b4vDDlvkQhb0LTE/kpIX9dgtBM=</td>\n",
       "      <td>KI7z8qz9vNMQFIAaNcTjooCYZd8AZ9DHRk7R2VjnI5A=</td>\n",
       "      <td>0</td>\n",
       "      <td>0</td>\n",
       "      <td>921</td>\n",
       "      <td>Harry Potter</td>\n",
       "      <td>John Williams</td>\n",
       "      <td>nan</td>\n",
       "      <td>52</td>\n",
       "      <td>0.000000</td>\n",
       "    </tr>\n",
       "    <tr>\n",
       "      <th>429955</th>\n",
       "      <td>dZNojW/n4mqxR6RSZt4CMeCnJzzxBYi6n9qQCKbghvE=</td>\n",
       "      <td>pDZyGrBY477Mxs3a4//7hgLyFYWd9nbzKefFYtZ7Tlg=</td>\n",
       "      <td>26</td>\n",
       "      <td>female</td>\n",
       "      <td>465</td>\n",
       "      <td>溫嵐 (Landy Wen)</td>\n",
       "      <td>吳克群</td>\n",
       "      <td>吳克群</td>\n",
       "      <td>3</td>\n",
       "      <td>0.495239</td>\n",
       "    </tr>\n",
       "    <tr>\n",
       "      <th>758726</th>\n",
       "      <td>oep9ywD1QlH2/JXdQ4I/T63g7i5yfaZXlPogr7H0vio=</td>\n",
       "      <td>euRPd0QK1N6YMx48rLV5bs3G7WYj+lpKWgE293Urh5Q=</td>\n",
       "      <td>30</td>\n",
       "      <td>male</td>\n",
       "      <td>465</td>\n",
       "      <td>A-Lin</td>\n",
       "      <td>Lee Hyun Jeong</td>\n",
       "      <td>Lee Kyeong Nam</td>\n",
       "      <td>3</td>\n",
       "      <td>0.311578</td>\n",
       "    </tr>\n",
       "    <tr>\n",
       "      <th>625417</th>\n",
       "      <td>unuBjdkup2r/oiI8h7cNIRWAlleTCsjaYMnFWb25qoA=</td>\n",
       "      <td>CfRfhBa6yM8nq25eFOCdFeuIaWtU9sVPi4YuBRHt0XY=</td>\n",
       "      <td>25</td>\n",
       "      <td>male</td>\n",
       "      <td>465</td>\n",
       "      <td>范瑋琪 (Christine Fan)</td>\n",
       "      <td>黃丹儀</td>\n",
       "      <td>陳淑和</td>\n",
       "      <td>3</td>\n",
       "      <td>0.230186</td>\n",
       "    </tr>\n",
       "    <tr>\n",
       "      <th>376777</th>\n",
       "      <td>YTVaW102vZnK0RMH+Krc/7X9bB56yD080pAIn0FOD8M=</td>\n",
       "      <td>M9rAajz4dYuRhZ7jLvf9RRayVA3os61X/XXHEuW4giA=</td>\n",
       "      <td>19</td>\n",
       "      <td>male</td>\n",
       "      <td>465</td>\n",
       "      <td>林俊傑 (JJ Lin)</td>\n",
       "      <td>JJ Lin</td>\n",
       "      <td>Lin Qiu Li</td>\n",
       "      <td>3</td>\n",
       "      <td>0.488962</td>\n",
       "    </tr>\n",
       "    <tr>\n",
       "      <th>199603</th>\n",
       "      <td>EFnGqkXBEurexJDYlFv3rjz14DlqsQOLOnHnyNPdtw0=</td>\n",
       "      <td>SGq9z/915UK7lh2/JXkFA/pxerqrkDFtnhlZFc/G5R0=</td>\n",
       "      <td>26</td>\n",
       "      <td>male</td>\n",
       "      <td>921</td>\n",
       "      <td>Crush</td>\n",
       "      <td>nan</td>\n",
       "      <td>nan</td>\n",
       "      <td>31</td>\n",
       "      <td>0.366048</td>\n",
       "    </tr>\n",
       "    <tr>\n",
       "      <th>286149</th>\n",
       "      <td>6bwk5TTaA1YSOmPoxDgBBlV5CrZJEar2C6SxwT5nDrU=</td>\n",
       "      <td>MlRnS/kguZ56UFejtWP/ib9zQMEJnsV5wFPr7sM9MIE=</td>\n",
       "      <td>32</td>\n",
       "      <td>male</td>\n",
       "      <td>465</td>\n",
       "      <td>嚴爵 (Yen-j)</td>\n",
       "      <td>嚴爵</td>\n",
       "      <td>嚴爵</td>\n",
       "      <td>3</td>\n",
       "      <td>0.453547</td>\n",
       "    </tr>\n",
       "    <tr>\n",
       "      <th>198783</th>\n",
       "      <td>8kkU82JaU54SwSqoc/gTAPUT1JqLJhqJfLPPQNeILIE=</td>\n",
       "      <td>6LdT9BiGIlQ3rJped7PACqnrzstFXz8dXD6MmmsA8uI=</td>\n",
       "      <td>27</td>\n",
       "      <td>female</td>\n",
       "      <td>465</td>\n",
       "      <td>陳奕迅 (Eason Chan)</td>\n",
       "      <td>Christopher Chak</td>\n",
       "      <td>nan</td>\n",
       "      <td>3</td>\n",
       "      <td>0.682179</td>\n",
       "    </tr>\n",
       "    <tr>\n",
       "      <th>460681</th>\n",
       "      <td>H/MB+uttGlGIMr7qru4HYG4dVbh0e1mBuoryBOKz/RU=</td>\n",
       "      <td>TdvzCUfK+yPymRSabpVGPdFKLaAs3/uQ0gaRGozwiSw=</td>\n",
       "      <td>25</td>\n",
       "      <td>male</td>\n",
       "      <td>465</td>\n",
       "      <td>鄭秀文 (Sammi Cheng)</td>\n",
       "      <td>Choi Joon Young</td>\n",
       "      <td>Liao Ying Ru</td>\n",
       "      <td>3</td>\n",
       "      <td>0.368319</td>\n",
       "    </tr>\n",
       "  </tbody>\n",
       "</table>\n",
       "</div>"
      ],
      "text/plain": [
       "                                                msno  \\\n",
       "268652  q4bs6leMECazAnauABtGtzIwnlvgAzl9xQgQj+iXbec=   \n",
       "858841  v2mlXIfg5CD4mdF14b4vDDlvkQhb0LTE/kpIX9dgtBM=   \n",
       "429955  dZNojW/n4mqxR6RSZt4CMeCnJzzxBYi6n9qQCKbghvE=   \n",
       "758726  oep9ywD1QlH2/JXdQ4I/T63g7i5yfaZXlPogr7H0vio=   \n",
       "625417  unuBjdkup2r/oiI8h7cNIRWAlleTCsjaYMnFWb25qoA=   \n",
       "376777  YTVaW102vZnK0RMH+Krc/7X9bB56yD080pAIn0FOD8M=   \n",
       "199603  EFnGqkXBEurexJDYlFv3rjz14DlqsQOLOnHnyNPdtw0=   \n",
       "286149  6bwk5TTaA1YSOmPoxDgBBlV5CrZJEar2C6SxwT5nDrU=   \n",
       "198783  8kkU82JaU54SwSqoc/gTAPUT1JqLJhqJfLPPQNeILIE=   \n",
       "460681  H/MB+uttGlGIMr7qru4HYG4dVbh0e1mBuoryBOKz/RU=   \n",
       "\n",
       "                                             song_id  bd  gender genre_ids  \\\n",
       "268652  KcQ4assZxaXsdizqxGjUSAY7CNc6+6hQzpVsjnWsShQ=  17    male       458   \n",
       "858841  KI7z8qz9vNMQFIAaNcTjooCYZd8AZ9DHRk7R2VjnI5A=   0       0       921   \n",
       "429955  pDZyGrBY477Mxs3a4//7hgLyFYWd9nbzKefFYtZ7Tlg=  26  female       465   \n",
       "758726  euRPd0QK1N6YMx48rLV5bs3G7WYj+lpKWgE293Urh5Q=  30    male       465   \n",
       "625417  CfRfhBa6yM8nq25eFOCdFeuIaWtU9sVPi4YuBRHt0XY=  25    male       465   \n",
       "376777  M9rAajz4dYuRhZ7jLvf9RRayVA3os61X/XXHEuW4giA=  19    male       465   \n",
       "199603  SGq9z/915UK7lh2/JXkFA/pxerqrkDFtnhlZFc/G5R0=  26    male       921   \n",
       "286149  MlRnS/kguZ56UFejtWP/ib9zQMEJnsV5wFPr7sM9MIE=  32    male       465   \n",
       "198783  6LdT9BiGIlQ3rJped7PACqnrzstFXz8dXD6MmmsA8uI=  27  female       465   \n",
       "460681  TdvzCUfK+yPymRSabpVGPdFKLaAs3/uQ0gaRGozwiSw=  25    male       465   \n",
       "\n",
       "                artist_name          composer        lyricist language  \\\n",
       "268652          楊凱琳 (Rosie)               艾怡良         黃祖蔭/余琛懋        3   \n",
       "858841         Harry Potter     John Williams             nan       52   \n",
       "429955       溫嵐 (Landy Wen)               吳克群             吳克群        3   \n",
       "758726                A-Lin    Lee Hyun Jeong  Lee Kyeong Nam        3   \n",
       "625417  范瑋琪 (Christine Fan)               黃丹儀             陳淑和        3   \n",
       "376777         林俊傑 (JJ Lin)            JJ Lin      Lin Qiu Li        3   \n",
       "199603                Crush               nan             nan       31   \n",
       "286149           嚴爵 (Yen-j)                嚴爵              嚴爵        3   \n",
       "198783     陳奕迅 (Eason Chan)  Christopher Chak             nan        3   \n",
       "460681    鄭秀文 (Sammi Cheng)   Choi Joon Young    Liao Ying Ru        3   \n",
       "\n",
       "             dot  \n",
       "268652  0.350295  \n",
       "858841  0.000000  \n",
       "429955  0.495239  \n",
       "758726  0.311578  \n",
       "625417  0.230186  \n",
       "376777  0.488962  \n",
       "199603  0.366048  \n",
       "286149  0.453547  \n",
       "198783  0.682179  \n",
       "460681  0.368319  "
      ]
     },
     "execution_count": 58,
     "metadata": {},
     "output_type": "execute_result"
    }
   ],
   "source": [
    "X_train.head(10)"
   ]
  },
  {
   "cell_type": "code",
   "execution_count": null,
   "metadata": {},
   "outputs": [],
   "source": []
  },
  {
   "cell_type": "code",
   "execution_count": null,
   "metadata": {},
   "outputs": [],
   "source": []
  },
  {
   "cell_type": "code",
   "execution_count": null,
   "metadata": {},
   "outputs": [],
   "source": []
  },
  {
   "cell_type": "code",
   "execution_count": null,
   "metadata": {},
   "outputs": [],
   "source": []
  },
  {
   "cell_type": "code",
   "execution_count": null,
   "metadata": {},
   "outputs": [],
   "source": []
  },
  {
   "cell_type": "code",
   "execution_count": null,
   "metadata": {},
   "outputs": [],
   "source": []
  },
  {
   "cell_type": "code",
   "execution_count": null,
   "metadata": {},
   "outputs": [],
   "source": []
  },
  {
   "cell_type": "code",
   "execution_count": null,
   "metadata": {},
   "outputs": [],
   "source": []
  },
  {
   "cell_type": "code",
   "execution_count": null,
   "metadata": {},
   "outputs": [],
   "source": []
  },
  {
   "cell_type": "code",
   "execution_count": null,
   "metadata": {},
   "outputs": [],
   "source": []
  },
  {
   "cell_type": "code",
   "execution_count": null,
   "metadata": {},
   "outputs": [],
   "source": []
  },
  {
   "cell_type": "code",
   "execution_count": null,
   "metadata": {},
   "outputs": [],
   "source": []
  },
  {
   "cell_type": "code",
   "execution_count": null,
   "metadata": {},
   "outputs": [],
   "source": []
  },
  {
   "cell_type": "code",
   "execution_count": null,
   "metadata": {},
   "outputs": [],
   "source": []
  }
 ],
 "metadata": {
  "kernelspec": {
   "display_name": "Python 3",
   "language": "python",
   "name": "python3"
  },
  "language_info": {
   "codemirror_mode": {
    "name": "ipython",
    "version": 3
   },
   "file_extension": ".py",
   "mimetype": "text/x-python",
   "name": "python",
   "nbconvert_exporter": "python",
   "pygments_lexer": "ipython3",
   "version": "3.8.5"
  }
 },
 "nbformat": 4,
 "nbformat_minor": 4
}
