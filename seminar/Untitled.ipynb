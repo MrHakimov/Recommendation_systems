{
 "cells": [
  {
   "cell_type": "code",
   "execution_count": 1,
   "metadata": {},
   "outputs": [],
   "source": [
    "from tqdm import tqdm, trange\n",
    "import argparse\n",
    "import numpy as np\n",
    "\n",
    "from models import MFModel\n",
    "from neural_collaborative_filtering.Dataset import Dataset\n",
    "from neural_collaborative_filtering.evaluate import evaluate_model\n"
   ]
  },
  {
   "cell_type": "code",
   "execution_count": 2,
   "metadata": {},
   "outputs": [],
   "source": [
    "data = 'ds/ml-1m'\n",
    "epochs = 10\n",
    "regularization = 0.02\n",
    "negatives = 8\n",
    "embedding_dim = 16\n",
    "learning_rate = 0.001\n",
    "stddev = 0.1"
   ]
  },
  {
   "cell_type": "code",
   "execution_count": 3,
   "metadata": {},
   "outputs": [],
   "source": [
    "dataset = Dataset(data)"
   ]
  },
  {
   "cell_type": "code",
   "execution_count": 4,
   "metadata": {},
   "outputs": [],
   "source": [
    "train_pos_pairs = np.column_stack(dataset.trainMatrix.nonzero())\n",
    "test_ratings, test_negatives = (dataset.testRatings, dataset.testNegatives)"
   ]
  },
  {
   "cell_type": "code",
   "execution_count": 5,
   "metadata": {},
   "outputs": [],
   "source": [
    "model = MFModel(dataset.num_users, dataset.num_items, embedding_dim, regularization, stddev)"
   ]
  },
  {
   "cell_type": "code",
   "execution_count": 6,
   "metadata": {},
   "outputs": [],
   "source": [
    "def evaluate(model, test_ratings, test_negatives, K=10):\n",
    "    (hits, ndcgs) = evaluate_model(model, test_ratings, test_negatives, K=K,\n",
    "                                   num_thread=1)\n",
    "    return np.array(hits).mean(), np.array(ndcgs).mean()"
   ]
  },
  {
   "cell_type": "code",
   "execution_count": 7,
   "metadata": {},
   "outputs": [
    {
     "name": "stdout",
     "output_type": "stream",
     "text": [
      "Epoch    0:\t HR=0.1002, NDCG=0.0453\t\n"
     ]
    }
   ],
   "source": [
    "hr, ndcg = evaluate(model, test_ratings, test_negatives, K=10)\n",
    "print('Epoch %4d:\\t HR=%.4f, NDCG=%.4f\\t' % (0, hr, ndcg))"
   ]
  },
  {
   "cell_type": "code",
   "execution_count": null,
   "metadata": {},
   "outputs": [
    {
     "name": "stderr",
     "output_type": "stream",
     "text": [
      " 10%|█         | 1/10 [05:43<51:35, 343.95s/it]"
     ]
    },
    {
     "name": "stdout",
     "output_type": "stream",
     "text": [
      "Epoch    1:\t HR=0.4503, NDCG=0.2530\t\n"
     ]
    },
    {
     "name": "stderr",
     "output_type": "stream",
     "text": [
      " 20%|██        | 2/10 [11:03<44:53, 336.63s/it]"
     ]
    },
    {
     "name": "stdout",
     "output_type": "stream",
     "text": [
      "Epoch    2:\t HR=0.4515, NDCG=0.2530\t\n"
     ]
    },
    {
     "name": "stderr",
     "output_type": "stream",
     "text": [
      " 30%|███       | 3/10 [16:49<39:35, 339.40s/it]"
     ]
    },
    {
     "name": "stdout",
     "output_type": "stream",
     "text": [
      "Epoch    3:\t HR=0.4510, NDCG=0.2532\t\n"
     ]
    },
    {
     "name": "stderr",
     "output_type": "stream",
     "text": [
      " 40%|████      | 4/10 [22:54<34:43, 347.18s/it]"
     ]
    },
    {
     "name": "stdout",
     "output_type": "stream",
     "text": [
      "Epoch    4:\t HR=0.4525, NDCG=0.2535\t\n"
     ]
    }
   ],
   "source": [
    "for epoch in trange(epochs):\n",
    "    _ = model.fit(train_pos_pairs, learning_rate=learning_rate, num_negatives=negatives)\n",
    "    hr, ndcg = evaluate(model, test_ratings, test_negatives, K=10)\n",
    "    print('Epoch %4d:\\t HR=%.4f, NDCG=%.4f\\t' % (epoch + 1, hr, ndcg))"
   ]
  },
  {
   "cell_type": "code",
   "execution_count": null,
   "metadata": {},
   "outputs": [],
   "source": []
  },
  {
   "cell_type": "code",
   "execution_count": null,
   "metadata": {},
   "outputs": [],
   "source": []
  }
 ],
 "metadata": {
  "kernelspec": {
   "display_name": "PyCharm (Machine Learning)",
   "language": "python",
   "name": "pycharm-2419c8fd"
  },
  "language_info": {
   "codemirror_mode": {
    "name": "ipython",
    "version": 3
   },
   "file_extension": ".py",
   "mimetype": "text/x-python",
   "name": "python",
   "nbconvert_exporter": "python",
   "pygments_lexer": "ipython3",
   "version": "3.7.0"
  }
 },
 "nbformat": 4,
 "nbformat_minor": 4
}
