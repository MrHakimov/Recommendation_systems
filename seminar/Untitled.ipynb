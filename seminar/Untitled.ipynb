{
 "cells": [
  {
   "cell_type": "code",
   "execution_count": null,
   "metadata": {},
   "outputs": [],
   "source": [
    "from tqdm import tqdm, trange\n",
    "import argparse\n",
    "import numpy as np\n",
    "\n",
    "from models import MFModel\n",
    "from models import MLPModel\n",
    "from neural_collaborative_filtering.Dataset import Dataset\n",
    "from neural_collaborative_filtering.evaluate import evaluate_model\n"
   ]
  },
  {
   "cell_type": "code",
   "execution_count": null,
   "metadata": {},
   "outputs": [],
   "source": [
    "data = 'ds/ml-1m'\n",
    "epochs = 64\n",
    "regularization = 0.005\n",
    "negatives = 8\n",
    "embedding_dim = 16\n",
    "learning_rate = 0.002\n",
    "stddev = 0.1"
   ]
  },
  {
   "cell_type": "code",
   "execution_count": null,
   "metadata": {},
   "outputs": [],
   "source": [
    "dataset = Dataset(data)"
   ]
  },
  {
   "cell_type": "code",
   "execution_count": null,
   "metadata": {},
   "outputs": [],
   "source": [
    "train, test_ratings, test_negatives = dataset.trainMatrix, dataset.testRatings, dataset.testNegatives  # For MLP"
   ]
  },
  {
   "cell_type": "code",
   "execution_count": null,
   "metadata": {},
   "outputs": [],
   "source": [
    "# train_pos_pairs = np.column_stack(dataset.trainMatrix.nonzero())\n",
    "# test_ratings, test_negatives = (dataset.testRatings, dataset.testNegatives)"
   ]
  },
  {
   "cell_type": "code",
   "execution_count": null,
   "metadata": {},
   "outputs": [],
   "source": [
    "model = MLPModel(dataset.num_users, dataset.num_items)\n",
    "# model = MFModel(dataset.num_users, dataset.num_items, embedding_dim, regularization, stddev)"
   ]
  },
  {
   "cell_type": "code",
   "execution_count": null,
   "metadata": {},
   "outputs": [],
   "source": [
    "def evaluate(model, test_ratings, test_negatives, K=10):\n",
    "    (hits, ndcgs) = evaluate_model(model, test_ratings, test_negatives, K=K,\n",
    "                                   num_thread=1)\n",
    "    return np.array(hits).mean(), np.array(ndcgs).mean()"
   ]
  },
  {
   "cell_type": "code",
   "execution_count": null,
   "metadata": {},
   "outputs": [],
   "source": [
    "hr, ndcg = evaluate(model, test_ratings, test_negatives, K=10)\n",
    "print('Epoch %4d:\\t HR=%.4f, NDCG=%.4f\\t' % (0, hr, ndcg))"
   ]
  },
  {
   "cell_type": "code",
   "execution_count": null,
   "metadata": {},
   "outputs": [],
   "source": [
    "for epoch in trange(epochs):\n",
    "    _ = model.fit(train, learning_rate=learning_rate, num_negatives=negatives)\n",
    "    hr, ndcg = evaluate(model, test_ratings, test_negatives, K=10)\n",
    "    print('Epoch %4d:\\t HR=%.4f, NDCG=%.4f\\t' % (epoch + 1, hr, ndcg))"
   ]
  },
  {
   "cell_type": "code",
   "execution_count": null,
   "metadata": {},
   "outputs": [],
   "source": [
    "model.save_weights()"
   ]
  },
  {
   "cell_type": "code",
   "execution_count": null,
   "metadata": {},
   "outputs": [],
   "source": []
  }
 ],
 "metadata": {
  "kernelspec": {
   "display_name": "PyCharm (Machine Learning)",
   "language": "python",
   "name": "pycharm-2419c8fd"
  },
  "language_info": {
   "codemirror_mode": {
    "name": "ipython",
    "version": 3
   },
   "file_extension": ".py",
   "mimetype": "text/x-python",
   "name": "python",
   "nbconvert_exporter": "python",
   "pygments_lexer": "ipython3",
   "version": "3.7.0"
  }
 },
 "nbformat": 4,
 "nbformat_minor": 4
}
